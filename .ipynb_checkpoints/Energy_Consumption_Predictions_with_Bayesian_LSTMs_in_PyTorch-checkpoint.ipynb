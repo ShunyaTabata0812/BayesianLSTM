{
 "cells": [
  {
   "cell_type": "markdown",
   "metadata": {
    "colab_type": "text",
    "id": "view-in-github"
   },
   "source": [
    "<a href=\"https://colab.research.google.com/github/PawaritL/BayesianLSTM/blob/master/Energy_Consumption_Predictions_with_Bayesian_LSTMs_in_PyTorch.ipynb\" target=\"_parent\"><img src=\"https://colab.research.google.com/assets/colab-badge.svg\" alt=\"Open In Colab\"/></a>"
   ]
  },
  {
   "cell_type": "markdown",
   "metadata": {
    "colab_type": "text",
    "id": "VHRshe9Y-Q0Q"
   },
   "source": [
    "# Energy Consumption Predictions with Bayesian LSTMs in PyTorch"
   ]
  },
  {
   "cell_type": "markdown",
   "metadata": {
    "colab_type": "text",
    "id": "8GGWUqKU1paW"
   },
   "source": [
    "Author: Pawarit Laosunthara\n",
    "\n",
    "review: Shunya Tabata\n",
    "\n"
   ]
  },
  {
   "cell_type": "markdown",
   "metadata": {
    "colab_type": "text",
    "id": "3FQQioKQ-Tkr"
   },
   "source": [
    "# **Important Note for GitHub Readers:**\n",
    "Please click the **Open in Colab** button above in order to view all interactive visualizations.\n",
    "\n",
    "This notebook demonstrates an implementation of an (Approximate) Bayesian Recurrent Neural Network in PyTorch, originally inspired by the *Deep and Confident Prediction for Time Series at Uber* (https://arxiv.org/pdf/1709.01907.pdf)\n",
    "\n",
    "<br>\n",
    "\n",
    "In this approach, Monte Carlo dropout is used to **approximate** Bayesian inference, allowing our predictions to have explicit uncertainties and confidence intervals. This property makes Bayesian Neural Networks highly appealing to critical applications requiring uncertainty quantification.\n",
    "The *Appliances energy prediction* dataset used in this example is from the UCI Machine Learning Repository (https://archive.ics.uci.edu/ml/datasets/Appliances+energy+prediction)\n",
    "\n",
    "\n",
    "**Note:** this notebook purely serves to demonstrate the implementation of Bayesian LSTMs (Long Short-Term Memory) networks in PyTorch. **Therefore, extensive data exploration and feature engineering is not part of the scope of this investigation**."
   ]
  },
  {
   "cell_type": "markdown",
   "metadata": {
    "colab_type": "text",
    "id": "psI_d17Y_3_9"
   },
   "source": [
    "# Preliminary Data Wrangling"
   ]
  },
  {
   "cell_type": "markdown",
   "metadata": {
    "colab_type": "text",
    "id": "OFY02qDSAbqI"
   },
   "source": [
    "**Selected Columns:**\n",
    "\n",
    "For simplicity and speed when running this notebook, only temporal and autoregressive features are used.\n",
    "\n",
    "- date time year-month-day hour:minute:second, sampled every 10 minutes \\\n",
    "- Appliances, energy use in Wh for the corresponding 10-minute timestamp \\\n",
    "- day_of_week, where Monday corresponds to 0 \\\n",
    "- hour_of_day\n"
   ]
  },
  {
   "cell_type": "code",
   "execution_count": 1,
   "metadata": {
    "colab": {},
    "colab_type": "code",
    "id": "uWNK0BtB2W0E"
   },
   "outputs": [],
   "source": [
    "import pandas as pd"
   ]
  },
  {
   "cell_type": "code",
   "execution_count": 4,
   "metadata": {},
   "outputs": [],
   "source": [
    "energy_df = pd.read_csv('https://archive.ics.uci.edu/ml/machine-learning-databases/00374/energydata_complete.csv')"
   ]
  },
  {
   "cell_type": "code",
   "execution_count": 6,
   "metadata": {},
   "outputs": [
    {
     "data": {
      "text/html": [
       "<div>\n",
       "<style scoped>\n",
       "    .dataframe tbody tr th:only-of-type {\n",
       "        vertical-align: middle;\n",
       "    }\n",
       "\n",
       "    .dataframe tbody tr th {\n",
       "        vertical-align: top;\n",
       "    }\n",
       "\n",
       "    .dataframe thead th {\n",
       "        text-align: right;\n",
       "    }\n",
       "</style>\n",
       "<table border=\"1\" class=\"dataframe\">\n",
       "  <thead>\n",
       "    <tr style=\"text-align: right;\">\n",
       "      <th></th>\n",
       "      <th>date</th>\n",
       "      <th>Appliances</th>\n",
       "      <th>lights</th>\n",
       "      <th>T1</th>\n",
       "      <th>RH_1</th>\n",
       "      <th>T2</th>\n",
       "      <th>RH_2</th>\n",
       "      <th>T3</th>\n",
       "      <th>RH_3</th>\n",
       "      <th>T4</th>\n",
       "      <th>...</th>\n",
       "      <th>T9</th>\n",
       "      <th>RH_9</th>\n",
       "      <th>T_out</th>\n",
       "      <th>Press_mm_hg</th>\n",
       "      <th>RH_out</th>\n",
       "      <th>Windspeed</th>\n",
       "      <th>Visibility</th>\n",
       "      <th>Tdewpoint</th>\n",
       "      <th>rv1</th>\n",
       "      <th>rv2</th>\n",
       "    </tr>\n",
       "  </thead>\n",
       "  <tbody>\n",
       "    <tr>\n",
       "      <th>0</th>\n",
       "      <td>2016-01-11 17:00:00</td>\n",
       "      <td>60</td>\n",
       "      <td>30</td>\n",
       "      <td>19.89</td>\n",
       "      <td>47.596667</td>\n",
       "      <td>19.2</td>\n",
       "      <td>44.790000</td>\n",
       "      <td>19.79</td>\n",
       "      <td>44.730000</td>\n",
       "      <td>19.000000</td>\n",
       "      <td>...</td>\n",
       "      <td>17.033333</td>\n",
       "      <td>45.53</td>\n",
       "      <td>6.600000</td>\n",
       "      <td>733.5</td>\n",
       "      <td>92.0</td>\n",
       "      <td>7.000000</td>\n",
       "      <td>63.000000</td>\n",
       "      <td>5.3</td>\n",
       "      <td>13.275433</td>\n",
       "      <td>13.275433</td>\n",
       "    </tr>\n",
       "    <tr>\n",
       "      <th>1</th>\n",
       "      <td>2016-01-11 17:10:00</td>\n",
       "      <td>60</td>\n",
       "      <td>30</td>\n",
       "      <td>19.89</td>\n",
       "      <td>46.693333</td>\n",
       "      <td>19.2</td>\n",
       "      <td>44.722500</td>\n",
       "      <td>19.79</td>\n",
       "      <td>44.790000</td>\n",
       "      <td>19.000000</td>\n",
       "      <td>...</td>\n",
       "      <td>17.066667</td>\n",
       "      <td>45.56</td>\n",
       "      <td>6.483333</td>\n",
       "      <td>733.6</td>\n",
       "      <td>92.0</td>\n",
       "      <td>6.666667</td>\n",
       "      <td>59.166667</td>\n",
       "      <td>5.2</td>\n",
       "      <td>18.606195</td>\n",
       "      <td>18.606195</td>\n",
       "    </tr>\n",
       "    <tr>\n",
       "      <th>2</th>\n",
       "      <td>2016-01-11 17:20:00</td>\n",
       "      <td>50</td>\n",
       "      <td>30</td>\n",
       "      <td>19.89</td>\n",
       "      <td>46.300000</td>\n",
       "      <td>19.2</td>\n",
       "      <td>44.626667</td>\n",
       "      <td>19.79</td>\n",
       "      <td>44.933333</td>\n",
       "      <td>18.926667</td>\n",
       "      <td>...</td>\n",
       "      <td>17.000000</td>\n",
       "      <td>45.50</td>\n",
       "      <td>6.366667</td>\n",
       "      <td>733.7</td>\n",
       "      <td>92.0</td>\n",
       "      <td>6.333333</td>\n",
       "      <td>55.333333</td>\n",
       "      <td>5.1</td>\n",
       "      <td>28.642668</td>\n",
       "      <td>28.642668</td>\n",
       "    </tr>\n",
       "    <tr>\n",
       "      <th>3</th>\n",
       "      <td>2016-01-11 17:30:00</td>\n",
       "      <td>50</td>\n",
       "      <td>40</td>\n",
       "      <td>19.89</td>\n",
       "      <td>46.066667</td>\n",
       "      <td>19.2</td>\n",
       "      <td>44.590000</td>\n",
       "      <td>19.79</td>\n",
       "      <td>45.000000</td>\n",
       "      <td>18.890000</td>\n",
       "      <td>...</td>\n",
       "      <td>17.000000</td>\n",
       "      <td>45.40</td>\n",
       "      <td>6.250000</td>\n",
       "      <td>733.8</td>\n",
       "      <td>92.0</td>\n",
       "      <td>6.000000</td>\n",
       "      <td>51.500000</td>\n",
       "      <td>5.0</td>\n",
       "      <td>45.410389</td>\n",
       "      <td>45.410389</td>\n",
       "    </tr>\n",
       "    <tr>\n",
       "      <th>4</th>\n",
       "      <td>2016-01-11 17:40:00</td>\n",
       "      <td>60</td>\n",
       "      <td>40</td>\n",
       "      <td>19.89</td>\n",
       "      <td>46.333333</td>\n",
       "      <td>19.2</td>\n",
       "      <td>44.530000</td>\n",
       "      <td>19.79</td>\n",
       "      <td>45.000000</td>\n",
       "      <td>18.890000</td>\n",
       "      <td>...</td>\n",
       "      <td>17.000000</td>\n",
       "      <td>45.40</td>\n",
       "      <td>6.133333</td>\n",
       "      <td>733.9</td>\n",
       "      <td>92.0</td>\n",
       "      <td>5.666667</td>\n",
       "      <td>47.666667</td>\n",
       "      <td>4.9</td>\n",
       "      <td>10.084097</td>\n",
       "      <td>10.084097</td>\n",
       "    </tr>\n",
       "  </tbody>\n",
       "</table>\n",
       "<p>5 rows × 29 columns</p>\n",
       "</div>"
      ],
      "text/plain": [
       "                  date  Appliances  lights     T1       RH_1    T2       RH_2  \\\n",
       "0  2016-01-11 17:00:00          60      30  19.89  47.596667  19.2  44.790000   \n",
       "1  2016-01-11 17:10:00          60      30  19.89  46.693333  19.2  44.722500   \n",
       "2  2016-01-11 17:20:00          50      30  19.89  46.300000  19.2  44.626667   \n",
       "3  2016-01-11 17:30:00          50      40  19.89  46.066667  19.2  44.590000   \n",
       "4  2016-01-11 17:40:00          60      40  19.89  46.333333  19.2  44.530000   \n",
       "\n",
       "      T3       RH_3         T4  ...         T9   RH_9     T_out  Press_mm_hg  \\\n",
       "0  19.79  44.730000  19.000000  ...  17.033333  45.53  6.600000        733.5   \n",
       "1  19.79  44.790000  19.000000  ...  17.066667  45.56  6.483333        733.6   \n",
       "2  19.79  44.933333  18.926667  ...  17.000000  45.50  6.366667        733.7   \n",
       "3  19.79  45.000000  18.890000  ...  17.000000  45.40  6.250000        733.8   \n",
       "4  19.79  45.000000  18.890000  ...  17.000000  45.40  6.133333        733.9   \n",
       "\n",
       "   RH_out  Windspeed  Visibility  Tdewpoint        rv1        rv2  \n",
       "0    92.0   7.000000   63.000000        5.3  13.275433  13.275433  \n",
       "1    92.0   6.666667   59.166667        5.2  18.606195  18.606195  \n",
       "2    92.0   6.333333   55.333333        5.1  28.642668  28.642668  \n",
       "3    92.0   6.000000   51.500000        5.0  45.410389  45.410389  \n",
       "4    92.0   5.666667   47.666667        4.9  10.084097  10.084097  \n",
       "\n",
       "[5 rows x 29 columns]"
      ]
     },
     "execution_count": 6,
     "metadata": {},
     "output_type": "execute_result"
    }
   ],
   "source": [
    "energy_df.head()"
   ]
  },
  {
   "cell_type": "code",
   "execution_count": 10,
   "metadata": {
    "colab": {},
    "colab_type": "code",
    "id": "WDYp3nRh-Bpv"
   },
   "outputs": [],
   "source": [
    "energy_df = pd.read_csv('https://archive.ics.uci.edu/ml/machine-learning-databases/00374/energydata_complete.csv')\n",
    "\n",
    "energy_df['date'] = pd.to_datetime(energy_df['date']) #型の変更\n",
    "\n",
    "energy_df['month'] = energy_df['date'].dt.month.astype(int) #月を取り出す\n",
    "energy_df['day_of_month'] = energy_df['date'].dt.day.astype(int) #日を取り出す\n",
    "\n",
    "# day_of_week=0 corresponds to Monday\n",
    "energy_df['day_of_week'] = energy_df['date'].dt.dayofweek.astype(int) # 月火水木金土日をそれそれ0,1,2,3,4,5,6で表す\n",
    "energy_df['hour_of_day'] = energy_df['date'].dt.hour.astype(int) # 時間を取り出す\n",
    "\n",
    "selected_columns = ['date', 'day_of_week', 'hour_of_day', 'Appliances']# Appliancesは消費量\n",
    "energy_df = energy_df[selected_columns]"
   ]
  },
  {
   "cell_type": "code",
   "execution_count": 11,
   "metadata": {
    "colab": {
     "base_uri": "https://localhost:8080/",
     "height": 204
    },
    "colab_type": "code",
    "id": "vv4cV2qr-E-8",
    "outputId": "6b5b7cc9-6d47-477b-a089-912983114bcc",
    "scrolled": true
   },
   "outputs": [
    {
     "data": {
      "text/html": [
       "<div>\n",
       "<style scoped>\n",
       "    .dataframe tbody tr th:only-of-type {\n",
       "        vertical-align: middle;\n",
       "    }\n",
       "\n",
       "    .dataframe tbody tr th {\n",
       "        vertical-align: top;\n",
       "    }\n",
       "\n",
       "    .dataframe thead th {\n",
       "        text-align: right;\n",
       "    }\n",
       "</style>\n",
       "<table border=\"1\" class=\"dataframe\">\n",
       "  <thead>\n",
       "    <tr style=\"text-align: right;\">\n",
       "      <th></th>\n",
       "      <th>date</th>\n",
       "      <th>day_of_week</th>\n",
       "      <th>hour_of_day</th>\n",
       "      <th>Appliances</th>\n",
       "    </tr>\n",
       "  </thead>\n",
       "  <tbody>\n",
       "    <tr>\n",
       "      <th>0</th>\n",
       "      <td>2016-01-11 17:00:00</td>\n",
       "      <td>0</td>\n",
       "      <td>17</td>\n",
       "      <td>60</td>\n",
       "    </tr>\n",
       "    <tr>\n",
       "      <th>1</th>\n",
       "      <td>2016-01-11 17:10:00</td>\n",
       "      <td>0</td>\n",
       "      <td>17</td>\n",
       "      <td>60</td>\n",
       "    </tr>\n",
       "    <tr>\n",
       "      <th>2</th>\n",
       "      <td>2016-01-11 17:20:00</td>\n",
       "      <td>0</td>\n",
       "      <td>17</td>\n",
       "      <td>50</td>\n",
       "    </tr>\n",
       "    <tr>\n",
       "      <th>3</th>\n",
       "      <td>2016-01-11 17:30:00</td>\n",
       "      <td>0</td>\n",
       "      <td>17</td>\n",
       "      <td>50</td>\n",
       "    </tr>\n",
       "    <tr>\n",
       "      <th>4</th>\n",
       "      <td>2016-01-11 17:40:00</td>\n",
       "      <td>0</td>\n",
       "      <td>17</td>\n",
       "      <td>60</td>\n",
       "    </tr>\n",
       "    <tr>\n",
       "      <th>...</th>\n",
       "      <td>...</td>\n",
       "      <td>...</td>\n",
       "      <td>...</td>\n",
       "      <td>...</td>\n",
       "    </tr>\n",
       "    <tr>\n",
       "      <th>19730</th>\n",
       "      <td>2016-05-27 17:20:00</td>\n",
       "      <td>4</td>\n",
       "      <td>17</td>\n",
       "      <td>100</td>\n",
       "    </tr>\n",
       "    <tr>\n",
       "      <th>19731</th>\n",
       "      <td>2016-05-27 17:30:00</td>\n",
       "      <td>4</td>\n",
       "      <td>17</td>\n",
       "      <td>90</td>\n",
       "    </tr>\n",
       "    <tr>\n",
       "      <th>19732</th>\n",
       "      <td>2016-05-27 17:40:00</td>\n",
       "      <td>4</td>\n",
       "      <td>17</td>\n",
       "      <td>270</td>\n",
       "    </tr>\n",
       "    <tr>\n",
       "      <th>19733</th>\n",
       "      <td>2016-05-27 17:50:00</td>\n",
       "      <td>4</td>\n",
       "      <td>17</td>\n",
       "      <td>420</td>\n",
       "    </tr>\n",
       "    <tr>\n",
       "      <th>19734</th>\n",
       "      <td>2016-05-27 18:00:00</td>\n",
       "      <td>4</td>\n",
       "      <td>18</td>\n",
       "      <td>430</td>\n",
       "    </tr>\n",
       "  </tbody>\n",
       "</table>\n",
       "<p>19735 rows × 4 columns</p>\n",
       "</div>"
      ],
      "text/plain": [
       "                     date  day_of_week  hour_of_day  Appliances\n",
       "0     2016-01-11 17:00:00            0           17          60\n",
       "1     2016-01-11 17:10:00            0           17          60\n",
       "2     2016-01-11 17:20:00            0           17          50\n",
       "3     2016-01-11 17:30:00            0           17          50\n",
       "4     2016-01-11 17:40:00            0           17          60\n",
       "...                   ...          ...          ...         ...\n",
       "19730 2016-05-27 17:20:00            4           17         100\n",
       "19731 2016-05-27 17:30:00            4           17          90\n",
       "19732 2016-05-27 17:40:00            4           17         270\n",
       "19733 2016-05-27 17:50:00            4           17         420\n",
       "19734 2016-05-27 18:00:00            4           18         430\n",
       "\n",
       "[19735 rows x 4 columns]"
      ]
     },
     "execution_count": 11,
     "metadata": {},
     "output_type": "execute_result"
    }
   ],
   "source": [
    "energy_df"
   ]
  },
  {
   "cell_type": "markdown",
   "metadata": {
    "colab_type": "text",
    "id": "d8BJQAqaJqv7"
   },
   "source": [
    "## Time Series Transformations\n",
    "\n",
    "1. The dataset is to be re-sampled at an hourly rate for more meaningful analytics.　**どの範囲で移動平均を取るか考える。ここでは１時間ごと**\n",
    "\n",
    "2. **To alleviate exponential effects, the target variable is log-transformed as per the Uber paper.**\n",
    "\n",
    "3. For simplicity and speed when running this notebook, only temporal and autoregressive features, namely `day_of_week`, `hour_of_day`, \\\n",
    "and previous values of `Appliances` are used as features 祝日等の情報を加えられる"
   ]
  },
  {
   "cell_type": "code",
   "execution_count": 14,
   "metadata": {
    "colab": {},
    "colab_type": "code",
    "id": "LcXp9XEaJqXO"
   },
   "outputs": [],
   "source": [
    "import numpy as np\n",
    "\n",
    "resample_df = energy_df.set_index('date').resample('1H').mean()\n",
    "resample_df['date'] = resample_df.index\n",
    "resample_df['log_energy_consumption'] = np.log(resample_df['Appliances'])\n",
    "\n",
    "datetime_columns = ['date', 'day_of_week', 'hour_of_day']\n",
    "target_column = 'log_energy_consumption'\n",
    "\n",
    "feature_columns = datetime_columns + ['log_energy_consumption']\n",
    "\n",
    "resample_df = resample_df[feature_columns]"
   ]
  },
  {
   "cell_type": "code",
   "execution_count": 19,
   "metadata": {
    "colab": {
     "base_uri": "https://localhost:8080/",
     "height": 617
    },
    "colab_type": "code",
    "id": "tY1pfEIGDvvc",
    "outputId": "8e2c1b9a-7ba9-4519-ff66-d280c05095a7"
   },
   "outputs": [
    {
     "data": {
      "application/vnd.plotly.v1+json": {
       "config": {
        "plotlyServerURL": "https://plot.ly"
       },
       "data": [
        {
         "hovertemplate": "day_of_week=0.0<br>date=%{x}<br>log_energy_consumption=%{y}<extra></extra>",
         "legendgroup": "0.0",
         "line": {
          "color": "#636efa",
          "dash": "solid"
         },
         "mode": "lines",
         "name": "0.0",
         "orientation": "v",
         "showlegend": true,
         "type": "scatter",
         "x": [
          "2016-01-11T17:00:00",
          "2016-01-11T18:00:00",
          "2016-01-11T19:00:00",
          "2016-01-11T20:00:00",
          "2016-01-11T21:00:00",
          "2016-01-11T22:00:00",
          "2016-01-11T23:00:00"
         ],
         "xaxis": "x",
         "y": [
          4.007333185232471,
          5.174264717878057,
          5.155216522907363,
          4.8283137373023015,
          4.637960008811082,
          5.585999438999818,
          4.037186148382152
         ],
         "yaxis": "y"
        },
        {
         "hovertemplate": "day_of_week=1.0<br>date=%{x}<br>log_energy_consumption=%{y}<extra></extra>",
         "legendgroup": "1.0",
         "line": {
          "color": "#EF553B",
          "dash": "solid"
         },
         "mode": "lines",
         "name": "1.0",
         "orientation": "v",
         "showlegend": true,
         "type": "scatter",
         "x": [
          "2016-01-12T00:00:00",
          "2016-01-12T01:00:00",
          "2016-01-12T02:00:00",
          "2016-01-12T03:00:00",
          "2016-01-12T04:00:00",
          "2016-01-12T05:00:00",
          "2016-01-12T06:00:00",
          "2016-01-12T07:00:00",
          "2016-01-12T08:00:00",
          "2016-01-12T09:00:00",
          "2016-01-12T10:00:00",
          "2016-01-12T11:00:00",
          "2016-01-12T12:00:00",
          "2016-01-12T13:00:00",
          "2016-01-12T14:00:00",
          "2016-01-12T15:00:00",
          "2016-01-12T16:00:00",
          "2016-01-12T17:00:00",
          "2016-01-12T18:00:00",
          "2016-01-12T19:00:00",
          "2016-01-12T20:00:00",
          "2016-01-12T21:00:00",
          "2016-01-12T22:00:00",
          "2016-01-12T23:00:00"
         ],
         "xaxis": "x",
         "y": [
          4.953476880256307,
          5.12594614060725,
          3.8066624897703196,
          3.5553480614894135,
          3.8066624897703196,
          3.7689221617874726,
          3.6888794541139363,
          4.037186148382152,
          4.4620693423474185,
          3.7689221617874726,
          5.438079308923196,
          4.007333185232471,
          5.2293244950610855,
          5.02168513028284,
          4.917544871030244,
          3.6018680771243066,
          3.6888794541139363,
          5.386022946967143,
          4.0661736852554045,
          4.007333185232471,
          3.9448128282511368,
          3.7297014486341915,
          3.8430301339411947,
          3.7689221617874726
         ],
         "yaxis": "y"
        },
        {
         "hovertemplate": "day_of_week=2.0<br>date=%{x}<br>log_energy_consumption=%{y}<extra></extra>",
         "legendgroup": "2.0",
         "line": {
          "color": "#00cc96",
          "dash": "solid"
         },
         "mode": "lines",
         "name": "2.0",
         "orientation": "v",
         "showlegend": true,
         "type": "scatter",
         "x": [
          "2016-01-13T00:00:00",
          "2016-01-13T01:00:00",
          "2016-01-13T02:00:00",
          "2016-01-13T03:00:00",
          "2016-01-13T04:00:00",
          "2016-01-13T05:00:00",
          "2016-01-13T06:00:00",
          "2016-01-13T07:00:00",
          "2016-01-13T08:00:00",
          "2016-01-13T09:00:00",
          "2016-01-13T10:00:00",
          "2016-01-13T11:00:00",
          "2016-01-13T12:00:00",
          "2016-01-13T13:00:00",
          "2016-01-13T14:00:00",
          "2016-01-13T15:00:00",
          "2016-01-13T16:00:00",
          "2016-01-13T17:00:00",
          "2016-01-13T18:00:00",
          "2016-01-13T19:00:00",
          "2016-01-13T20:00:00",
          "2016-01-13T21:00:00",
          "2016-01-13T22:00:00",
          "2016-01-13T23:00:00"
         ],
         "xaxis": "x",
         "y": [
          3.455264602932431,
          3.8781214537524646,
          3.8066624897703196,
          3.455264602932431,
          3.8066624897703196,
          3.7297014486341915,
          4.199705077879927,
          4.148411783492376,
          5.339139361068292,
          5.393627546352362,
          4.199705077879927,
          4.0943445622221,
          3.7297014486341915,
          3.5553480614894135,
          3.8066624897703196,
          3.7297014486341915,
          4.382026634673881,
          4.5712686343124105,
          4.715518243156957,
          5.362855887685608,
          5.51477192971145,
          5.74726758659594,
          4.880273476233012,
          3.7297014486341915
         ],
         "yaxis": "y"
        },
        {
         "hovertemplate": "day_of_week=3.0<br>date=%{x}<br>log_energy_consumption=%{y}<extra></extra>",
         "legendgroup": "3.0",
         "line": {
          "color": "#ab63fa",
          "dash": "solid"
         },
         "mode": "lines",
         "name": "3.0",
         "orientation": "v",
         "showlegend": true,
         "type": "scatter",
         "x": [
          "2016-01-14T00:00:00",
          "2016-01-14T01:00:00",
          "2016-01-14T02:00:00",
          "2016-01-14T03:00:00",
          "2016-01-14T04:00:00",
          "2016-01-14T05:00:00",
          "2016-01-14T06:00:00",
          "2016-01-14T07:00:00",
          "2016-01-14T08:00:00",
          "2016-01-14T09:00:00",
          "2016-01-14T10:00:00",
          "2016-01-14T11:00:00",
          "2016-01-14T12:00:00",
          "2016-01-14T13:00:00",
          "2016-01-14T14:00:00",
          "2016-01-14T15:00:00",
          "2016-01-14T16:00:00",
          "2016-01-14T17:00:00",
          "2016-01-14T18:00:00",
          "2016-01-14T19:00:00",
          "2016-01-14T20:00:00",
          "2016-01-14T21:00:00",
          "2016-01-14T22:00:00",
          "2016-01-14T23:00:00"
         ],
         "xaxis": "x",
         "y": [
          3.8430301339411947,
          3.6018680771243066,
          3.7689221617874726,
          3.8066624897703196,
          3.5553480614894135,
          3.8066624897703196,
          3.6888794541139363,
          5.423480509502043,
          5.075173815233827,
          5.12594614060725,
          6.288477946988647,
          5.473670254025898,
          5.646624060816253,
          4.248495242049359,
          4.867534450455582,
          3.9448128282511368,
          5.731181448844316,
          6.003887067106539,
          5.378360074221573,
          5.445299556896682,
          4.700480365792417,
          4.75932086581535,
          3.8781214537524646,
          3.6463198396951406
         ],
         "yaxis": "y"
        },
        {
         "hovertemplate": "day_of_week=4.0<br>date=%{x}<br>log_energy_consumption=%{y}<extra></extra>",
         "legendgroup": "4.0",
         "line": {
          "color": "#FFA15A",
          "dash": "solid"
         },
         "mode": "lines",
         "name": "4.0",
         "orientation": "v",
         "showlegend": true,
         "type": "scatter",
         "x": [
          "2016-01-15T00:00:00",
          "2016-01-15T01:00:00",
          "2016-01-15T02:00:00",
          "2016-01-15T03:00:00",
          "2016-01-15T04:00:00",
          "2016-01-15T05:00:00",
          "2016-01-15T06:00:00",
          "2016-01-15T07:00:00",
          "2016-01-15T08:00:00",
          "2016-01-15T09:00:00",
          "2016-01-15T10:00:00",
          "2016-01-15T11:00:00",
          "2016-01-15T12:00:00",
          "2016-01-15T13:00:00",
          "2016-01-15T14:00:00",
          "2016-01-15T15:00:00",
          "2016-01-15T16:00:00",
          "2016-01-15T17:00:00",
          "2016-01-15T18:00:00",
          "2016-01-15T19:00:00",
          "2016-01-15T20:00:00",
          "2016-01-15T21:00:00",
          "2016-01-15T22:00:00",
          "2016-01-15T23:00:00"
         ],
         "xaxis": "x",
         "y": [
          3.9765615265657175,
          3.9448128282511368,
          3.8430301339411947,
          3.7689221617874726,
          3.912023005428146,
          3.912023005428146,
          3.8066624897703196,
          3.9448128282511368,
          5.459585514144159,
          5.331107189371028,
          4.8283137373023015,
          4.8283137373023015,
          5.3471075307174685,
          5.281510248231656,
          4.148411783492376,
          4.037186148382152,
          4.037186148382152,
          4.58836306767171,
          5.628819436182746,
          5.393627546352362,
          5.452468046375295,
          5.438079308923196,
          5.386022946967143,
          4.148411783492376
         ],
         "yaxis": "y"
        },
        {
         "hovertemplate": "day_of_week=5.0<br>date=%{x}<br>log_energy_consumption=%{y}<extra></extra>",
         "legendgroup": "5.0",
         "line": {
          "color": "#19d3f3",
          "dash": "solid"
         },
         "mode": "lines",
         "name": "5.0",
         "orientation": "v",
         "showlegend": true,
         "type": "scatter",
         "x": [
          "2016-01-16T00:00:00",
          "2016-01-16T01:00:00",
          "2016-01-16T02:00:00",
          "2016-01-16T03:00:00",
          "2016-01-16T04:00:00",
          "2016-01-16T05:00:00",
          "2016-01-16T06:00:00",
          "2016-01-16T07:00:00",
          "2016-01-16T08:00:00",
          "2016-01-16T09:00:00",
          "2016-01-16T10:00:00",
          "2016-01-16T11:00:00",
          "2016-01-16T12:00:00",
          "2016-01-16T13:00:00",
          "2016-01-16T14:00:00",
          "2016-01-16T15:00:00",
          "2016-01-16T16:00:00",
          "2016-01-16T17:00:00",
          "2016-01-16T18:00:00",
          "2016-01-16T19:00:00",
          "2016-01-16T20:00:00",
          "2016-01-16T21:00:00",
          "2016-01-16T22:00:00",
          "2016-01-16T23:00:00"
         ],
         "xaxis": "x",
         "y": [
          3.6888794541139363,
          3.9765615265657175,
          3.8430301339411947,
          3.7297014486341915,
          3.912023005428146,
          3.6888794541139363,
          3.9448128282511368,
          5.508037897530106,
          4.941642422609304,
          4.121743536410215,
          4.272025739459553,
          3.9765615265657175,
          4.31748811353631,
          4.4620693423474185,
          4.272025739459553,
          5.339139361068292,
          4.31748811353631,
          5.579729825986222,
          6.159799861927197,
          5.970411137910149,
          4.773505500807306,
          4.787491742782046,
          5.135798437050262,
          4.007333185232471
         ],
         "yaxis": "y"
        },
        {
         "hovertemplate": "day_of_week=6.0<br>date=%{x}<br>log_energy_consumption=%{y}<extra></extra>",
         "legendgroup": "6.0",
         "line": {
          "color": "#FF6692",
          "dash": "solid"
         },
         "mode": "lines",
         "name": "6.0",
         "orientation": "v",
         "showlegend": true,
         "type": "scatter",
         "x": [
          "2016-01-17T00:00:00",
          "2016-01-17T01:00:00",
          "2016-01-17T02:00:00",
          "2016-01-17T03:00:00",
          "2016-01-17T04:00:00",
          "2016-01-17T05:00:00",
          "2016-01-17T06:00:00",
          "2016-01-17T07:00:00",
          "2016-01-17T08:00:00",
          "2016-01-17T09:00:00",
          "2016-01-17T10:00:00",
          "2016-01-17T11:00:00",
          "2016-01-17T12:00:00",
          "2016-01-17T13:00:00",
          "2016-01-17T14:00:00",
          "2016-01-17T15:00:00",
          "2016-01-17T16:00:00",
          "2016-01-17T17:00:00",
          "2016-01-17T18:00:00",
          "2016-01-17T19:00:00",
          "2016-01-17T20:00:00",
          "2016-01-17T21:00:00",
          "2016-01-17T22:00:00"
         ],
         "xaxis": "x",
         "y": [
          3.8430301339411947,
          3.9448128282511368,
          3.7689221617874726,
          3.912023005428146,
          3.9448128282511368,
          3.7689221617874726,
          3.8066624897703196,
          5.853159875730801,
          5.604575824572753,
          5.675611597689505,
          4.499809670330265,
          5.76309905181262,
          4.773505500807306,
          5.135798437050262,
          4.929666231562589,
          4.402645921876617,
          4.402645921876617,
          6.12029741895095,
          5.592229988750454,
          4.621699487939302,
          4.700480365792417,
          4.867534450455582,
          4.007333185232471
         ],
         "yaxis": "y"
        }
       ],
       "layout": {
        "legend": {
         "title": {
          "text": "day_of_week"
         },
         "tracegroupgap": 0
        },
        "template": {
         "data": {
          "bar": [
           {
            "error_x": {
             "color": "#2a3f5f"
            },
            "error_y": {
             "color": "#2a3f5f"
            },
            "marker": {
             "line": {
              "color": "#E5ECF6",
              "width": 0.5
             }
            },
            "type": "bar"
           }
          ],
          "barpolar": [
           {
            "marker": {
             "line": {
              "color": "#E5ECF6",
              "width": 0.5
             }
            },
            "type": "barpolar"
           }
          ],
          "carpet": [
           {
            "aaxis": {
             "endlinecolor": "#2a3f5f",
             "gridcolor": "white",
             "linecolor": "white",
             "minorgridcolor": "white",
             "startlinecolor": "#2a3f5f"
            },
            "baxis": {
             "endlinecolor": "#2a3f5f",
             "gridcolor": "white",
             "linecolor": "white",
             "minorgridcolor": "white",
             "startlinecolor": "#2a3f5f"
            },
            "type": "carpet"
           }
          ],
          "choropleth": [
           {
            "colorbar": {
             "outlinewidth": 0,
             "ticks": ""
            },
            "type": "choropleth"
           }
          ],
          "contour": [
           {
            "colorbar": {
             "outlinewidth": 0,
             "ticks": ""
            },
            "colorscale": [
             [
              0,
              "#0d0887"
             ],
             [
              0.1111111111111111,
              "#46039f"
             ],
             [
              0.2222222222222222,
              "#7201a8"
             ],
             [
              0.3333333333333333,
              "#9c179e"
             ],
             [
              0.4444444444444444,
              "#bd3786"
             ],
             [
              0.5555555555555556,
              "#d8576b"
             ],
             [
              0.6666666666666666,
              "#ed7953"
             ],
             [
              0.7777777777777778,
              "#fb9f3a"
             ],
             [
              0.8888888888888888,
              "#fdca26"
             ],
             [
              1,
              "#f0f921"
             ]
            ],
            "type": "contour"
           }
          ],
          "contourcarpet": [
           {
            "colorbar": {
             "outlinewidth": 0,
             "ticks": ""
            },
            "type": "contourcarpet"
           }
          ],
          "heatmap": [
           {
            "colorbar": {
             "outlinewidth": 0,
             "ticks": ""
            },
            "colorscale": [
             [
              0,
              "#0d0887"
             ],
             [
              0.1111111111111111,
              "#46039f"
             ],
             [
              0.2222222222222222,
              "#7201a8"
             ],
             [
              0.3333333333333333,
              "#9c179e"
             ],
             [
              0.4444444444444444,
              "#bd3786"
             ],
             [
              0.5555555555555556,
              "#d8576b"
             ],
             [
              0.6666666666666666,
              "#ed7953"
             ],
             [
              0.7777777777777778,
              "#fb9f3a"
             ],
             [
              0.8888888888888888,
              "#fdca26"
             ],
             [
              1,
              "#f0f921"
             ]
            ],
            "type": "heatmap"
           }
          ],
          "heatmapgl": [
           {
            "colorbar": {
             "outlinewidth": 0,
             "ticks": ""
            },
            "colorscale": [
             [
              0,
              "#0d0887"
             ],
             [
              0.1111111111111111,
              "#46039f"
             ],
             [
              0.2222222222222222,
              "#7201a8"
             ],
             [
              0.3333333333333333,
              "#9c179e"
             ],
             [
              0.4444444444444444,
              "#bd3786"
             ],
             [
              0.5555555555555556,
              "#d8576b"
             ],
             [
              0.6666666666666666,
              "#ed7953"
             ],
             [
              0.7777777777777778,
              "#fb9f3a"
             ],
             [
              0.8888888888888888,
              "#fdca26"
             ],
             [
              1,
              "#f0f921"
             ]
            ],
            "type": "heatmapgl"
           }
          ],
          "histogram": [
           {
            "marker": {
             "colorbar": {
              "outlinewidth": 0,
              "ticks": ""
             }
            },
            "type": "histogram"
           }
          ],
          "histogram2d": [
           {
            "colorbar": {
             "outlinewidth": 0,
             "ticks": ""
            },
            "colorscale": [
             [
              0,
              "#0d0887"
             ],
             [
              0.1111111111111111,
              "#46039f"
             ],
             [
              0.2222222222222222,
              "#7201a8"
             ],
             [
              0.3333333333333333,
              "#9c179e"
             ],
             [
              0.4444444444444444,
              "#bd3786"
             ],
             [
              0.5555555555555556,
              "#d8576b"
             ],
             [
              0.6666666666666666,
              "#ed7953"
             ],
             [
              0.7777777777777778,
              "#fb9f3a"
             ],
             [
              0.8888888888888888,
              "#fdca26"
             ],
             [
              1,
              "#f0f921"
             ]
            ],
            "type": "histogram2d"
           }
          ],
          "histogram2dcontour": [
           {
            "colorbar": {
             "outlinewidth": 0,
             "ticks": ""
            },
            "colorscale": [
             [
              0,
              "#0d0887"
             ],
             [
              0.1111111111111111,
              "#46039f"
             ],
             [
              0.2222222222222222,
              "#7201a8"
             ],
             [
              0.3333333333333333,
              "#9c179e"
             ],
             [
              0.4444444444444444,
              "#bd3786"
             ],
             [
              0.5555555555555556,
              "#d8576b"
             ],
             [
              0.6666666666666666,
              "#ed7953"
             ],
             [
              0.7777777777777778,
              "#fb9f3a"
             ],
             [
              0.8888888888888888,
              "#fdca26"
             ],
             [
              1,
              "#f0f921"
             ]
            ],
            "type": "histogram2dcontour"
           }
          ],
          "mesh3d": [
           {
            "colorbar": {
             "outlinewidth": 0,
             "ticks": ""
            },
            "type": "mesh3d"
           }
          ],
          "parcoords": [
           {
            "line": {
             "colorbar": {
              "outlinewidth": 0,
              "ticks": ""
             }
            },
            "type": "parcoords"
           }
          ],
          "pie": [
           {
            "automargin": true,
            "type": "pie"
           }
          ],
          "scatter": [
           {
            "marker": {
             "colorbar": {
              "outlinewidth": 0,
              "ticks": ""
             }
            },
            "type": "scatter"
           }
          ],
          "scatter3d": [
           {
            "line": {
             "colorbar": {
              "outlinewidth": 0,
              "ticks": ""
             }
            },
            "marker": {
             "colorbar": {
              "outlinewidth": 0,
              "ticks": ""
             }
            },
            "type": "scatter3d"
           }
          ],
          "scattercarpet": [
           {
            "marker": {
             "colorbar": {
              "outlinewidth": 0,
              "ticks": ""
             }
            },
            "type": "scattercarpet"
           }
          ],
          "scattergeo": [
           {
            "marker": {
             "colorbar": {
              "outlinewidth": 0,
              "ticks": ""
             }
            },
            "type": "scattergeo"
           }
          ],
          "scattergl": [
           {
            "marker": {
             "colorbar": {
              "outlinewidth": 0,
              "ticks": ""
             }
            },
            "type": "scattergl"
           }
          ],
          "scattermapbox": [
           {
            "marker": {
             "colorbar": {
              "outlinewidth": 0,
              "ticks": ""
             }
            },
            "type": "scattermapbox"
           }
          ],
          "scatterpolar": [
           {
            "marker": {
             "colorbar": {
              "outlinewidth": 0,
              "ticks": ""
             }
            },
            "type": "scatterpolar"
           }
          ],
          "scatterpolargl": [
           {
            "marker": {
             "colorbar": {
              "outlinewidth": 0,
              "ticks": ""
             }
            },
            "type": "scatterpolargl"
           }
          ],
          "scatterternary": [
           {
            "marker": {
             "colorbar": {
              "outlinewidth": 0,
              "ticks": ""
             }
            },
            "type": "scatterternary"
           }
          ],
          "surface": [
           {
            "colorbar": {
             "outlinewidth": 0,
             "ticks": ""
            },
            "colorscale": [
             [
              0,
              "#0d0887"
             ],
             [
              0.1111111111111111,
              "#46039f"
             ],
             [
              0.2222222222222222,
              "#7201a8"
             ],
             [
              0.3333333333333333,
              "#9c179e"
             ],
             [
              0.4444444444444444,
              "#bd3786"
             ],
             [
              0.5555555555555556,
              "#d8576b"
             ],
             [
              0.6666666666666666,
              "#ed7953"
             ],
             [
              0.7777777777777778,
              "#fb9f3a"
             ],
             [
              0.8888888888888888,
              "#fdca26"
             ],
             [
              1,
              "#f0f921"
             ]
            ],
            "type": "surface"
           }
          ],
          "table": [
           {
            "cells": {
             "fill": {
              "color": "#EBF0F8"
             },
             "line": {
              "color": "white"
             }
            },
            "header": {
             "fill": {
              "color": "#C8D4E3"
             },
             "line": {
              "color": "white"
             }
            },
            "type": "table"
           }
          ]
         },
         "layout": {
          "annotationdefaults": {
           "arrowcolor": "#2a3f5f",
           "arrowhead": 0,
           "arrowwidth": 1
          },
          "coloraxis": {
           "colorbar": {
            "outlinewidth": 0,
            "ticks": ""
           }
          },
          "colorscale": {
           "diverging": [
            [
             0,
             "#8e0152"
            ],
            [
             0.1,
             "#c51b7d"
            ],
            [
             0.2,
             "#de77ae"
            ],
            [
             0.3,
             "#f1b6da"
            ],
            [
             0.4,
             "#fde0ef"
            ],
            [
             0.5,
             "#f7f7f7"
            ],
            [
             0.6,
             "#e6f5d0"
            ],
            [
             0.7,
             "#b8e186"
            ],
            [
             0.8,
             "#7fbc41"
            ],
            [
             0.9,
             "#4d9221"
            ],
            [
             1,
             "#276419"
            ]
           ],
           "sequential": [
            [
             0,
             "#0d0887"
            ],
            [
             0.1111111111111111,
             "#46039f"
            ],
            [
             0.2222222222222222,
             "#7201a8"
            ],
            [
             0.3333333333333333,
             "#9c179e"
            ],
            [
             0.4444444444444444,
             "#bd3786"
            ],
            [
             0.5555555555555556,
             "#d8576b"
            ],
            [
             0.6666666666666666,
             "#ed7953"
            ],
            [
             0.7777777777777778,
             "#fb9f3a"
            ],
            [
             0.8888888888888888,
             "#fdca26"
            ],
            [
             1,
             "#f0f921"
            ]
           ],
           "sequentialminus": [
            [
             0,
             "#0d0887"
            ],
            [
             0.1111111111111111,
             "#46039f"
            ],
            [
             0.2222222222222222,
             "#7201a8"
            ],
            [
             0.3333333333333333,
             "#9c179e"
            ],
            [
             0.4444444444444444,
             "#bd3786"
            ],
            [
             0.5555555555555556,
             "#d8576b"
            ],
            [
             0.6666666666666666,
             "#ed7953"
            ],
            [
             0.7777777777777778,
             "#fb9f3a"
            ],
            [
             0.8888888888888888,
             "#fdca26"
            ],
            [
             1,
             "#f0f921"
            ]
           ]
          },
          "colorway": [
           "#636efa",
           "#EF553B",
           "#00cc96",
           "#ab63fa",
           "#FFA15A",
           "#19d3f3",
           "#FF6692",
           "#B6E880",
           "#FF97FF",
           "#FECB52"
          ],
          "font": {
           "color": "#2a3f5f"
          },
          "geo": {
           "bgcolor": "white",
           "lakecolor": "white",
           "landcolor": "#E5ECF6",
           "showlakes": true,
           "showland": true,
           "subunitcolor": "white"
          },
          "hoverlabel": {
           "align": "left"
          },
          "hovermode": "closest",
          "mapbox": {
           "style": "light"
          },
          "paper_bgcolor": "white",
          "plot_bgcolor": "#E5ECF6",
          "polar": {
           "angularaxis": {
            "gridcolor": "white",
            "linecolor": "white",
            "ticks": ""
           },
           "bgcolor": "#E5ECF6",
           "radialaxis": {
            "gridcolor": "white",
            "linecolor": "white",
            "ticks": ""
           }
          },
          "scene": {
           "xaxis": {
            "backgroundcolor": "#E5ECF6",
            "gridcolor": "white",
            "gridwidth": 2,
            "linecolor": "white",
            "showbackground": true,
            "ticks": "",
            "zerolinecolor": "white"
           },
           "yaxis": {
            "backgroundcolor": "#E5ECF6",
            "gridcolor": "white",
            "gridwidth": 2,
            "linecolor": "white",
            "showbackground": true,
            "ticks": "",
            "zerolinecolor": "white"
           },
           "zaxis": {
            "backgroundcolor": "#E5ECF6",
            "gridcolor": "white",
            "gridwidth": 2,
            "linecolor": "white",
            "showbackground": true,
            "ticks": "",
            "zerolinecolor": "white"
           }
          },
          "shapedefaults": {
           "line": {
            "color": "#2a3f5f"
           }
          },
          "ternary": {
           "aaxis": {
            "gridcolor": "white",
            "linecolor": "white",
            "ticks": ""
           },
           "baxis": {
            "gridcolor": "white",
            "linecolor": "white",
            "ticks": ""
           },
           "bgcolor": "#E5ECF6",
           "caxis": {
            "gridcolor": "white",
            "linecolor": "white",
            "ticks": ""
           }
          },
          "title": {
           "x": 0.05
          },
          "xaxis": {
           "automargin": true,
           "gridcolor": "white",
           "linecolor": "white",
           "ticks": "",
           "title": {
            "standoff": 15
           },
           "zerolinecolor": "white",
           "zerolinewidth": 2
          },
          "yaxis": {
           "automargin": true,
           "gridcolor": "white",
           "linecolor": "white",
           "ticks": "",
           "title": {
            "standoff": 15
           },
           "zerolinecolor": "white",
           "zerolinewidth": 2
          }
         }
        },
        "title": {
         "text": "Log of Appliance Energy Consumption vs Time"
        },
        "xaxis": {
         "anchor": "y",
         "domain": [
          0,
          1
         ],
         "title": {
          "text": "date"
         }
        },
        "yaxis": {
         "anchor": "x",
         "domain": [
          0,
          1
         ],
         "title": {
          "text": "log_energy_consumption"
         }
        }
       }
      },
      "text/html": [
       "<div>\n",
       "        \n",
       "        \n",
       "            <div id=\"79734ef5-bdbd-494f-8d49-5ae4d88b305b\" class=\"plotly-graph-div\" style=\"height:525px; width:100%;\"></div>\n",
       "            <script type=\"text/javascript\">\n",
       "                require([\"plotly\"], function(Plotly) {\n",
       "                    window.PLOTLYENV=window.PLOTLYENV || {};\n",
       "                    \n",
       "                if (document.getElementById(\"79734ef5-bdbd-494f-8d49-5ae4d88b305b\")) {\n",
       "                    Plotly.newPlot(\n",
       "                        '79734ef5-bdbd-494f-8d49-5ae4d88b305b',\n",
       "                        [{\"hovertemplate\": \"day_of_week=0.0<br>date=%{x}<br>log_energy_consumption=%{y}<extra></extra>\", \"legendgroup\": \"0.0\", \"line\": {\"color\": \"#636efa\", \"dash\": \"solid\"}, \"mode\": \"lines\", \"name\": \"0.0\", \"orientation\": \"v\", \"showlegend\": true, \"type\": \"scatter\", \"x\": [\"2016-01-11T17:00:00\", \"2016-01-11T18:00:00\", \"2016-01-11T19:00:00\", \"2016-01-11T20:00:00\", \"2016-01-11T21:00:00\", \"2016-01-11T22:00:00\", \"2016-01-11T23:00:00\"], \"xaxis\": \"x\", \"y\": [4.007333185232471, 5.174264717878057, 5.155216522907363, 4.8283137373023015, 4.637960008811082, 5.585999438999818, 4.037186148382152], \"yaxis\": \"y\"}, {\"hovertemplate\": \"day_of_week=1.0<br>date=%{x}<br>log_energy_consumption=%{y}<extra></extra>\", \"legendgroup\": \"1.0\", \"line\": {\"color\": \"#EF553B\", \"dash\": \"solid\"}, \"mode\": \"lines\", \"name\": \"1.0\", \"orientation\": \"v\", \"showlegend\": true, \"type\": \"scatter\", \"x\": [\"2016-01-12T00:00:00\", \"2016-01-12T01:00:00\", \"2016-01-12T02:00:00\", \"2016-01-12T03:00:00\", \"2016-01-12T04:00:00\", \"2016-01-12T05:00:00\", \"2016-01-12T06:00:00\", \"2016-01-12T07:00:00\", \"2016-01-12T08:00:00\", \"2016-01-12T09:00:00\", \"2016-01-12T10:00:00\", \"2016-01-12T11:00:00\", \"2016-01-12T12:00:00\", \"2016-01-12T13:00:00\", \"2016-01-12T14:00:00\", \"2016-01-12T15:00:00\", \"2016-01-12T16:00:00\", \"2016-01-12T17:00:00\", \"2016-01-12T18:00:00\", \"2016-01-12T19:00:00\", \"2016-01-12T20:00:00\", \"2016-01-12T21:00:00\", \"2016-01-12T22:00:00\", \"2016-01-12T23:00:00\"], \"xaxis\": \"x\", \"y\": [4.953476880256307, 5.12594614060725, 3.8066624897703196, 3.5553480614894135, 3.8066624897703196, 3.7689221617874726, 3.6888794541139363, 4.037186148382152, 4.4620693423474185, 3.7689221617874726, 5.438079308923196, 4.007333185232471, 5.2293244950610855, 5.02168513028284, 4.917544871030244, 3.6018680771243066, 3.6888794541139363, 5.386022946967143, 4.0661736852554045, 4.007333185232471, 3.9448128282511368, 3.7297014486341915, 3.8430301339411947, 3.7689221617874726], \"yaxis\": \"y\"}, {\"hovertemplate\": \"day_of_week=2.0<br>date=%{x}<br>log_energy_consumption=%{y}<extra></extra>\", \"legendgroup\": \"2.0\", \"line\": {\"color\": \"#00cc96\", \"dash\": \"solid\"}, \"mode\": \"lines\", \"name\": \"2.0\", \"orientation\": \"v\", \"showlegend\": true, \"type\": \"scatter\", \"x\": [\"2016-01-13T00:00:00\", \"2016-01-13T01:00:00\", \"2016-01-13T02:00:00\", \"2016-01-13T03:00:00\", \"2016-01-13T04:00:00\", \"2016-01-13T05:00:00\", \"2016-01-13T06:00:00\", \"2016-01-13T07:00:00\", \"2016-01-13T08:00:00\", \"2016-01-13T09:00:00\", \"2016-01-13T10:00:00\", \"2016-01-13T11:00:00\", \"2016-01-13T12:00:00\", \"2016-01-13T13:00:00\", \"2016-01-13T14:00:00\", \"2016-01-13T15:00:00\", \"2016-01-13T16:00:00\", \"2016-01-13T17:00:00\", \"2016-01-13T18:00:00\", \"2016-01-13T19:00:00\", \"2016-01-13T20:00:00\", \"2016-01-13T21:00:00\", \"2016-01-13T22:00:00\", \"2016-01-13T23:00:00\"], \"xaxis\": \"x\", \"y\": [3.455264602932431, 3.8781214537524646, 3.8066624897703196, 3.455264602932431, 3.8066624897703196, 3.7297014486341915, 4.199705077879927, 4.148411783492376, 5.339139361068292, 5.393627546352362, 4.199705077879927, 4.0943445622221, 3.7297014486341915, 3.5553480614894135, 3.8066624897703196, 3.7297014486341915, 4.382026634673881, 4.5712686343124105, 4.715518243156957, 5.362855887685608, 5.51477192971145, 5.74726758659594, 4.880273476233012, 3.7297014486341915], \"yaxis\": \"y\"}, {\"hovertemplate\": \"day_of_week=3.0<br>date=%{x}<br>log_energy_consumption=%{y}<extra></extra>\", \"legendgroup\": \"3.0\", \"line\": {\"color\": \"#ab63fa\", \"dash\": \"solid\"}, \"mode\": \"lines\", \"name\": \"3.0\", \"orientation\": \"v\", \"showlegend\": true, \"type\": \"scatter\", \"x\": [\"2016-01-14T00:00:00\", \"2016-01-14T01:00:00\", \"2016-01-14T02:00:00\", \"2016-01-14T03:00:00\", \"2016-01-14T04:00:00\", \"2016-01-14T05:00:00\", \"2016-01-14T06:00:00\", \"2016-01-14T07:00:00\", \"2016-01-14T08:00:00\", \"2016-01-14T09:00:00\", \"2016-01-14T10:00:00\", \"2016-01-14T11:00:00\", \"2016-01-14T12:00:00\", \"2016-01-14T13:00:00\", \"2016-01-14T14:00:00\", \"2016-01-14T15:00:00\", \"2016-01-14T16:00:00\", \"2016-01-14T17:00:00\", \"2016-01-14T18:00:00\", \"2016-01-14T19:00:00\", \"2016-01-14T20:00:00\", \"2016-01-14T21:00:00\", \"2016-01-14T22:00:00\", \"2016-01-14T23:00:00\"], \"xaxis\": \"x\", \"y\": [3.8430301339411947, 3.6018680771243066, 3.7689221617874726, 3.8066624897703196, 3.5553480614894135, 3.8066624897703196, 3.6888794541139363, 5.423480509502043, 5.075173815233827, 5.12594614060725, 6.288477946988647, 5.473670254025898, 5.646624060816253, 4.248495242049359, 4.867534450455582, 3.9448128282511368, 5.731181448844316, 6.003887067106539, 5.378360074221573, 5.445299556896682, 4.700480365792417, 4.75932086581535, 3.8781214537524646, 3.6463198396951406], \"yaxis\": \"y\"}, {\"hovertemplate\": \"day_of_week=4.0<br>date=%{x}<br>log_energy_consumption=%{y}<extra></extra>\", \"legendgroup\": \"4.0\", \"line\": {\"color\": \"#FFA15A\", \"dash\": \"solid\"}, \"mode\": \"lines\", \"name\": \"4.0\", \"orientation\": \"v\", \"showlegend\": true, \"type\": \"scatter\", \"x\": [\"2016-01-15T00:00:00\", \"2016-01-15T01:00:00\", \"2016-01-15T02:00:00\", \"2016-01-15T03:00:00\", \"2016-01-15T04:00:00\", \"2016-01-15T05:00:00\", \"2016-01-15T06:00:00\", \"2016-01-15T07:00:00\", \"2016-01-15T08:00:00\", \"2016-01-15T09:00:00\", \"2016-01-15T10:00:00\", \"2016-01-15T11:00:00\", \"2016-01-15T12:00:00\", \"2016-01-15T13:00:00\", \"2016-01-15T14:00:00\", \"2016-01-15T15:00:00\", \"2016-01-15T16:00:00\", \"2016-01-15T17:00:00\", \"2016-01-15T18:00:00\", \"2016-01-15T19:00:00\", \"2016-01-15T20:00:00\", \"2016-01-15T21:00:00\", \"2016-01-15T22:00:00\", \"2016-01-15T23:00:00\"], \"xaxis\": \"x\", \"y\": [3.9765615265657175, 3.9448128282511368, 3.8430301339411947, 3.7689221617874726, 3.912023005428146, 3.912023005428146, 3.8066624897703196, 3.9448128282511368, 5.459585514144159, 5.331107189371028, 4.8283137373023015, 4.8283137373023015, 5.3471075307174685, 5.281510248231656, 4.148411783492376, 4.037186148382152, 4.037186148382152, 4.58836306767171, 5.628819436182746, 5.393627546352362, 5.452468046375295, 5.438079308923196, 5.386022946967143, 4.148411783492376], \"yaxis\": \"y\"}, {\"hovertemplate\": \"day_of_week=5.0<br>date=%{x}<br>log_energy_consumption=%{y}<extra></extra>\", \"legendgroup\": \"5.0\", \"line\": {\"color\": \"#19d3f3\", \"dash\": \"solid\"}, \"mode\": \"lines\", \"name\": \"5.0\", \"orientation\": \"v\", \"showlegend\": true, \"type\": \"scatter\", \"x\": [\"2016-01-16T00:00:00\", \"2016-01-16T01:00:00\", \"2016-01-16T02:00:00\", \"2016-01-16T03:00:00\", \"2016-01-16T04:00:00\", \"2016-01-16T05:00:00\", \"2016-01-16T06:00:00\", \"2016-01-16T07:00:00\", \"2016-01-16T08:00:00\", \"2016-01-16T09:00:00\", \"2016-01-16T10:00:00\", \"2016-01-16T11:00:00\", \"2016-01-16T12:00:00\", \"2016-01-16T13:00:00\", \"2016-01-16T14:00:00\", \"2016-01-16T15:00:00\", \"2016-01-16T16:00:00\", \"2016-01-16T17:00:00\", \"2016-01-16T18:00:00\", \"2016-01-16T19:00:00\", \"2016-01-16T20:00:00\", \"2016-01-16T21:00:00\", \"2016-01-16T22:00:00\", \"2016-01-16T23:00:00\"], \"xaxis\": \"x\", \"y\": [3.6888794541139363, 3.9765615265657175, 3.8430301339411947, 3.7297014486341915, 3.912023005428146, 3.6888794541139363, 3.9448128282511368, 5.508037897530106, 4.941642422609304, 4.121743536410215, 4.272025739459553, 3.9765615265657175, 4.31748811353631, 4.4620693423474185, 4.272025739459553, 5.339139361068292, 4.31748811353631, 5.579729825986222, 6.159799861927197, 5.970411137910149, 4.773505500807306, 4.787491742782046, 5.135798437050262, 4.007333185232471], \"yaxis\": \"y\"}, {\"hovertemplate\": \"day_of_week=6.0<br>date=%{x}<br>log_energy_consumption=%{y}<extra></extra>\", \"legendgroup\": \"6.0\", \"line\": {\"color\": \"#FF6692\", \"dash\": \"solid\"}, \"mode\": \"lines\", \"name\": \"6.0\", \"orientation\": \"v\", \"showlegend\": true, \"type\": \"scatter\", \"x\": [\"2016-01-17T00:00:00\", \"2016-01-17T01:00:00\", \"2016-01-17T02:00:00\", \"2016-01-17T03:00:00\", \"2016-01-17T04:00:00\", \"2016-01-17T05:00:00\", \"2016-01-17T06:00:00\", \"2016-01-17T07:00:00\", \"2016-01-17T08:00:00\", \"2016-01-17T09:00:00\", \"2016-01-17T10:00:00\", \"2016-01-17T11:00:00\", \"2016-01-17T12:00:00\", \"2016-01-17T13:00:00\", \"2016-01-17T14:00:00\", \"2016-01-17T15:00:00\", \"2016-01-17T16:00:00\", \"2016-01-17T17:00:00\", \"2016-01-17T18:00:00\", \"2016-01-17T19:00:00\", \"2016-01-17T20:00:00\", \"2016-01-17T21:00:00\", \"2016-01-17T22:00:00\"], \"xaxis\": \"x\", \"y\": [3.8430301339411947, 3.9448128282511368, 3.7689221617874726, 3.912023005428146, 3.9448128282511368, 3.7689221617874726, 3.8066624897703196, 5.853159875730801, 5.604575824572753, 5.675611597689505, 4.499809670330265, 5.76309905181262, 4.773505500807306, 5.135798437050262, 4.929666231562589, 4.402645921876617, 4.402645921876617, 6.12029741895095, 5.592229988750454, 4.621699487939302, 4.700480365792417, 4.867534450455582, 4.007333185232471], \"yaxis\": \"y\"}],\n",
       "                        {\"legend\": {\"title\": {\"text\": \"day_of_week\"}, \"tracegroupgap\": 0}, \"template\": {\"data\": {\"bar\": [{\"error_x\": {\"color\": \"#2a3f5f\"}, \"error_y\": {\"color\": \"#2a3f5f\"}, \"marker\": {\"line\": {\"color\": \"#E5ECF6\", \"width\": 0.5}}, \"type\": \"bar\"}], \"barpolar\": [{\"marker\": {\"line\": {\"color\": \"#E5ECF6\", \"width\": 0.5}}, \"type\": \"barpolar\"}], \"carpet\": [{\"aaxis\": {\"endlinecolor\": \"#2a3f5f\", \"gridcolor\": \"white\", \"linecolor\": \"white\", \"minorgridcolor\": \"white\", \"startlinecolor\": \"#2a3f5f\"}, \"baxis\": {\"endlinecolor\": \"#2a3f5f\", \"gridcolor\": \"white\", \"linecolor\": \"white\", \"minorgridcolor\": \"white\", \"startlinecolor\": \"#2a3f5f\"}, \"type\": \"carpet\"}], \"choropleth\": [{\"colorbar\": {\"outlinewidth\": 0, \"ticks\": \"\"}, \"type\": \"choropleth\"}], \"contour\": [{\"colorbar\": {\"outlinewidth\": 0, \"ticks\": \"\"}, \"colorscale\": [[0.0, \"#0d0887\"], [0.1111111111111111, \"#46039f\"], [0.2222222222222222, \"#7201a8\"], [0.3333333333333333, \"#9c179e\"], [0.4444444444444444, \"#bd3786\"], [0.5555555555555556, \"#d8576b\"], [0.6666666666666666, \"#ed7953\"], [0.7777777777777778, \"#fb9f3a\"], [0.8888888888888888, \"#fdca26\"], [1.0, \"#f0f921\"]], \"type\": \"contour\"}], \"contourcarpet\": [{\"colorbar\": {\"outlinewidth\": 0, \"ticks\": \"\"}, \"type\": \"contourcarpet\"}], \"heatmap\": [{\"colorbar\": {\"outlinewidth\": 0, \"ticks\": \"\"}, \"colorscale\": [[0.0, \"#0d0887\"], [0.1111111111111111, \"#46039f\"], [0.2222222222222222, \"#7201a8\"], [0.3333333333333333, \"#9c179e\"], [0.4444444444444444, \"#bd3786\"], [0.5555555555555556, \"#d8576b\"], [0.6666666666666666, \"#ed7953\"], [0.7777777777777778, \"#fb9f3a\"], [0.8888888888888888, \"#fdca26\"], [1.0, \"#f0f921\"]], \"type\": \"heatmap\"}], \"heatmapgl\": [{\"colorbar\": {\"outlinewidth\": 0, \"ticks\": \"\"}, \"colorscale\": [[0.0, \"#0d0887\"], [0.1111111111111111, \"#46039f\"], [0.2222222222222222, \"#7201a8\"], [0.3333333333333333, \"#9c179e\"], [0.4444444444444444, \"#bd3786\"], [0.5555555555555556, \"#d8576b\"], [0.6666666666666666, \"#ed7953\"], [0.7777777777777778, \"#fb9f3a\"], [0.8888888888888888, \"#fdca26\"], [1.0, \"#f0f921\"]], \"type\": \"heatmapgl\"}], \"histogram\": [{\"marker\": {\"colorbar\": {\"outlinewidth\": 0, \"ticks\": \"\"}}, \"type\": \"histogram\"}], \"histogram2d\": [{\"colorbar\": {\"outlinewidth\": 0, \"ticks\": \"\"}, \"colorscale\": [[0.0, \"#0d0887\"], [0.1111111111111111, \"#46039f\"], [0.2222222222222222, \"#7201a8\"], [0.3333333333333333, \"#9c179e\"], [0.4444444444444444, \"#bd3786\"], [0.5555555555555556, \"#d8576b\"], [0.6666666666666666, \"#ed7953\"], [0.7777777777777778, \"#fb9f3a\"], [0.8888888888888888, \"#fdca26\"], [1.0, \"#f0f921\"]], \"type\": \"histogram2d\"}], \"histogram2dcontour\": [{\"colorbar\": {\"outlinewidth\": 0, \"ticks\": \"\"}, \"colorscale\": [[0.0, \"#0d0887\"], [0.1111111111111111, \"#46039f\"], [0.2222222222222222, \"#7201a8\"], [0.3333333333333333, \"#9c179e\"], [0.4444444444444444, \"#bd3786\"], [0.5555555555555556, \"#d8576b\"], [0.6666666666666666, \"#ed7953\"], [0.7777777777777778, \"#fb9f3a\"], [0.8888888888888888, \"#fdca26\"], [1.0, \"#f0f921\"]], \"type\": \"histogram2dcontour\"}], \"mesh3d\": [{\"colorbar\": {\"outlinewidth\": 0, \"ticks\": \"\"}, \"type\": \"mesh3d\"}], \"parcoords\": [{\"line\": {\"colorbar\": {\"outlinewidth\": 0, \"ticks\": \"\"}}, \"type\": \"parcoords\"}], \"pie\": [{\"automargin\": true, \"type\": \"pie\"}], \"scatter\": [{\"marker\": {\"colorbar\": {\"outlinewidth\": 0, \"ticks\": \"\"}}, \"type\": \"scatter\"}], \"scatter3d\": [{\"line\": {\"colorbar\": {\"outlinewidth\": 0, \"ticks\": \"\"}}, \"marker\": {\"colorbar\": {\"outlinewidth\": 0, \"ticks\": \"\"}}, \"type\": \"scatter3d\"}], \"scattercarpet\": [{\"marker\": {\"colorbar\": {\"outlinewidth\": 0, \"ticks\": \"\"}}, \"type\": \"scattercarpet\"}], \"scattergeo\": [{\"marker\": {\"colorbar\": {\"outlinewidth\": 0, \"ticks\": \"\"}}, \"type\": \"scattergeo\"}], \"scattergl\": [{\"marker\": {\"colorbar\": {\"outlinewidth\": 0, \"ticks\": \"\"}}, \"type\": \"scattergl\"}], \"scattermapbox\": [{\"marker\": {\"colorbar\": {\"outlinewidth\": 0, \"ticks\": \"\"}}, \"type\": \"scattermapbox\"}], \"scatterpolar\": [{\"marker\": {\"colorbar\": {\"outlinewidth\": 0, \"ticks\": \"\"}}, \"type\": \"scatterpolar\"}], \"scatterpolargl\": [{\"marker\": {\"colorbar\": {\"outlinewidth\": 0, \"ticks\": \"\"}}, \"type\": \"scatterpolargl\"}], \"scatterternary\": [{\"marker\": {\"colorbar\": {\"outlinewidth\": 0, \"ticks\": \"\"}}, \"type\": \"scatterternary\"}], \"surface\": [{\"colorbar\": {\"outlinewidth\": 0, \"ticks\": \"\"}, \"colorscale\": [[0.0, \"#0d0887\"], [0.1111111111111111, \"#46039f\"], [0.2222222222222222, \"#7201a8\"], [0.3333333333333333, \"#9c179e\"], [0.4444444444444444, \"#bd3786\"], [0.5555555555555556, \"#d8576b\"], [0.6666666666666666, \"#ed7953\"], [0.7777777777777778, \"#fb9f3a\"], [0.8888888888888888, \"#fdca26\"], [1.0, \"#f0f921\"]], \"type\": \"surface\"}], \"table\": [{\"cells\": {\"fill\": {\"color\": \"#EBF0F8\"}, \"line\": {\"color\": \"white\"}}, \"header\": {\"fill\": {\"color\": \"#C8D4E3\"}, \"line\": {\"color\": \"white\"}}, \"type\": \"table\"}]}, \"layout\": {\"annotationdefaults\": {\"arrowcolor\": \"#2a3f5f\", \"arrowhead\": 0, \"arrowwidth\": 1}, \"coloraxis\": {\"colorbar\": {\"outlinewidth\": 0, \"ticks\": \"\"}}, \"colorscale\": {\"diverging\": [[0, \"#8e0152\"], [0.1, \"#c51b7d\"], [0.2, \"#de77ae\"], [0.3, \"#f1b6da\"], [0.4, \"#fde0ef\"], [0.5, \"#f7f7f7\"], [0.6, \"#e6f5d0\"], [0.7, \"#b8e186\"], [0.8, \"#7fbc41\"], [0.9, \"#4d9221\"], [1, \"#276419\"]], \"sequential\": [[0.0, \"#0d0887\"], [0.1111111111111111, \"#46039f\"], [0.2222222222222222, \"#7201a8\"], [0.3333333333333333, \"#9c179e\"], [0.4444444444444444, \"#bd3786\"], [0.5555555555555556, \"#d8576b\"], [0.6666666666666666, \"#ed7953\"], [0.7777777777777778, \"#fb9f3a\"], [0.8888888888888888, \"#fdca26\"], [1.0, \"#f0f921\"]], \"sequentialminus\": [[0.0, \"#0d0887\"], [0.1111111111111111, \"#46039f\"], [0.2222222222222222, \"#7201a8\"], [0.3333333333333333, \"#9c179e\"], [0.4444444444444444, \"#bd3786\"], [0.5555555555555556, \"#d8576b\"], [0.6666666666666666, \"#ed7953\"], [0.7777777777777778, \"#fb9f3a\"], [0.8888888888888888, \"#fdca26\"], [1.0, \"#f0f921\"]]}, \"colorway\": [\"#636efa\", \"#EF553B\", \"#00cc96\", \"#ab63fa\", \"#FFA15A\", \"#19d3f3\", \"#FF6692\", \"#B6E880\", \"#FF97FF\", \"#FECB52\"], \"font\": {\"color\": \"#2a3f5f\"}, \"geo\": {\"bgcolor\": \"white\", \"lakecolor\": \"white\", \"landcolor\": \"#E5ECF6\", \"showlakes\": true, \"showland\": true, \"subunitcolor\": \"white\"}, \"hoverlabel\": {\"align\": \"left\"}, \"hovermode\": \"closest\", \"mapbox\": {\"style\": \"light\"}, \"paper_bgcolor\": \"white\", \"plot_bgcolor\": \"#E5ECF6\", \"polar\": {\"angularaxis\": {\"gridcolor\": \"white\", \"linecolor\": \"white\", \"ticks\": \"\"}, \"bgcolor\": \"#E5ECF6\", \"radialaxis\": {\"gridcolor\": \"white\", \"linecolor\": \"white\", \"ticks\": \"\"}}, \"scene\": {\"xaxis\": {\"backgroundcolor\": \"#E5ECF6\", \"gridcolor\": \"white\", \"gridwidth\": 2, \"linecolor\": \"white\", \"showbackground\": true, \"ticks\": \"\", \"zerolinecolor\": \"white\"}, \"yaxis\": {\"backgroundcolor\": \"#E5ECF6\", \"gridcolor\": \"white\", \"gridwidth\": 2, \"linecolor\": \"white\", \"showbackground\": true, \"ticks\": \"\", \"zerolinecolor\": \"white\"}, \"zaxis\": {\"backgroundcolor\": \"#E5ECF6\", \"gridcolor\": \"white\", \"gridwidth\": 2, \"linecolor\": \"white\", \"showbackground\": true, \"ticks\": \"\", \"zerolinecolor\": \"white\"}}, \"shapedefaults\": {\"line\": {\"color\": \"#2a3f5f\"}}, \"ternary\": {\"aaxis\": {\"gridcolor\": \"white\", \"linecolor\": \"white\", \"ticks\": \"\"}, \"baxis\": {\"gridcolor\": \"white\", \"linecolor\": \"white\", \"ticks\": \"\"}, \"bgcolor\": \"#E5ECF6\", \"caxis\": {\"gridcolor\": \"white\", \"linecolor\": \"white\", \"ticks\": \"\"}}, \"title\": {\"x\": 0.05}, \"xaxis\": {\"automargin\": true, \"gridcolor\": \"white\", \"linecolor\": \"white\", \"ticks\": \"\", \"title\": {\"standoff\": 15}, \"zerolinecolor\": \"white\", \"zerolinewidth\": 2}, \"yaxis\": {\"automargin\": true, \"gridcolor\": \"white\", \"linecolor\": \"white\", \"ticks\": \"\", \"title\": {\"standoff\": 15}, \"zerolinecolor\": \"white\", \"zerolinewidth\": 2}}}, \"title\": {\"text\": \"Log of Appliance Energy Consumption vs Time\"}, \"xaxis\": {\"anchor\": \"y\", \"domain\": [0.0, 1.0], \"title\": {\"text\": \"date\"}}, \"yaxis\": {\"anchor\": \"x\", \"domain\": [0.0, 1.0], \"title\": {\"text\": \"log_energy_consumption\"}}},\n",
       "                        {\"responsive\": true}\n",
       "                    ).then(function(){\n",
       "                            \n",
       "var gd = document.getElementById('79734ef5-bdbd-494f-8d49-5ae4d88b305b');\n",
       "var x = new MutationObserver(function (mutations, observer) {{\n",
       "        var display = window.getComputedStyle(gd).display;\n",
       "        if (!display || display === 'none') {{\n",
       "            console.log([gd, 'removed!']);\n",
       "            Plotly.purge(gd);\n",
       "            observer.disconnect();\n",
       "        }}\n",
       "}});\n",
       "\n",
       "// Listen for the removal of the full notebook cells\n",
       "var notebookContainer = gd.closest('#notebook-container');\n",
       "if (notebookContainer) {{\n",
       "    x.observe(notebookContainer, {childList: true});\n",
       "}}\n",
       "\n",
       "// Listen for the clearing of the current output cell\n",
       "var outputEl = gd.closest('.output');\n",
       "if (outputEl) {{\n",
       "    x.observe(outputEl, {childList: true});\n",
       "}}\n",
       "\n",
       "                        })\n",
       "                };\n",
       "                });\n",
       "            </script>\n",
       "        </div>"
      ]
     },
     "metadata": {},
     "output_type": "display_data"
    }
   ],
   "source": [
    "import plotly.express as px\n",
    "# For clarity in visualization and presentation, \n",
    "# only consider the first 150 hours of data.\n",
    "plot_length = 150\n",
    "plot_df = resample_df.copy(deep=True).iloc[:plot_length] #浅いコピー　深いコピー　https://qiita.com/snowdrop/items/f132b26b46a94af3cc89\n",
    "\n",
    "fig = px.line(plot_df,\n",
    "              x=\"date\",\n",
    "              y=\"log_energy_consumption\", \n",
    "              color=\"day_of_week\", \n",
    "              title=\"Log of Appliance Energy Consumption vs Time\")\n",
    "fig.show()"
   ]
  },
  {
   "cell_type": "markdown",
   "metadata": {
    "colab_type": "text",
    "id": "aFnQ3txg_2lj"
   },
   "source": [
    "# Prepare Training Data"
   ]
  },
  {
   "cell_type": "markdown",
   "metadata": {
    "colab_type": "text",
    "id": "9gUa6m83NgDn"
   },
   "source": [
    "For this example, we will use sliding windows of 10 points per each window (equivalent to 10 hours) to predict each next point. The window size can be altered via the `sequence_length` variable.\n",
    "\n",
    "Min-Max scaling has also been fitted to the training data to aid the convergence of the neural network. "
   ]
  },
  {
   "cell_type": "code",
   "execution_count": 20,
   "metadata": {
    "colab": {},
    "colab_type": "code",
    "id": "aKQHyh5rRVVj"
   },
   "outputs": [],
   "source": [
    "from sklearn.preprocessing import MinMaxScaler\n",
    "\n",
    "def create_sliding_window(data, sequence_length, stride=1):\n",
    "    X_list, y_list = [], []\n",
    "    for i in range(len(data)):\n",
    "      if (i + sequence_length) < len(data):\n",
    "        X_list.append(data.iloc[i:i+sequence_length:stride, :].values)\n",
    "        y_list.append(data.iloc[i+sequence_length, -1]) #最後から１番目の列　つまり消費量\n",
    "    return np.array(X_list), np.array(y_list)\n",
    "\n",
    "train_split = 0.7 #7割を学習に使う\n",
    "n_train = int(train_split * len(resample_df)) #intは小数点以下切り捨て\n",
    "n_test = len(resample_df) - n_train\n",
    "\n",
    "features = ['day_of_week', 'hour_of_day', 'log_energy_consumption'] #最後から１番目の列を消費量にしておく\n",
    "feature_array = resample_df[features].values\n",
    "\n",
    "# Fit Scaler only on Training features　スケールは学習データのみで行う。　テストデータを用いてはならない。\n",
    "feature_scaler = MinMaxScaler()\n",
    "feature_scaler.fit(feature_array[:n_train])\n",
    "# Fit Scaler only on Training target values\n",
    "target_scaler = MinMaxScaler()\n",
    "target_scaler.fit(feature_array[:n_train, -1].reshape(-1, 1))\n",
    "\n",
    "# Transfom on both Training and Test data\n",
    "scaled_array = pd.DataFrame(feature_scaler.transform(feature_array),\n",
    "                            columns=features)\n",
    "\n",
    "sequence_length = 10\n",
    "X, y = create_sliding_window(scaled_array, \n",
    "                             sequence_length)\n",
    "\n",
    "X_train = X[:n_train]\n",
    "y_train = y[:n_train]\n",
    "\n",
    "X_test = X[n_train:]\n",
    "y_test = y[n_train:]"
   ]
  },
  {
   "cell_type": "code",
   "execution_count": 32,
   "metadata": {},
   "outputs": [
    {
     "data": {
      "text/html": [
       "<div>\n",
       "<style scoped>\n",
       "    .dataframe tbody tr th:only-of-type {\n",
       "        vertical-align: middle;\n",
       "    }\n",
       "\n",
       "    .dataframe tbody tr th {\n",
       "        vertical-align: top;\n",
       "    }\n",
       "\n",
       "    .dataframe thead th {\n",
       "        text-align: right;\n",
       "    }\n",
       "</style>\n",
       "<table border=\"1\" class=\"dataframe\">\n",
       "  <thead>\n",
       "    <tr style=\"text-align: right;\">\n",
       "      <th></th>\n",
       "      <th>day_of_week</th>\n",
       "      <th>hour_of_day</th>\n",
       "      <th>log_energy_consumption</th>\n",
       "    </tr>\n",
       "  </thead>\n",
       "  <tbody>\n",
       "    <tr>\n",
       "      <th>0</th>\n",
       "      <td>0.000000</td>\n",
       "      <td>0.739130</td>\n",
       "      <td>0.216290</td>\n",
       "    </tr>\n",
       "    <tr>\n",
       "      <th>1</th>\n",
       "      <td>0.000000</td>\n",
       "      <td>0.782609</td>\n",
       "      <td>0.596809</td>\n",
       "    </tr>\n",
       "    <tr>\n",
       "      <th>2</th>\n",
       "      <td>0.000000</td>\n",
       "      <td>0.826087</td>\n",
       "      <td>0.590598</td>\n",
       "    </tr>\n",
       "    <tr>\n",
       "      <th>3</th>\n",
       "      <td>0.000000</td>\n",
       "      <td>0.869565</td>\n",
       "      <td>0.484000</td>\n",
       "    </tr>\n",
       "    <tr>\n",
       "      <th>4</th>\n",
       "      <td>0.000000</td>\n",
       "      <td>0.913043</td>\n",
       "      <td>0.421928</td>\n",
       "    </tr>\n",
       "    <tr>\n",
       "      <th>...</th>\n",
       "      <td>...</td>\n",
       "      <td>...</td>\n",
       "      <td>...</td>\n",
       "    </tr>\n",
       "    <tr>\n",
       "      <th>3285</th>\n",
       "      <td>0.666667</td>\n",
       "      <td>0.608696</td>\n",
       "      <td>0.416626</td>\n",
       "    </tr>\n",
       "    <tr>\n",
       "      <th>3286</th>\n",
       "      <td>0.666667</td>\n",
       "      <td>0.652174</td>\n",
       "      <td>0.324594</td>\n",
       "    </tr>\n",
       "    <tr>\n",
       "      <th>3287</th>\n",
       "      <td>0.666667</td>\n",
       "      <td>0.695652</td>\n",
       "      <td>0.509096</td>\n",
       "    </tr>\n",
       "    <tr>\n",
       "      <th>3288</th>\n",
       "      <td>0.666667</td>\n",
       "      <td>0.739130</td>\n",
       "      <td>0.602905</td>\n",
       "    </tr>\n",
       "    <tr>\n",
       "      <th>3289</th>\n",
       "      <td>0.666667</td>\n",
       "      <td>0.782609</td>\n",
       "      <td>0.886869</td>\n",
       "    </tr>\n",
       "  </tbody>\n",
       "</table>\n",
       "<p>3290 rows × 3 columns</p>\n",
       "</div>"
      ],
      "text/plain": [
       "      day_of_week  hour_of_day  log_energy_consumption\n",
       "0        0.000000     0.739130                0.216290\n",
       "1        0.000000     0.782609                0.596809\n",
       "2        0.000000     0.826087                0.590598\n",
       "3        0.000000     0.869565                0.484000\n",
       "4        0.000000     0.913043                0.421928\n",
       "...           ...          ...                     ...\n",
       "3285     0.666667     0.608696                0.416626\n",
       "3286     0.666667     0.652174                0.324594\n",
       "3287     0.666667     0.695652                0.509096\n",
       "3288     0.666667     0.739130                0.602905\n",
       "3289     0.666667     0.782609                0.886869\n",
       "\n",
       "[3290 rows x 3 columns]"
      ]
     },
     "execution_count": 32,
     "metadata": {},
     "output_type": "execute_result"
    }
   ],
   "source": [
    "scaled_array"
   ]
  },
  {
   "cell_type": "code",
   "execution_count": 24,
   "metadata": {},
   "outputs": [
    {
     "data": {
      "text/plain": [
       "(2303, 10, 3)"
      ]
     },
     "execution_count": 24,
     "metadata": {},
     "output_type": "execute_result"
    }
   ],
   "source": [
    "X_train.shape #(,10個の事前の値,features)"
   ]
  },
  {
   "cell_type": "code",
   "execution_count": 33,
   "metadata": {},
   "outputs": [
    {
     "data": {
      "text/plain": [
       "(2303,)"
      ]
     },
     "execution_count": 33,
     "metadata": {},
     "output_type": "execute_result"
    }
   ],
   "source": [
    "y_train.shape #(,featuresのlog_energy_consumption)"
   ]
  },
  {
   "cell_type": "markdown",
   "metadata": {
    "colab_type": "text",
    "id": "Ue1JcZm_bgsd"
   },
   "source": [
    "# Define Bayesian LSTM Architecture"
   ]
  },
  {
   "cell_type": "markdown",
   "metadata": {
    "colab_type": "text",
    "id": "VNag-wa-04WZ"
   },
   "source": [
    "To demonstrate a simple working example of the Bayesian LSTM, the model as defined in Uber's paper has been used a starting point. The network architecture is as follows:\n",
    "\n",
    "Encoder-Decoder Stage:\n",
    " - 1 uni-directional LSTM layer with 128 hidden units acts as an encoding layer to construct a fixed-dimension embedding state\n",
    " - 1 uni-directional LSTM layer with 32 hidden units acts as a decoding layer to produce predictions at future steps\n",
    " - Dropout is applied at **both** training and inference for both LSTM layers\n",
    " \n",
    "\n",
    "\n",
    " Predictor Stage:\n",
    " - 1 fully-connected output layer with 1 output (for predicting the target value) to produce a single value for the target variable\n",
    " \n",
    " 構造は論文と全く同じ形になっている\n",
    " hidden unitsの数は変えられる\n",
    "\n",
    "\n",
    "By allowing dropout at **both training and testing time**, the model simulates random sampling, thus allowing varying predictions that can be used to estimate the underlying distribution of the target value, enabling explicit model uncertainties.\n"
   ]
  },
  {
   "cell_type": "code",
   "execution_count": 36,
   "metadata": {
    "colab": {},
    "colab_type": "code",
    "id": "OgWyOffPbO0b"
   },
   "outputs": [],
   "source": [
    "import torch\n",
    "import torch.nn as nn\n",
    "import torch.nn.functional as F\n",
    "from torch.autograd import Variable\n",
    "\n",
    "class BayesianLSTM(nn.Module):\n",
    "\n",
    "    def __init__(self, n_features, output_length):\n",
    "\n",
    "        super(BayesianLSTM, self).__init__()\n",
    "\n",
    "        self.hidden_size_1 = 128\n",
    "        self.hidden_size_2 = 32\n",
    "        self.n_layers = 1 # number of (stacked) LSTM layers\n",
    "\n",
    "        self.lstm1 = nn.LSTM(n_features, \n",
    "                             self.hidden_size_1, \n",
    "                             num_layers=1,\n",
    "                             batch_first=True)\n",
    "        self.lstm2 = nn.LSTM(self.hidden_size_1,\n",
    "                             self.hidden_size_2,\n",
    "                             num_layers=1,\n",
    "                             batch_first=True) #いまいち理解できていない　要勉強\n",
    "        \n",
    "        self.dense = nn.Linear(self.hidden_size_2, output_length)\n",
    "        self.loss_fn = nn.MSELoss() #平均二乗誤差 \n",
    "        \n",
    "    def forward(self, x): #要勉強\n",
    "        batch_size, seq_len, _ = x.size()\n",
    "\n",
    "        hidden = self.init_hidden1(batch_size)\n",
    "        output, _ = self.lstm1(x, hidden)\n",
    "        output = F.dropout(output, p=0.5, training=True) #dropout\n",
    "        state = self.init_hidden2(batch_size)\n",
    "        output, state = self.lstm2(output, state)\n",
    "        output = F.dropout(output, p=0.5, training=True) #dropout\n",
    "        output = self.dense(state[0].squeeze(0))\n",
    "        \n",
    "        return output\n",
    "        \n",
    "    def init_hidden1(self, batch_size):\n",
    "        hidden_state = Variable(torch.zeros(self.n_layers, batch_size, self.hidden_size_1)) #恐らく重みの初期値を設定している\n",
    "        cell_state = Variable(torch.zeros(self.n_layers, batch_size, self.hidden_size_1))\n",
    "        return hidden_state, cell_state\n",
    "    \n",
    "    def init_hidden2(self, batch_size):\n",
    "        hidden_state = Variable(torch.zeros(self.n_layers, batch_size, self.hidden_size_2))\n",
    "        cell_state = Variable(torch.zeros(self.n_layers, batch_size, self.hidden_size_2))\n",
    "        return hidden_state, cell_state\n",
    "    \n",
    "    def loss(self, pred, truth):\n",
    "        return self.loss_fn(pred, truth)\n",
    "\n",
    "    def predict(self, X):\n",
    "        return self(torch.tensor(X, dtype=torch.float32)).view(-1).detach().numpy() # 要勉強"
   ]
  },
  {
   "cell_type": "markdown",
   "metadata": {
    "colab_type": "text",
    "id": "DQ8JLm-ShlaU"
   },
   "source": [
    "### Begin Training"
   ]
  },
  {
   "cell_type": "markdown",
   "metadata": {
    "colab_type": "text",
    "id": "015pu48r3X1F"
   },
   "source": [
    "To train the Bayesian LSTM, we use the ADAM optimizer along with mini-batch gradient descent (`batch_size = 128`). For quick demonstration purposes, the model is trained for 150 epochs. 全体を128のミニバッチに分けて、それぞれのミニバッチで150回誤差逆伝播法で重みを更新\n",
    "\n",
    "The Bayesian LSTM is trained on the first 70% of data points, using the aforementioned sliding windows of size 10. The remaining 30% of the dataset is held out purely for testing."
   ]
  },
  {
   "cell_type": "code",
   "execution_count": 47,
   "metadata": {
    "colab": {},
    "colab_type": "code",
    "id": "47X-uO6UhbCy"
   },
   "outputs": [],
   "source": [
    "n_features = scaled_array.shape[-1]\n",
    "sequence_length = 10\n",
    "output_length = 1\n",
    "\n",
    "bayesian_lstm = BayesianLSTM(n_features=n_features, #入力として消費量だけでなくdayofweeekとhourofdayも入れている。　論文要確認\n",
    "                             output_length=output_length)\n",
    "\n",
    "criterion = torch.nn.MSELoss()\n",
    "optimizer = torch.optim.Adam(bayesian_lstm.parameters(), lr=0.01)\n",
    "\n",
    "batch_size = 128\n",
    "n_epochs = 150"
   ]
  },
  {
   "cell_type": "code",
   "execution_count": 38,
   "metadata": {
    "colab": {
     "base_uri": "https://localhost:8080/",
     "height": 272
    },
    "colab_type": "code",
    "id": "7iZ__nxaCzZE",
    "outputId": "1b6490bb-26c7-4c94-a3c9-37682da49cef"
   },
   "outputs": [
    {
     "name": "stdout",
     "output_type": "stream",
     "text": [
      "epoch:  10 loss:  0.018139906227588654\n",
      "epoch:  20 loss:  0.018521368503570557\n",
      "epoch:  30 loss:  0.0165639016777277\n",
      "epoch:  40 loss:  0.016034334897994995\n",
      "epoch:  50 loss:  0.015085753053426743\n",
      "epoch:  60 loss:  0.014950712211430073\n",
      "epoch:  70 loss:  0.014997988939285278\n",
      "epoch:  80 loss:  0.014227477833628654\n",
      "epoch:  90 loss:  0.014002673327922821\n",
      "epoch:  100 loss:  0.013277754187583923\n",
      "epoch:  110 loss:  0.012776392512023449\n",
      "epoch:  120 loss:  0.012214346788823605\n",
      "epoch:  130 loss:  0.014837831258773804\n",
      "epoch:  140 loss:  0.011546755209565163\n",
      "epoch:  150 loss:  0.010269450023770332\n"
     ]
    }
   ],
   "source": [
    "bayesian_lstm.train() #要勉強\n",
    "\n",
    "for e in range(1, n_epochs+1):\n",
    "    for b in range(0,len(X_train),batch_size):\n",
    "        features = X_train[b:b+batch_size,:,:]\n",
    "        target = y_train[b:b+batch_size]    \n",
    "\n",
    "        X_batch = torch.tensor(features,dtype=torch.float32) #テンソルに変更\n",
    "        y_batch = torch.tensor(target,dtype=torch.float32)\n",
    "\n",
    "        output = bayesian_lstm(X_batch) \n",
    "        loss = criterion(output.view(-1), y_batch)  \n",
    "\n",
    "        loss.backward()\n",
    "        optimizer.step()        \n",
    "        optimizer.zero_grad() \n",
    "\n",
    "    if e % 10 == 0:\n",
    "      print('epoch: ', e, 'loss: ', loss.item())"
   ]
  },
  {
   "cell_type": "markdown",
   "metadata": {
    "colab_type": "text",
    "id": "vUS459C6ro22"
   },
   "source": [
    "# Evaluating Model Performance"
   ]
  },
  {
   "cell_type": "markdown",
   "metadata": {
    "colab_type": "text",
    "id": "iGYj2vTl311y"
   },
   "source": [
    "The Bayesian LSTM implemented is shown to produce reasonably accurate and sensible results on both the training and test sets, often comparable to other existing frequentist machine learning and deep learning methods.\n",
    "\n"
   ]
  },
  {
   "cell_type": "code",
   "execution_count": 39,
   "metadata": {
    "colab": {},
    "colab_type": "code",
    "id": "C-1VXE3_VH_0"
   },
   "outputs": [],
   "source": [
    "offset = sequence_length\n",
    "\n",
    "def inverse_transform(y):\n",
    "  return target_scaler.inverse_transform(y.reshape(-1, 1)) #要勉強\n",
    "\n",
    "training_df = pd.DataFrame()\n",
    "training_df['date'] = resample_df['date'].iloc[offset:n_train + offset:1] \n",
    "training_predictions = bayesian_lstm.predict(X_train)\n",
    "training_df['log_energy_consumption'] = inverse_transform(training_predictions)\n",
    "training_df['source'] = 'Training Prediction'\n",
    "\n",
    "training_truth_df = pd.DataFrame()\n",
    "training_truth_df['date'] = training_df['date']\n",
    "training_truth_df['log_energy_consumption'] = resample_df['log_energy_consumption'].iloc[offset:n_train + offset:1] \n",
    "training_truth_df['source'] = 'True Values'\n",
    "\n",
    "testing_df = pd.DataFrame()\n",
    "testing_df['date'] = resample_df['date'].iloc[n_train + offset::1] \n",
    "testing_predictions = bayesian_lstm.predict(X_test)\n",
    "testing_df['log_energy_consumption'] = inverse_transform(testing_predictions)\n",
    "testing_df['source'] = 'Test Prediction'\n",
    "\n",
    "testing_truth_df = pd.DataFrame()\n",
    "testing_truth_df['date'] = testing_df['date']\n",
    "testing_truth_df['log_energy_consumption'] = resample_df['log_energy_consumption'].iloc[n_train + offset::1] \n",
    "testing_truth_df['source'] = 'True Values'\n",
    "\n",
    "evaluation = pd.concat([training_df, \n",
    "                        testing_df,\n",
    "                        training_truth_df,\n",
    "                        testing_truth_df\n",
    "                        ], axis=0)"
   ]
  },
  {
   "cell_type": "code",
   "execution_count": 40,
   "metadata": {
    "colab": {
     "base_uri": "https://localhost:8080/",
     "height": 617
    },
    "colab_type": "code",
    "id": "uXQJwRO2FZio",
    "outputId": "39099fa1-ce91-4ac4-e0af-a91823c67d68",
    "scrolled": true
   },
   "outputs": [
    {
     "data": {
      "application/vnd.plotly.v1+json": {
       "config": {
        "plotlyServerURL": "https://plot.ly"
       },
       "data": [
        {
         "hovertemplate": "source=Training Prediction<br>date=%{x}<br>log_energy_consumption=%{y}<extra></extra>",
         "legendgroup": "Training Prediction",
         "line": {
          "color": "#636efa",
          "dash": "solid"
         },
         "mode": "lines",
         "name": "Training Prediction",
         "orientation": "v",
         "showlegend": true,
         "type": "scatter",
         "x": [
          "2016-04-14T00:00:00",
          "2016-04-14T01:00:00",
          "2016-04-14T02:00:00",
          "2016-04-14T03:00:00",
          "2016-04-14T04:00:00",
          "2016-04-14T05:00:00",
          "2016-04-14T06:00:00",
          "2016-04-14T07:00:00",
          "2016-04-14T08:00:00",
          "2016-04-14T09:00:00",
          "2016-04-14T10:00:00",
          "2016-04-14T11:00:00",
          "2016-04-14T12:00:00",
          "2016-04-14T13:00:00",
          "2016-04-14T14:00:00",
          "2016-04-14T15:00:00",
          "2016-04-14T16:00:00",
          "2016-04-14T17:00:00",
          "2016-04-14T18:00:00",
          "2016-04-14T19:00:00",
          "2016-04-14T20:00:00",
          "2016-04-14T21:00:00",
          "2016-04-14T22:00:00",
          "2016-04-14T23:00:00",
          "2016-04-15T00:00:00",
          "2016-04-15T01:00:00",
          "2016-04-15T02:00:00",
          "2016-04-15T03:00:00",
          "2016-04-15T04:00:00",
          "2016-04-15T05:00:00",
          "2016-04-15T06:00:00",
          "2016-04-15T07:00:00",
          "2016-04-15T08:00:00",
          "2016-04-15T09:00:00",
          "2016-04-15T10:00:00",
          "2016-04-15T11:00:00",
          "2016-04-15T12:00:00",
          "2016-04-15T13:00:00",
          "2016-04-15T14:00:00",
          "2016-04-15T15:00:00",
          "2016-04-15T16:00:00",
          "2016-04-15T17:00:00",
          "2016-04-15T18:00:00",
          "2016-04-15T19:00:00",
          "2016-04-15T20:00:00",
          "2016-04-15T21:00:00",
          "2016-04-15T22:00:00",
          "2016-04-15T23:00:00",
          "2016-04-16T00:00:00",
          "2016-04-16T01:00:00",
          "2016-04-16T02:00:00",
          "2016-04-16T03:00:00",
          "2016-04-16T04:00:00",
          "2016-04-16T05:00:00",
          "2016-04-16T06:00:00",
          "2016-04-16T07:00:00",
          "2016-04-16T08:00:00",
          "2016-04-16T09:00:00",
          "2016-04-16T10:00:00",
          "2016-04-16T11:00:00",
          "2016-04-16T12:00:00",
          "2016-04-16T13:00:00",
          "2016-04-16T14:00:00",
          "2016-04-16T15:00:00",
          "2016-04-16T16:00:00",
          "2016-04-16T17:00:00",
          "2016-04-16T18:00:00",
          "2016-04-16T19:00:00",
          "2016-04-16T20:00:00",
          "2016-04-16T21:00:00",
          "2016-04-16T22:00:00",
          "2016-04-16T23:00:00",
          "2016-04-17T00:00:00",
          "2016-04-17T01:00:00"
         ],
         "xaxis": "x",
         "y": [
          3.8710386753082275,
          3.836073160171509,
          3.8615965843200684,
          3.8781933784484863,
          3.916106700897217,
          3.917926073074341,
          3.995234489440918,
          4.242423057556152,
          4.622354984283447,
          4.692371368408203,
          4.763613224029541,
          4.313051223754883,
          4.311968803405762,
          4.063868045806885,
          4.161108016967773,
          4.3167948722839355,
          4.752254486083984,
          5.061447620391846,
          4.958283424377441,
          5.09926176071167,
          4.881839275360107,
          4.148416519165039,
          3.8956003189086914,
          3.8469088077545166,
          3.8409364223480225,
          3.8554043769836426,
          3.8331902027130127,
          3.8854384422302246,
          3.857553243637085,
          3.9036612510681152,
          3.9818286895751953,
          5.097653865814209,
          5.472506999969482,
          5.203686714172363,
          6.032674312591553,
          5.355113506317139,
          4.614522457122803,
          4.390632629394531,
          4.445553779602051,
          4.317814826965332,
          4.272792339324951,
          4.5987396240234375,
          4.9350481033325195,
          4.929117202758789,
          4.5904364585876465,
          4.5559163093566895,
          3.992198944091797,
          3.8977622985839844,
          3.8827602863311768,
          3.86383318901062,
          3.860262155532837,
          3.8479557037353516,
          3.9467837810516357,
          3.9183225631713867,
          3.8693723678588867,
          4.032063007354736,
          4.2367730140686035,
          4.688663005828857,
          5.318477153778076,
          5.217226028442383,
          5.11704158782959,
          5.405368328094482,
          4.9426140785217285,
          4.779140472412109,
          5.838071823120117,
          5.377492427825928,
          5.196333408355713,
          5.243492603302002,
          4.591480731964111,
          4.035883903503418,
          4.138726234436035,
          3.948962688446045,
          3.873978614807129,
          3.8643910884857178
         ],
         "yaxis": "y"
        },
        {
         "hovertemplate": "source=Test Prediction<br>date=%{x}<br>log_energy_consumption=%{y}<extra></extra>",
         "legendgroup": "Test Prediction",
         "line": {
          "color": "#EF553B",
          "dash": "solid"
         },
         "mode": "lines",
         "name": "Test Prediction",
         "orientation": "v",
         "showlegend": true,
         "type": "scatter",
         "x": [
          "2016-04-17T02:00:00",
          "2016-04-17T03:00:00",
          "2016-04-17T04:00:00",
          "2016-04-17T05:00:00",
          "2016-04-17T06:00:00",
          "2016-04-17T07:00:00",
          "2016-04-17T08:00:00",
          "2016-04-17T09:00:00",
          "2016-04-17T10:00:00",
          "2016-04-17T11:00:00",
          "2016-04-17T12:00:00",
          "2016-04-17T13:00:00",
          "2016-04-17T14:00:00",
          "2016-04-17T15:00:00",
          "2016-04-17T16:00:00",
          "2016-04-17T17:00:00",
          "2016-04-17T18:00:00",
          "2016-04-17T19:00:00",
          "2016-04-17T20:00:00",
          "2016-04-17T21:00:00",
          "2016-04-17T22:00:00",
          "2016-04-17T23:00:00",
          "2016-04-18T00:00:00",
          "2016-04-18T01:00:00",
          "2016-04-18T02:00:00",
          "2016-04-18T03:00:00",
          "2016-04-18T04:00:00",
          "2016-04-18T05:00:00",
          "2016-04-18T06:00:00",
          "2016-04-18T07:00:00",
          "2016-04-18T08:00:00",
          "2016-04-18T09:00:00",
          "2016-04-18T10:00:00",
          "2016-04-18T11:00:00",
          "2016-04-18T12:00:00",
          "2016-04-18T13:00:00",
          "2016-04-18T14:00:00",
          "2016-04-18T15:00:00",
          "2016-04-18T16:00:00",
          "2016-04-18T17:00:00",
          "2016-04-18T18:00:00",
          "2016-04-18T19:00:00",
          "2016-04-18T20:00:00",
          "2016-04-18T21:00:00",
          "2016-04-18T22:00:00",
          "2016-04-18T23:00:00",
          "2016-04-19T00:00:00",
          "2016-04-19T01:00:00",
          "2016-04-19T02:00:00",
          "2016-04-19T03:00:00",
          "2016-04-19T04:00:00",
          "2016-04-19T05:00:00",
          "2016-04-19T06:00:00",
          "2016-04-19T07:00:00",
          "2016-04-19T08:00:00",
          "2016-04-19T09:00:00",
          "2016-04-19T10:00:00",
          "2016-04-19T11:00:00",
          "2016-04-19T12:00:00",
          "2016-04-19T13:00:00",
          "2016-04-19T14:00:00",
          "2016-04-19T15:00:00",
          "2016-04-19T16:00:00",
          "2016-04-19T17:00:00",
          "2016-04-19T18:00:00",
          "2016-04-19T19:00:00",
          "2016-04-19T20:00:00",
          "2016-04-19T21:00:00",
          "2016-04-19T22:00:00",
          "2016-04-19T23:00:00",
          "2016-04-20T00:00:00",
          "2016-04-20T01:00:00",
          "2016-04-20T02:00:00",
          "2016-04-20T03:00:00",
          "2016-04-20T04:00:00",
          "2016-04-20T05:00:00",
          "2016-04-20T06:00:00",
          "2016-04-20T07:00:00",
          "2016-04-20T08:00:00",
          "2016-04-20T09:00:00",
          "2016-04-20T10:00:00",
          "2016-04-20T11:00:00",
          "2016-04-20T12:00:00",
          "2016-04-20T13:00:00",
          "2016-04-20T14:00:00",
          "2016-04-20T15:00:00",
          "2016-04-20T16:00:00",
          "2016-04-20T17:00:00",
          "2016-04-20T18:00:00",
          "2016-04-20T19:00:00",
          "2016-04-20T20:00:00",
          "2016-04-20T21:00:00",
          "2016-04-20T22:00:00",
          "2016-04-20T23:00:00",
          "2016-04-21T00:00:00",
          "2016-04-21T01:00:00",
          "2016-04-21T02:00:00",
          "2016-04-21T03:00:00",
          "2016-04-21T04:00:00",
          "2016-04-21T05:00:00",
          "2016-04-21T06:00:00",
          "2016-04-21T07:00:00",
          "2016-04-21T08:00:00",
          "2016-04-21T09:00:00",
          "2016-04-21T10:00:00",
          "2016-04-21T11:00:00",
          "2016-04-21T12:00:00",
          "2016-04-21T13:00:00",
          "2016-04-21T14:00:00",
          "2016-04-21T15:00:00",
          "2016-04-21T16:00:00",
          "2016-04-21T17:00:00",
          "2016-04-21T18:00:00",
          "2016-04-21T19:00:00",
          "2016-04-21T20:00:00",
          "2016-04-21T21:00:00",
          "2016-04-21T22:00:00",
          "2016-04-21T23:00:00",
          "2016-04-22T00:00:00",
          "2016-04-22T01:00:00",
          "2016-04-22T02:00:00",
          "2016-04-22T03:00:00",
          "2016-04-22T04:00:00",
          "2016-04-22T05:00:00",
          "2016-04-22T06:00:00",
          "2016-04-22T07:00:00",
          "2016-04-22T08:00:00",
          "2016-04-22T09:00:00",
          "2016-04-22T10:00:00",
          "2016-04-22T11:00:00",
          "2016-04-22T12:00:00",
          "2016-04-22T13:00:00",
          "2016-04-22T14:00:00",
          "2016-04-22T15:00:00",
          "2016-04-22T16:00:00",
          "2016-04-22T17:00:00",
          "2016-04-22T18:00:00",
          "2016-04-22T19:00:00",
          "2016-04-22T20:00:00",
          "2016-04-22T21:00:00",
          "2016-04-22T22:00:00",
          "2016-04-22T23:00:00",
          "2016-04-23T00:00:00"
         ],
         "xaxis": "x",
         "y": [
          3.835007429122925,
          3.859635353088379,
          3.9206314086914062,
          3.9244565963745117,
          3.9387998580932617,
          3.971435070037842,
          4.267538070678711,
          4.933956623077393,
          5.35772705078125,
          5.155559062957764,
          4.798929214477539,
          4.831432342529297,
          4.255343437194824,
          4.389446258544922,
          4.625298500061035,
          5.453819751739502,
          5.445344924926758,
          4.623297214508057,
          4.496363639831543,
          4.033430576324463,
          3.984070062637329,
          3.8617823123931885,
          3.8780837059020996,
          3.8371152877807617,
          3.9039998054504395,
          3.935992956161499,
          3.868180990219116,
          3.897758722305298,
          3.9237289428710938,
          4.508590221405029,
          3.923395872116089,
          4.20648717880249,
          4.138563632965088,
          4.330218315124512,
          4.450052738189697,
          4.1755781173706055,
          3.8063066005706787,
          3.885070562362671,
          4.938333511352539,
          5.414022922515869,
          5.526523590087891,
          4.900241851806641,
          4.770750999450684,
          4.016070365905762,
          3.8716697692871094,
          3.8483340740203857,
          3.9460906982421875,
          3.9064700603485107,
          3.8362131118774414,
          3.685359477996826,
          3.8500406742095947,
          3.9288086891174316,
          4.167361736297607,
          4.901156425476074,
          4.205501556396484,
          4.057088851928711,
          4.173309326171875,
          3.961163282394409,
          3.8506855964660645,
          3.960099458694458,
          3.8943302631378174,
          4.091380596160889,
          3.7835450172424316,
          4.698563098907471,
          5.47696590423584,
          5.415430545806885,
          4.663534641265869,
          3.9080827236175537,
          3.9015164375305176,
          3.8781795501708984,
          3.8832359313964844,
          3.959792375564575,
          3.850473165512085,
          3.813953399658203,
          3.799131393432617,
          3.8681530952453613,
          3.967756986618042,
          4.369133949279785,
          4.937864303588867,
          4.375176429748535,
          4.278869152069092,
          4.136884689331055,
          3.9424757957458496,
          3.934990882873535,
          4.019562244415283,
          5.020763397216797,
          4.861156940460205,
          4.496989727020264,
          4.3318328857421875,
          5.077841281890869,
          4.7095232009887695,
          4.652262210845947,
          3.923516273498535,
          3.871225595474243,
          3.880925416946411,
          3.8616652488708496,
          3.85174822807312,
          3.8376717567443848,
          3.8436243534088135,
          3.85634183883667,
          4.07197380065918,
          4.285482406616211,
          4.148136615753174,
          3.9629178047180176,
          4.095614433288574,
          3.9005725383758545,
          3.8641018867492676,
          3.9710450172424316,
          4.394158363342285,
          4.149712562561035,
          4.087841033935547,
          4.549116611480713,
          5.462459087371826,
          5.103288173675537,
          4.721213340759277,
          4.189589977264404,
          3.935781240463257,
          3.879272699356079,
          3.8841893672943115,
          3.8396615982055664,
          3.904885768890381,
          3.954145669937134,
          4.037705898284912,
          4.03778600692749,
          4.120201587677002,
          4.31864070892334,
          4.882960319519043,
          5.17230224609375,
          5.625002384185791,
          5.44796895980835,
          5.663321018218994,
          5.2859787940979,
          5.699776649475098,
          4.310178279876709,
          5.131322383880615,
          5.293978214263916,
          5.361960411071777,
          4.44200325012207,
          4.5397443771362305,
          4.096828937530518,
          3.8957443237304688,
          3.88859486579895,
          3.8660507202148438
         ],
         "yaxis": "y"
        },
        {
         "hovertemplate": "source=True Values<br>date=%{x}<br>log_energy_consumption=%{y}<extra></extra>",
         "legendgroup": "True Values",
         "line": {
          "color": "#00cc96",
          "dash": "solid"
         },
         "mode": "lines",
         "name": "True Values",
         "orientation": "v",
         "showlegend": true,
         "type": "scatter",
         "x": [
          "2016-04-14T00:00:00",
          "2016-04-14T01:00:00",
          "2016-04-14T02:00:00",
          "2016-04-14T03:00:00",
          "2016-04-14T04:00:00",
          "2016-04-14T05:00:00",
          "2016-04-14T06:00:00",
          "2016-04-14T07:00:00",
          "2016-04-14T08:00:00",
          "2016-04-14T09:00:00",
          "2016-04-14T10:00:00",
          "2016-04-14T11:00:00",
          "2016-04-14T12:00:00",
          "2016-04-14T13:00:00",
          "2016-04-14T14:00:00",
          "2016-04-14T15:00:00",
          "2016-04-14T16:00:00",
          "2016-04-14T17:00:00",
          "2016-04-14T18:00:00",
          "2016-04-14T19:00:00",
          "2016-04-14T20:00:00",
          "2016-04-14T21:00:00",
          "2016-04-14T22:00:00",
          "2016-04-14T23:00:00",
          "2016-04-15T00:00:00",
          "2016-04-15T01:00:00",
          "2016-04-15T02:00:00",
          "2016-04-15T03:00:00",
          "2016-04-15T04:00:00",
          "2016-04-15T05:00:00",
          "2016-04-15T06:00:00",
          "2016-04-15T07:00:00",
          "2016-04-15T08:00:00",
          "2016-04-15T09:00:00",
          "2016-04-15T10:00:00",
          "2016-04-15T11:00:00",
          "2016-04-15T12:00:00",
          "2016-04-15T13:00:00",
          "2016-04-15T14:00:00",
          "2016-04-15T15:00:00",
          "2016-04-15T16:00:00",
          "2016-04-15T17:00:00",
          "2016-04-15T18:00:00",
          "2016-04-15T19:00:00",
          "2016-04-15T20:00:00",
          "2016-04-15T21:00:00",
          "2016-04-15T22:00:00",
          "2016-04-15T23:00:00",
          "2016-04-16T00:00:00",
          "2016-04-16T01:00:00",
          "2016-04-16T02:00:00",
          "2016-04-16T03:00:00",
          "2016-04-16T04:00:00",
          "2016-04-16T05:00:00",
          "2016-04-16T06:00:00",
          "2016-04-16T07:00:00",
          "2016-04-16T08:00:00",
          "2016-04-16T09:00:00",
          "2016-04-16T10:00:00",
          "2016-04-16T11:00:00",
          "2016-04-16T12:00:00",
          "2016-04-16T13:00:00",
          "2016-04-16T14:00:00",
          "2016-04-16T15:00:00",
          "2016-04-16T16:00:00",
          "2016-04-16T17:00:00",
          "2016-04-16T18:00:00",
          "2016-04-16T19:00:00",
          "2016-04-16T20:00:00",
          "2016-04-16T21:00:00",
          "2016-04-16T22:00:00",
          "2016-04-16T23:00:00",
          "2016-04-17T00:00:00",
          "2016-04-17T01:00:00",
          "2016-04-17T02:00:00",
          "2016-04-17T03:00:00",
          "2016-04-17T04:00:00",
          "2016-04-17T05:00:00",
          "2016-04-17T06:00:00",
          "2016-04-17T07:00:00",
          "2016-04-17T08:00:00",
          "2016-04-17T09:00:00",
          "2016-04-17T10:00:00",
          "2016-04-17T11:00:00",
          "2016-04-17T12:00:00",
          "2016-04-17T13:00:00",
          "2016-04-17T14:00:00",
          "2016-04-17T15:00:00",
          "2016-04-17T16:00:00",
          "2016-04-17T17:00:00",
          "2016-04-17T18:00:00",
          "2016-04-17T19:00:00",
          "2016-04-17T20:00:00",
          "2016-04-17T21:00:00",
          "2016-04-17T22:00:00",
          "2016-04-17T23:00:00",
          "2016-04-18T00:00:00",
          "2016-04-18T01:00:00",
          "2016-04-18T02:00:00",
          "2016-04-18T03:00:00",
          "2016-04-18T04:00:00",
          "2016-04-18T05:00:00",
          "2016-04-18T06:00:00",
          "2016-04-18T07:00:00",
          "2016-04-18T08:00:00",
          "2016-04-18T09:00:00",
          "2016-04-18T10:00:00",
          "2016-04-18T11:00:00",
          "2016-04-18T12:00:00",
          "2016-04-18T13:00:00",
          "2016-04-18T14:00:00",
          "2016-04-18T15:00:00",
          "2016-04-18T16:00:00",
          "2016-04-18T17:00:00",
          "2016-04-18T18:00:00",
          "2016-04-18T19:00:00",
          "2016-04-18T20:00:00",
          "2016-04-18T21:00:00",
          "2016-04-18T22:00:00",
          "2016-04-18T23:00:00",
          "2016-04-19T00:00:00",
          "2016-04-19T01:00:00",
          "2016-04-19T02:00:00",
          "2016-04-19T03:00:00",
          "2016-04-19T04:00:00",
          "2016-04-19T05:00:00",
          "2016-04-19T06:00:00",
          "2016-04-19T07:00:00",
          "2016-04-19T08:00:00",
          "2016-04-19T09:00:00",
          "2016-04-19T10:00:00",
          "2016-04-19T11:00:00",
          "2016-04-19T12:00:00",
          "2016-04-19T13:00:00",
          "2016-04-19T14:00:00",
          "2016-04-19T15:00:00",
          "2016-04-19T16:00:00",
          "2016-04-19T17:00:00",
          "2016-04-19T18:00:00",
          "2016-04-19T19:00:00",
          "2016-04-19T20:00:00",
          "2016-04-19T21:00:00",
          "2016-04-19T22:00:00",
          "2016-04-19T23:00:00",
          "2016-04-20T00:00:00",
          "2016-04-20T01:00:00",
          "2016-04-20T02:00:00",
          "2016-04-20T03:00:00",
          "2016-04-20T04:00:00",
          "2016-04-20T05:00:00",
          "2016-04-20T06:00:00",
          "2016-04-20T07:00:00",
          "2016-04-20T08:00:00",
          "2016-04-20T09:00:00",
          "2016-04-20T10:00:00",
          "2016-04-20T11:00:00",
          "2016-04-20T12:00:00",
          "2016-04-20T13:00:00",
          "2016-04-20T14:00:00",
          "2016-04-20T15:00:00",
          "2016-04-20T16:00:00",
          "2016-04-20T17:00:00",
          "2016-04-20T18:00:00",
          "2016-04-20T19:00:00",
          "2016-04-20T20:00:00",
          "2016-04-20T21:00:00",
          "2016-04-20T22:00:00",
          "2016-04-20T23:00:00",
          "2016-04-21T00:00:00",
          "2016-04-21T01:00:00",
          "2016-04-21T02:00:00",
          "2016-04-21T03:00:00",
          "2016-04-21T04:00:00",
          "2016-04-21T05:00:00",
          "2016-04-21T06:00:00",
          "2016-04-21T07:00:00",
          "2016-04-21T08:00:00",
          "2016-04-21T09:00:00",
          "2016-04-21T10:00:00",
          "2016-04-21T11:00:00",
          "2016-04-21T12:00:00",
          "2016-04-21T13:00:00",
          "2016-04-21T14:00:00",
          "2016-04-21T15:00:00",
          "2016-04-21T16:00:00",
          "2016-04-21T17:00:00",
          "2016-04-21T18:00:00",
          "2016-04-21T19:00:00",
          "2016-04-21T20:00:00",
          "2016-04-21T21:00:00",
          "2016-04-21T22:00:00",
          "2016-04-21T23:00:00",
          "2016-04-22T00:00:00",
          "2016-04-22T01:00:00",
          "2016-04-22T02:00:00",
          "2016-04-22T03:00:00",
          "2016-04-22T04:00:00",
          "2016-04-22T05:00:00",
          "2016-04-22T06:00:00",
          "2016-04-22T07:00:00",
          "2016-04-22T08:00:00",
          "2016-04-22T09:00:00",
          "2016-04-22T10:00:00",
          "2016-04-22T11:00:00",
          "2016-04-22T12:00:00",
          "2016-04-22T13:00:00",
          "2016-04-22T14:00:00",
          "2016-04-22T15:00:00",
          "2016-04-22T16:00:00",
          "2016-04-22T17:00:00",
          "2016-04-22T18:00:00",
          "2016-04-22T19:00:00",
          "2016-04-22T20:00:00",
          "2016-04-22T21:00:00",
          "2016-04-22T22:00:00",
          "2016-04-22T23:00:00",
          "2016-04-23T00:00:00"
         ],
         "xaxis": "x",
         "y": [
          4.007333185232471,
          3.9765615265657175,
          3.9765615265657175,
          3.9765615265657175,
          3.9765615265657175,
          3.912023005428146,
          4.148411783492376,
          4.360973225476049,
          4.382026634673881,
          4.174387269895637,
          4.360973225476049,
          4.402645921876617,
          4.121743536410215,
          3.9765615265657175,
          4.248495242049359,
          4.518158808998462,
          4.402645921876617,
          5.646624060816253,
          5.393627546352362,
          5.272999558563747,
          4.339467020255086,
          4.037186148382152,
          3.912023005428146,
          3.9765615265657175,
          3.9448128282511368,
          3.9448128282511368,
          4.037186148382152,
          3.8781214537524646,
          4.007333185232471,
          3.9765615265657175,
          5.917997395226109,
          5.501258210544727,
          5.794029352503979,
          5.501258210544727,
          5.862683757242057,
          5.12594614060725,
          4.339467020255086,
          4.148411783492376,
          4.272025739459553,
          4.199705077879927,
          4.422848629194137,
          4.382026634673881,
          5.3471075307174685,
          4.814890716970161,
          4.700480365792417,
          4.637960008811082,
          4.402645921876617,
          4.037186148382152,
          3.9765615265657175,
          4.007333185232471,
          3.912023005428146,
          4.037186148382152,
          3.8781214537524646,
          3.9765615265657175,
          3.9765615265657175,
          4.174387269895637,
          4.637960008811082,
          4.953476880256307,
          5.675611597689505,
          5.681309618804143,
          4.685212893661628,
          5.452468046375295,
          5.487559366186565,
          4.7303333289420975,
          6.0905554497522125,
          5.528105460580915,
          4.917544871030244,
          4.7303333289420975,
          4.621699487939302,
          4.553876891600541,
          4.148411783492376,
          4.007333185232471,
          3.9448128282511368,
          4.007333185232471,
          3.8781214537524646,
          4.0661736852554045,
          3.8781214537524646,
          3.9448128282511368,
          3.912023005428146,
          4.148411783492376,
          4.941642422609304,
          4.637960008811082,
          6.09807428216624,
          4.75932086581535,
          4.965172920019499,
          4.272025739459553,
          4.248495242049359,
          4.553876891600541,
          5.12594614060725,
          5.473670254025898,
          4.8012850649143815,
          4.814890716970161,
          4.499809670330265,
          4.360973225476049,
          3.9765615265657175,
          4.037186148382152,
          4.037186148382152,
          4.199705077879927,
          3.9765615265657175,
          3.8430301339411947,
          3.8430301339411947,
          3.9765615265657175,
          4.007333185232471,
          3.912023005428146,
          3.9765615265657175,
          3.912023005428146,
          3.9448128282511368,
          4.402645921876617,
          3.8781214537524646,
          3.9765615265657175,
          3.6888794541139363,
          4.007333185232471,
          4.248495242049359,
          5.573420656792957,
          4.880273476233012,
          4.75932086581535,
          4.8283137373023015,
          4.121743536410215,
          3.7297014486341915,
          3.9448128282511368,
          3.9765615265657175,
          3.6463198396951406,
          3.9765615265657175,
          3.9448128282511368,
          3.912023005428146,
          4.715518243156957,
          4.360973225476049,
          4.892852258439873,
          3.8781214537524646,
          3.9765615265657175,
          3.6463198396951406,
          3.9448128282511368,
          3.9448128282511368,
          3.8066624897703196,
          3.8781214537524646,
          3.912023005428146,
          3.9448128282511368,
          5.51477192971145,
          4.854631045619675,
          4.74493212836325,
          4.4620693423474185,
          4.0943445622221,
          3.9448128282511368,
          3.6888794541139363,
          4.007333185232471,
          3.912023005428146,
          3.8066624897703196,
          3.8781214537524646,
          3.9448128282511368,
          3.912023005428146,
          4.199705077879927,
          4.037186148382152,
          3.9765615265657175,
          4.148411783492376,
          4.174387269895637,
          3.8066624897703196,
          3.8430301339411947,
          3.9765615265657175,
          5.155216522907363,
          4.360973225476049,
          4.272025739459553,
          5.19295685089021,
          5.652489180268651,
          4.787491742782046,
          4.685212893661628,
          4.295015257684252,
          3.9765615265657175,
          3.7297014486341915,
          3.9448128282511368,
          3.9765615265657175,
          3.8781214537524646,
          3.6888794541139363,
          3.9765615265657175,
          4.2243976904702984,
          4.121743536410215,
          3.7689221617874726,
          3.9448128282511368,
          3.9448128282511368,
          3.9448128282511368,
          4.007333185232471,
          3.912023005428146,
          4.121743536410215,
          4.121743536410215,
          4.148411783492376,
          4.4620693423474185,
          5.306616169362732,
          5.19295685089021,
          4.854631045619675,
          5.1647859739235145,
          4.2243976904702984,
          4.248495242049359,
          4.2243976904702984,
          4.121743536410215,
          4.121743536410215,
          4.2243976904702984,
          4.199705077879927,
          4.199705077879927,
          4.248495242049359,
          4.199705077879927,
          5.145554611995626,
          5.12594614060725,
          5.9445476273202305,
          5.9872891756975015,
          5.579729825986222,
          5.84354441703136,
          5.634789603169249,
          4.481117537318112,
          5.622813412122534,
          5.675611597689505,
          5.9445476273202305,
          5.264415814872355,
          4.653960350157523,
          4.653960350157523,
          4.272025739459553,
          4.007333185232471,
          4.007333185232471,
          4.037186148382152
         ],
         "yaxis": "y"
        }
       ],
       "layout": {
        "legend": {
         "title": {
          "text": "source"
         },
         "tracegroupgap": 0
        },
        "template": {
         "data": {
          "bar": [
           {
            "error_x": {
             "color": "#2a3f5f"
            },
            "error_y": {
             "color": "#2a3f5f"
            },
            "marker": {
             "line": {
              "color": "#E5ECF6",
              "width": 0.5
             }
            },
            "type": "bar"
           }
          ],
          "barpolar": [
           {
            "marker": {
             "line": {
              "color": "#E5ECF6",
              "width": 0.5
             }
            },
            "type": "barpolar"
           }
          ],
          "carpet": [
           {
            "aaxis": {
             "endlinecolor": "#2a3f5f",
             "gridcolor": "white",
             "linecolor": "white",
             "minorgridcolor": "white",
             "startlinecolor": "#2a3f5f"
            },
            "baxis": {
             "endlinecolor": "#2a3f5f",
             "gridcolor": "white",
             "linecolor": "white",
             "minorgridcolor": "white",
             "startlinecolor": "#2a3f5f"
            },
            "type": "carpet"
           }
          ],
          "choropleth": [
           {
            "colorbar": {
             "outlinewidth": 0,
             "ticks": ""
            },
            "type": "choropleth"
           }
          ],
          "contour": [
           {
            "colorbar": {
             "outlinewidth": 0,
             "ticks": ""
            },
            "colorscale": [
             [
              0,
              "#0d0887"
             ],
             [
              0.1111111111111111,
              "#46039f"
             ],
             [
              0.2222222222222222,
              "#7201a8"
             ],
             [
              0.3333333333333333,
              "#9c179e"
             ],
             [
              0.4444444444444444,
              "#bd3786"
             ],
             [
              0.5555555555555556,
              "#d8576b"
             ],
             [
              0.6666666666666666,
              "#ed7953"
             ],
             [
              0.7777777777777778,
              "#fb9f3a"
             ],
             [
              0.8888888888888888,
              "#fdca26"
             ],
             [
              1,
              "#f0f921"
             ]
            ],
            "type": "contour"
           }
          ],
          "contourcarpet": [
           {
            "colorbar": {
             "outlinewidth": 0,
             "ticks": ""
            },
            "type": "contourcarpet"
           }
          ],
          "heatmap": [
           {
            "colorbar": {
             "outlinewidth": 0,
             "ticks": ""
            },
            "colorscale": [
             [
              0,
              "#0d0887"
             ],
             [
              0.1111111111111111,
              "#46039f"
             ],
             [
              0.2222222222222222,
              "#7201a8"
             ],
             [
              0.3333333333333333,
              "#9c179e"
             ],
             [
              0.4444444444444444,
              "#bd3786"
             ],
             [
              0.5555555555555556,
              "#d8576b"
             ],
             [
              0.6666666666666666,
              "#ed7953"
             ],
             [
              0.7777777777777778,
              "#fb9f3a"
             ],
             [
              0.8888888888888888,
              "#fdca26"
             ],
             [
              1,
              "#f0f921"
             ]
            ],
            "type": "heatmap"
           }
          ],
          "heatmapgl": [
           {
            "colorbar": {
             "outlinewidth": 0,
             "ticks": ""
            },
            "colorscale": [
             [
              0,
              "#0d0887"
             ],
             [
              0.1111111111111111,
              "#46039f"
             ],
             [
              0.2222222222222222,
              "#7201a8"
             ],
             [
              0.3333333333333333,
              "#9c179e"
             ],
             [
              0.4444444444444444,
              "#bd3786"
             ],
             [
              0.5555555555555556,
              "#d8576b"
             ],
             [
              0.6666666666666666,
              "#ed7953"
             ],
             [
              0.7777777777777778,
              "#fb9f3a"
             ],
             [
              0.8888888888888888,
              "#fdca26"
             ],
             [
              1,
              "#f0f921"
             ]
            ],
            "type": "heatmapgl"
           }
          ],
          "histogram": [
           {
            "marker": {
             "colorbar": {
              "outlinewidth": 0,
              "ticks": ""
             }
            },
            "type": "histogram"
           }
          ],
          "histogram2d": [
           {
            "colorbar": {
             "outlinewidth": 0,
             "ticks": ""
            },
            "colorscale": [
             [
              0,
              "#0d0887"
             ],
             [
              0.1111111111111111,
              "#46039f"
             ],
             [
              0.2222222222222222,
              "#7201a8"
             ],
             [
              0.3333333333333333,
              "#9c179e"
             ],
             [
              0.4444444444444444,
              "#bd3786"
             ],
             [
              0.5555555555555556,
              "#d8576b"
             ],
             [
              0.6666666666666666,
              "#ed7953"
             ],
             [
              0.7777777777777778,
              "#fb9f3a"
             ],
             [
              0.8888888888888888,
              "#fdca26"
             ],
             [
              1,
              "#f0f921"
             ]
            ],
            "type": "histogram2d"
           }
          ],
          "histogram2dcontour": [
           {
            "colorbar": {
             "outlinewidth": 0,
             "ticks": ""
            },
            "colorscale": [
             [
              0,
              "#0d0887"
             ],
             [
              0.1111111111111111,
              "#46039f"
             ],
             [
              0.2222222222222222,
              "#7201a8"
             ],
             [
              0.3333333333333333,
              "#9c179e"
             ],
             [
              0.4444444444444444,
              "#bd3786"
             ],
             [
              0.5555555555555556,
              "#d8576b"
             ],
             [
              0.6666666666666666,
              "#ed7953"
             ],
             [
              0.7777777777777778,
              "#fb9f3a"
             ],
             [
              0.8888888888888888,
              "#fdca26"
             ],
             [
              1,
              "#f0f921"
             ]
            ],
            "type": "histogram2dcontour"
           }
          ],
          "mesh3d": [
           {
            "colorbar": {
             "outlinewidth": 0,
             "ticks": ""
            },
            "type": "mesh3d"
           }
          ],
          "parcoords": [
           {
            "line": {
             "colorbar": {
              "outlinewidth": 0,
              "ticks": ""
             }
            },
            "type": "parcoords"
           }
          ],
          "pie": [
           {
            "automargin": true,
            "type": "pie"
           }
          ],
          "scatter": [
           {
            "marker": {
             "colorbar": {
              "outlinewidth": 0,
              "ticks": ""
             }
            },
            "type": "scatter"
           }
          ],
          "scatter3d": [
           {
            "line": {
             "colorbar": {
              "outlinewidth": 0,
              "ticks": ""
             }
            },
            "marker": {
             "colorbar": {
              "outlinewidth": 0,
              "ticks": ""
             }
            },
            "type": "scatter3d"
           }
          ],
          "scattercarpet": [
           {
            "marker": {
             "colorbar": {
              "outlinewidth": 0,
              "ticks": ""
             }
            },
            "type": "scattercarpet"
           }
          ],
          "scattergeo": [
           {
            "marker": {
             "colorbar": {
              "outlinewidth": 0,
              "ticks": ""
             }
            },
            "type": "scattergeo"
           }
          ],
          "scattergl": [
           {
            "marker": {
             "colorbar": {
              "outlinewidth": 0,
              "ticks": ""
             }
            },
            "type": "scattergl"
           }
          ],
          "scattermapbox": [
           {
            "marker": {
             "colorbar": {
              "outlinewidth": 0,
              "ticks": ""
             }
            },
            "type": "scattermapbox"
           }
          ],
          "scatterpolar": [
           {
            "marker": {
             "colorbar": {
              "outlinewidth": 0,
              "ticks": ""
             }
            },
            "type": "scatterpolar"
           }
          ],
          "scatterpolargl": [
           {
            "marker": {
             "colorbar": {
              "outlinewidth": 0,
              "ticks": ""
             }
            },
            "type": "scatterpolargl"
           }
          ],
          "scatterternary": [
           {
            "marker": {
             "colorbar": {
              "outlinewidth": 0,
              "ticks": ""
             }
            },
            "type": "scatterternary"
           }
          ],
          "surface": [
           {
            "colorbar": {
             "outlinewidth": 0,
             "ticks": ""
            },
            "colorscale": [
             [
              0,
              "#0d0887"
             ],
             [
              0.1111111111111111,
              "#46039f"
             ],
             [
              0.2222222222222222,
              "#7201a8"
             ],
             [
              0.3333333333333333,
              "#9c179e"
             ],
             [
              0.4444444444444444,
              "#bd3786"
             ],
             [
              0.5555555555555556,
              "#d8576b"
             ],
             [
              0.6666666666666666,
              "#ed7953"
             ],
             [
              0.7777777777777778,
              "#fb9f3a"
             ],
             [
              0.8888888888888888,
              "#fdca26"
             ],
             [
              1,
              "#f0f921"
             ]
            ],
            "type": "surface"
           }
          ],
          "table": [
           {
            "cells": {
             "fill": {
              "color": "#EBF0F8"
             },
             "line": {
              "color": "white"
             }
            },
            "header": {
             "fill": {
              "color": "#C8D4E3"
             },
             "line": {
              "color": "white"
             }
            },
            "type": "table"
           }
          ]
         },
         "layout": {
          "annotationdefaults": {
           "arrowcolor": "#2a3f5f",
           "arrowhead": 0,
           "arrowwidth": 1
          },
          "coloraxis": {
           "colorbar": {
            "outlinewidth": 0,
            "ticks": ""
           }
          },
          "colorscale": {
           "diverging": [
            [
             0,
             "#8e0152"
            ],
            [
             0.1,
             "#c51b7d"
            ],
            [
             0.2,
             "#de77ae"
            ],
            [
             0.3,
             "#f1b6da"
            ],
            [
             0.4,
             "#fde0ef"
            ],
            [
             0.5,
             "#f7f7f7"
            ],
            [
             0.6,
             "#e6f5d0"
            ],
            [
             0.7,
             "#b8e186"
            ],
            [
             0.8,
             "#7fbc41"
            ],
            [
             0.9,
             "#4d9221"
            ],
            [
             1,
             "#276419"
            ]
           ],
           "sequential": [
            [
             0,
             "#0d0887"
            ],
            [
             0.1111111111111111,
             "#46039f"
            ],
            [
             0.2222222222222222,
             "#7201a8"
            ],
            [
             0.3333333333333333,
             "#9c179e"
            ],
            [
             0.4444444444444444,
             "#bd3786"
            ],
            [
             0.5555555555555556,
             "#d8576b"
            ],
            [
             0.6666666666666666,
             "#ed7953"
            ],
            [
             0.7777777777777778,
             "#fb9f3a"
            ],
            [
             0.8888888888888888,
             "#fdca26"
            ],
            [
             1,
             "#f0f921"
            ]
           ],
           "sequentialminus": [
            [
             0,
             "#0d0887"
            ],
            [
             0.1111111111111111,
             "#46039f"
            ],
            [
             0.2222222222222222,
             "#7201a8"
            ],
            [
             0.3333333333333333,
             "#9c179e"
            ],
            [
             0.4444444444444444,
             "#bd3786"
            ],
            [
             0.5555555555555556,
             "#d8576b"
            ],
            [
             0.6666666666666666,
             "#ed7953"
            ],
            [
             0.7777777777777778,
             "#fb9f3a"
            ],
            [
             0.8888888888888888,
             "#fdca26"
            ],
            [
             1,
             "#f0f921"
            ]
           ]
          },
          "colorway": [
           "#636efa",
           "#EF553B",
           "#00cc96",
           "#ab63fa",
           "#FFA15A",
           "#19d3f3",
           "#FF6692",
           "#B6E880",
           "#FF97FF",
           "#FECB52"
          ],
          "font": {
           "color": "#2a3f5f"
          },
          "geo": {
           "bgcolor": "white",
           "lakecolor": "white",
           "landcolor": "#E5ECF6",
           "showlakes": true,
           "showland": true,
           "subunitcolor": "white"
          },
          "hoverlabel": {
           "align": "left"
          },
          "hovermode": "closest",
          "mapbox": {
           "style": "light"
          },
          "paper_bgcolor": "white",
          "plot_bgcolor": "#E5ECF6",
          "polar": {
           "angularaxis": {
            "gridcolor": "white",
            "linecolor": "white",
            "ticks": ""
           },
           "bgcolor": "#E5ECF6",
           "radialaxis": {
            "gridcolor": "white",
            "linecolor": "white",
            "ticks": ""
           }
          },
          "scene": {
           "xaxis": {
            "backgroundcolor": "#E5ECF6",
            "gridcolor": "white",
            "gridwidth": 2,
            "linecolor": "white",
            "showbackground": true,
            "ticks": "",
            "zerolinecolor": "white"
           },
           "yaxis": {
            "backgroundcolor": "#E5ECF6",
            "gridcolor": "white",
            "gridwidth": 2,
            "linecolor": "white",
            "showbackground": true,
            "ticks": "",
            "zerolinecolor": "white"
           },
           "zaxis": {
            "backgroundcolor": "#E5ECF6",
            "gridcolor": "white",
            "gridwidth": 2,
            "linecolor": "white",
            "showbackground": true,
            "ticks": "",
            "zerolinecolor": "white"
           }
          },
          "shapedefaults": {
           "line": {
            "color": "#2a3f5f"
           }
          },
          "ternary": {
           "aaxis": {
            "gridcolor": "white",
            "linecolor": "white",
            "ticks": ""
           },
           "baxis": {
            "gridcolor": "white",
            "linecolor": "white",
            "ticks": ""
           },
           "bgcolor": "#E5ECF6",
           "caxis": {
            "gridcolor": "white",
            "linecolor": "white",
            "ticks": ""
           }
          },
          "title": {
           "x": 0.05
          },
          "xaxis": {
           "automargin": true,
           "gridcolor": "white",
           "linecolor": "white",
           "ticks": "",
           "title": {
            "standoff": 15
           },
           "zerolinecolor": "white",
           "zerolinewidth": 2
          },
          "yaxis": {
           "automargin": true,
           "gridcolor": "white",
           "linecolor": "white",
           "ticks": "",
           "title": {
            "standoff": 15
           },
           "zerolinecolor": "white",
           "zerolinewidth": 2
          }
         }
        },
        "title": {
         "text": "Log of Appliance Energy Consumption in Wh vs Time"
        },
        "xaxis": {
         "anchor": "y",
         "domain": [
          0,
          1
         ],
         "title": {
          "text": "date"
         }
        },
        "yaxis": {
         "anchor": "x",
         "domain": [
          0,
          1
         ],
         "title": {
          "text": "log_energy_consumption"
         }
        }
       }
      },
      "text/html": [
       "<div>\n",
       "        \n",
       "        \n",
       "            <div id=\"4509598c-ad24-46a3-baca-1056156e462d\" class=\"plotly-graph-div\" style=\"height:525px; width:100%;\"></div>\n",
       "            <script type=\"text/javascript\">\n",
       "                require([\"plotly\"], function(Plotly) {\n",
       "                    window.PLOTLYENV=window.PLOTLYENV || {};\n",
       "                    \n",
       "                if (document.getElementById(\"4509598c-ad24-46a3-baca-1056156e462d\")) {\n",
       "                    Plotly.newPlot(\n",
       "                        '4509598c-ad24-46a3-baca-1056156e462d',\n",
       "                        [{\"hovertemplate\": \"source=Training Prediction<br>date=%{x}<br>log_energy_consumption=%{y}<extra></extra>\", \"legendgroup\": \"Training Prediction\", \"line\": {\"color\": \"#636efa\", \"dash\": \"solid\"}, \"mode\": \"lines\", \"name\": \"Training Prediction\", \"orientation\": \"v\", \"showlegend\": true, \"type\": \"scatter\", \"x\": [\"2016-04-14T00:00:00\", \"2016-04-14T01:00:00\", \"2016-04-14T02:00:00\", \"2016-04-14T03:00:00\", \"2016-04-14T04:00:00\", \"2016-04-14T05:00:00\", \"2016-04-14T06:00:00\", \"2016-04-14T07:00:00\", \"2016-04-14T08:00:00\", \"2016-04-14T09:00:00\", \"2016-04-14T10:00:00\", \"2016-04-14T11:00:00\", \"2016-04-14T12:00:00\", \"2016-04-14T13:00:00\", \"2016-04-14T14:00:00\", \"2016-04-14T15:00:00\", \"2016-04-14T16:00:00\", \"2016-04-14T17:00:00\", \"2016-04-14T18:00:00\", \"2016-04-14T19:00:00\", \"2016-04-14T20:00:00\", \"2016-04-14T21:00:00\", \"2016-04-14T22:00:00\", \"2016-04-14T23:00:00\", \"2016-04-15T00:00:00\", \"2016-04-15T01:00:00\", \"2016-04-15T02:00:00\", \"2016-04-15T03:00:00\", \"2016-04-15T04:00:00\", \"2016-04-15T05:00:00\", \"2016-04-15T06:00:00\", \"2016-04-15T07:00:00\", \"2016-04-15T08:00:00\", \"2016-04-15T09:00:00\", \"2016-04-15T10:00:00\", \"2016-04-15T11:00:00\", \"2016-04-15T12:00:00\", \"2016-04-15T13:00:00\", \"2016-04-15T14:00:00\", \"2016-04-15T15:00:00\", \"2016-04-15T16:00:00\", \"2016-04-15T17:00:00\", \"2016-04-15T18:00:00\", \"2016-04-15T19:00:00\", \"2016-04-15T20:00:00\", \"2016-04-15T21:00:00\", \"2016-04-15T22:00:00\", \"2016-04-15T23:00:00\", \"2016-04-16T00:00:00\", \"2016-04-16T01:00:00\", \"2016-04-16T02:00:00\", \"2016-04-16T03:00:00\", \"2016-04-16T04:00:00\", \"2016-04-16T05:00:00\", \"2016-04-16T06:00:00\", \"2016-04-16T07:00:00\", \"2016-04-16T08:00:00\", \"2016-04-16T09:00:00\", \"2016-04-16T10:00:00\", \"2016-04-16T11:00:00\", \"2016-04-16T12:00:00\", \"2016-04-16T13:00:00\", \"2016-04-16T14:00:00\", \"2016-04-16T15:00:00\", \"2016-04-16T16:00:00\", \"2016-04-16T17:00:00\", \"2016-04-16T18:00:00\", \"2016-04-16T19:00:00\", \"2016-04-16T20:00:00\", \"2016-04-16T21:00:00\", \"2016-04-16T22:00:00\", \"2016-04-16T23:00:00\", \"2016-04-17T00:00:00\", \"2016-04-17T01:00:00\"], \"xaxis\": \"x\", \"y\": [3.8710386753082275, 3.836073160171509, 3.8615965843200684, 3.8781933784484863, 3.916106700897217, 3.917926073074341, 3.995234489440918, 4.242423057556152, 4.622354984283447, 4.692371368408203, 4.763613224029541, 4.313051223754883, 4.311968803405762, 4.063868045806885, 4.161108016967773, 4.3167948722839355, 4.752254486083984, 5.061447620391846, 4.958283424377441, 5.09926176071167, 4.881839275360107, 4.148416519165039, 3.8956003189086914, 3.8469088077545166, 3.8409364223480225, 3.8554043769836426, 3.8331902027130127, 3.8854384422302246, 3.857553243637085, 3.9036612510681152, 3.9818286895751953, 5.097653865814209, 5.472506999969482, 5.203686714172363, 6.032674312591553, 5.355113506317139, 4.614522457122803, 4.390632629394531, 4.445553779602051, 4.317814826965332, 4.272792339324951, 4.5987396240234375, 4.9350481033325195, 4.929117202758789, 4.5904364585876465, 4.5559163093566895, 3.992198944091797, 3.8977622985839844, 3.8827602863311768, 3.86383318901062, 3.860262155532837, 3.8479557037353516, 3.9467837810516357, 3.9183225631713867, 3.8693723678588867, 4.032063007354736, 4.2367730140686035, 4.688663005828857, 5.318477153778076, 5.217226028442383, 5.11704158782959, 5.405368328094482, 4.9426140785217285, 4.779140472412109, 5.838071823120117, 5.377492427825928, 5.196333408355713, 5.243492603302002, 4.591480731964111, 4.035883903503418, 4.138726234436035, 3.948962688446045, 3.873978614807129, 3.8643910884857178], \"yaxis\": \"y\"}, {\"hovertemplate\": \"source=Test Prediction<br>date=%{x}<br>log_energy_consumption=%{y}<extra></extra>\", \"legendgroup\": \"Test Prediction\", \"line\": {\"color\": \"#EF553B\", \"dash\": \"solid\"}, \"mode\": \"lines\", \"name\": \"Test Prediction\", \"orientation\": \"v\", \"showlegend\": true, \"type\": \"scatter\", \"x\": [\"2016-04-17T02:00:00\", \"2016-04-17T03:00:00\", \"2016-04-17T04:00:00\", \"2016-04-17T05:00:00\", \"2016-04-17T06:00:00\", \"2016-04-17T07:00:00\", \"2016-04-17T08:00:00\", \"2016-04-17T09:00:00\", \"2016-04-17T10:00:00\", \"2016-04-17T11:00:00\", \"2016-04-17T12:00:00\", \"2016-04-17T13:00:00\", \"2016-04-17T14:00:00\", \"2016-04-17T15:00:00\", \"2016-04-17T16:00:00\", \"2016-04-17T17:00:00\", \"2016-04-17T18:00:00\", \"2016-04-17T19:00:00\", \"2016-04-17T20:00:00\", \"2016-04-17T21:00:00\", \"2016-04-17T22:00:00\", \"2016-04-17T23:00:00\", \"2016-04-18T00:00:00\", \"2016-04-18T01:00:00\", \"2016-04-18T02:00:00\", \"2016-04-18T03:00:00\", \"2016-04-18T04:00:00\", \"2016-04-18T05:00:00\", \"2016-04-18T06:00:00\", \"2016-04-18T07:00:00\", \"2016-04-18T08:00:00\", \"2016-04-18T09:00:00\", \"2016-04-18T10:00:00\", \"2016-04-18T11:00:00\", \"2016-04-18T12:00:00\", \"2016-04-18T13:00:00\", \"2016-04-18T14:00:00\", \"2016-04-18T15:00:00\", \"2016-04-18T16:00:00\", \"2016-04-18T17:00:00\", \"2016-04-18T18:00:00\", \"2016-04-18T19:00:00\", \"2016-04-18T20:00:00\", \"2016-04-18T21:00:00\", \"2016-04-18T22:00:00\", \"2016-04-18T23:00:00\", \"2016-04-19T00:00:00\", \"2016-04-19T01:00:00\", \"2016-04-19T02:00:00\", \"2016-04-19T03:00:00\", \"2016-04-19T04:00:00\", \"2016-04-19T05:00:00\", \"2016-04-19T06:00:00\", \"2016-04-19T07:00:00\", \"2016-04-19T08:00:00\", \"2016-04-19T09:00:00\", \"2016-04-19T10:00:00\", \"2016-04-19T11:00:00\", \"2016-04-19T12:00:00\", \"2016-04-19T13:00:00\", \"2016-04-19T14:00:00\", \"2016-04-19T15:00:00\", \"2016-04-19T16:00:00\", \"2016-04-19T17:00:00\", \"2016-04-19T18:00:00\", \"2016-04-19T19:00:00\", \"2016-04-19T20:00:00\", \"2016-04-19T21:00:00\", \"2016-04-19T22:00:00\", \"2016-04-19T23:00:00\", \"2016-04-20T00:00:00\", \"2016-04-20T01:00:00\", \"2016-04-20T02:00:00\", \"2016-04-20T03:00:00\", \"2016-04-20T04:00:00\", \"2016-04-20T05:00:00\", \"2016-04-20T06:00:00\", \"2016-04-20T07:00:00\", \"2016-04-20T08:00:00\", \"2016-04-20T09:00:00\", \"2016-04-20T10:00:00\", \"2016-04-20T11:00:00\", \"2016-04-20T12:00:00\", \"2016-04-20T13:00:00\", \"2016-04-20T14:00:00\", \"2016-04-20T15:00:00\", \"2016-04-20T16:00:00\", \"2016-04-20T17:00:00\", \"2016-04-20T18:00:00\", \"2016-04-20T19:00:00\", \"2016-04-20T20:00:00\", \"2016-04-20T21:00:00\", \"2016-04-20T22:00:00\", \"2016-04-20T23:00:00\", \"2016-04-21T00:00:00\", \"2016-04-21T01:00:00\", \"2016-04-21T02:00:00\", \"2016-04-21T03:00:00\", \"2016-04-21T04:00:00\", \"2016-04-21T05:00:00\", \"2016-04-21T06:00:00\", \"2016-04-21T07:00:00\", \"2016-04-21T08:00:00\", \"2016-04-21T09:00:00\", \"2016-04-21T10:00:00\", \"2016-04-21T11:00:00\", \"2016-04-21T12:00:00\", \"2016-04-21T13:00:00\", \"2016-04-21T14:00:00\", \"2016-04-21T15:00:00\", \"2016-04-21T16:00:00\", \"2016-04-21T17:00:00\", \"2016-04-21T18:00:00\", \"2016-04-21T19:00:00\", \"2016-04-21T20:00:00\", \"2016-04-21T21:00:00\", \"2016-04-21T22:00:00\", \"2016-04-21T23:00:00\", \"2016-04-22T00:00:00\", \"2016-04-22T01:00:00\", \"2016-04-22T02:00:00\", \"2016-04-22T03:00:00\", \"2016-04-22T04:00:00\", \"2016-04-22T05:00:00\", \"2016-04-22T06:00:00\", \"2016-04-22T07:00:00\", \"2016-04-22T08:00:00\", \"2016-04-22T09:00:00\", \"2016-04-22T10:00:00\", \"2016-04-22T11:00:00\", \"2016-04-22T12:00:00\", \"2016-04-22T13:00:00\", \"2016-04-22T14:00:00\", \"2016-04-22T15:00:00\", \"2016-04-22T16:00:00\", \"2016-04-22T17:00:00\", \"2016-04-22T18:00:00\", \"2016-04-22T19:00:00\", \"2016-04-22T20:00:00\", \"2016-04-22T21:00:00\", \"2016-04-22T22:00:00\", \"2016-04-22T23:00:00\", \"2016-04-23T00:00:00\"], \"xaxis\": \"x\", \"y\": [3.835007429122925, 3.859635353088379, 3.9206314086914062, 3.9244565963745117, 3.9387998580932617, 3.971435070037842, 4.267538070678711, 4.933956623077393, 5.35772705078125, 5.155559062957764, 4.798929214477539, 4.831432342529297, 4.255343437194824, 4.389446258544922, 4.625298500061035, 5.453819751739502, 5.445344924926758, 4.623297214508057, 4.496363639831543, 4.033430576324463, 3.984070062637329, 3.8617823123931885, 3.8780837059020996, 3.8371152877807617, 3.9039998054504395, 3.935992956161499, 3.868180990219116, 3.897758722305298, 3.9237289428710938, 4.508590221405029, 3.923395872116089, 4.20648717880249, 4.138563632965088, 4.330218315124512, 4.450052738189697, 4.1755781173706055, 3.8063066005706787, 3.885070562362671, 4.938333511352539, 5.414022922515869, 5.526523590087891, 4.900241851806641, 4.770750999450684, 4.016070365905762, 3.8716697692871094, 3.8483340740203857, 3.9460906982421875, 3.9064700603485107, 3.8362131118774414, 3.685359477996826, 3.8500406742095947, 3.9288086891174316, 4.167361736297607, 4.901156425476074, 4.205501556396484, 4.057088851928711, 4.173309326171875, 3.961163282394409, 3.8506855964660645, 3.960099458694458, 3.8943302631378174, 4.091380596160889, 3.7835450172424316, 4.698563098907471, 5.47696590423584, 5.415430545806885, 4.663534641265869, 3.9080827236175537, 3.9015164375305176, 3.8781795501708984, 3.8832359313964844, 3.959792375564575, 3.850473165512085, 3.813953399658203, 3.799131393432617, 3.8681530952453613, 3.967756986618042, 4.369133949279785, 4.937864303588867, 4.375176429748535, 4.278869152069092, 4.136884689331055, 3.9424757957458496, 3.934990882873535, 4.019562244415283, 5.020763397216797, 4.861156940460205, 4.496989727020264, 4.3318328857421875, 5.077841281890869, 4.7095232009887695, 4.652262210845947, 3.923516273498535, 3.871225595474243, 3.880925416946411, 3.8616652488708496, 3.85174822807312, 3.8376717567443848, 3.8436243534088135, 3.85634183883667, 4.07197380065918, 4.285482406616211, 4.148136615753174, 3.9629178047180176, 4.095614433288574, 3.9005725383758545, 3.8641018867492676, 3.9710450172424316, 4.394158363342285, 4.149712562561035, 4.087841033935547, 4.549116611480713, 5.462459087371826, 5.103288173675537, 4.721213340759277, 4.189589977264404, 3.935781240463257, 3.879272699356079, 3.8841893672943115, 3.8396615982055664, 3.904885768890381, 3.954145669937134, 4.037705898284912, 4.03778600692749, 4.120201587677002, 4.31864070892334, 4.882960319519043, 5.17230224609375, 5.625002384185791, 5.44796895980835, 5.663321018218994, 5.2859787940979, 5.699776649475098, 4.310178279876709, 5.131322383880615, 5.293978214263916, 5.361960411071777, 4.44200325012207, 4.5397443771362305, 4.096828937530518, 3.8957443237304688, 3.88859486579895, 3.8660507202148438], \"yaxis\": \"y\"}, {\"hovertemplate\": \"source=True Values<br>date=%{x}<br>log_energy_consumption=%{y}<extra></extra>\", \"legendgroup\": \"True Values\", \"line\": {\"color\": \"#00cc96\", \"dash\": \"solid\"}, \"mode\": \"lines\", \"name\": \"True Values\", \"orientation\": \"v\", \"showlegend\": true, \"type\": \"scatter\", \"x\": [\"2016-04-14T00:00:00\", \"2016-04-14T01:00:00\", \"2016-04-14T02:00:00\", \"2016-04-14T03:00:00\", \"2016-04-14T04:00:00\", \"2016-04-14T05:00:00\", \"2016-04-14T06:00:00\", \"2016-04-14T07:00:00\", \"2016-04-14T08:00:00\", \"2016-04-14T09:00:00\", \"2016-04-14T10:00:00\", \"2016-04-14T11:00:00\", \"2016-04-14T12:00:00\", \"2016-04-14T13:00:00\", \"2016-04-14T14:00:00\", \"2016-04-14T15:00:00\", \"2016-04-14T16:00:00\", \"2016-04-14T17:00:00\", \"2016-04-14T18:00:00\", \"2016-04-14T19:00:00\", \"2016-04-14T20:00:00\", \"2016-04-14T21:00:00\", \"2016-04-14T22:00:00\", \"2016-04-14T23:00:00\", \"2016-04-15T00:00:00\", \"2016-04-15T01:00:00\", \"2016-04-15T02:00:00\", \"2016-04-15T03:00:00\", \"2016-04-15T04:00:00\", \"2016-04-15T05:00:00\", \"2016-04-15T06:00:00\", \"2016-04-15T07:00:00\", \"2016-04-15T08:00:00\", \"2016-04-15T09:00:00\", \"2016-04-15T10:00:00\", \"2016-04-15T11:00:00\", \"2016-04-15T12:00:00\", \"2016-04-15T13:00:00\", \"2016-04-15T14:00:00\", \"2016-04-15T15:00:00\", \"2016-04-15T16:00:00\", \"2016-04-15T17:00:00\", \"2016-04-15T18:00:00\", \"2016-04-15T19:00:00\", \"2016-04-15T20:00:00\", \"2016-04-15T21:00:00\", \"2016-04-15T22:00:00\", \"2016-04-15T23:00:00\", \"2016-04-16T00:00:00\", \"2016-04-16T01:00:00\", \"2016-04-16T02:00:00\", \"2016-04-16T03:00:00\", \"2016-04-16T04:00:00\", \"2016-04-16T05:00:00\", \"2016-04-16T06:00:00\", \"2016-04-16T07:00:00\", \"2016-04-16T08:00:00\", \"2016-04-16T09:00:00\", \"2016-04-16T10:00:00\", \"2016-04-16T11:00:00\", \"2016-04-16T12:00:00\", \"2016-04-16T13:00:00\", \"2016-04-16T14:00:00\", \"2016-04-16T15:00:00\", \"2016-04-16T16:00:00\", \"2016-04-16T17:00:00\", \"2016-04-16T18:00:00\", \"2016-04-16T19:00:00\", \"2016-04-16T20:00:00\", \"2016-04-16T21:00:00\", \"2016-04-16T22:00:00\", \"2016-04-16T23:00:00\", \"2016-04-17T00:00:00\", \"2016-04-17T01:00:00\", \"2016-04-17T02:00:00\", \"2016-04-17T03:00:00\", \"2016-04-17T04:00:00\", \"2016-04-17T05:00:00\", \"2016-04-17T06:00:00\", \"2016-04-17T07:00:00\", \"2016-04-17T08:00:00\", \"2016-04-17T09:00:00\", \"2016-04-17T10:00:00\", \"2016-04-17T11:00:00\", \"2016-04-17T12:00:00\", \"2016-04-17T13:00:00\", \"2016-04-17T14:00:00\", \"2016-04-17T15:00:00\", \"2016-04-17T16:00:00\", \"2016-04-17T17:00:00\", \"2016-04-17T18:00:00\", \"2016-04-17T19:00:00\", \"2016-04-17T20:00:00\", \"2016-04-17T21:00:00\", \"2016-04-17T22:00:00\", \"2016-04-17T23:00:00\", \"2016-04-18T00:00:00\", \"2016-04-18T01:00:00\", \"2016-04-18T02:00:00\", \"2016-04-18T03:00:00\", \"2016-04-18T04:00:00\", \"2016-04-18T05:00:00\", \"2016-04-18T06:00:00\", \"2016-04-18T07:00:00\", \"2016-04-18T08:00:00\", \"2016-04-18T09:00:00\", \"2016-04-18T10:00:00\", \"2016-04-18T11:00:00\", \"2016-04-18T12:00:00\", \"2016-04-18T13:00:00\", \"2016-04-18T14:00:00\", \"2016-04-18T15:00:00\", \"2016-04-18T16:00:00\", \"2016-04-18T17:00:00\", \"2016-04-18T18:00:00\", \"2016-04-18T19:00:00\", \"2016-04-18T20:00:00\", \"2016-04-18T21:00:00\", \"2016-04-18T22:00:00\", \"2016-04-18T23:00:00\", \"2016-04-19T00:00:00\", \"2016-04-19T01:00:00\", \"2016-04-19T02:00:00\", \"2016-04-19T03:00:00\", \"2016-04-19T04:00:00\", \"2016-04-19T05:00:00\", \"2016-04-19T06:00:00\", \"2016-04-19T07:00:00\", \"2016-04-19T08:00:00\", \"2016-04-19T09:00:00\", \"2016-04-19T10:00:00\", \"2016-04-19T11:00:00\", \"2016-04-19T12:00:00\", \"2016-04-19T13:00:00\", \"2016-04-19T14:00:00\", \"2016-04-19T15:00:00\", \"2016-04-19T16:00:00\", \"2016-04-19T17:00:00\", \"2016-04-19T18:00:00\", \"2016-04-19T19:00:00\", \"2016-04-19T20:00:00\", \"2016-04-19T21:00:00\", \"2016-04-19T22:00:00\", \"2016-04-19T23:00:00\", \"2016-04-20T00:00:00\", \"2016-04-20T01:00:00\", \"2016-04-20T02:00:00\", \"2016-04-20T03:00:00\", \"2016-04-20T04:00:00\", \"2016-04-20T05:00:00\", \"2016-04-20T06:00:00\", \"2016-04-20T07:00:00\", \"2016-04-20T08:00:00\", \"2016-04-20T09:00:00\", \"2016-04-20T10:00:00\", \"2016-04-20T11:00:00\", \"2016-04-20T12:00:00\", \"2016-04-20T13:00:00\", \"2016-04-20T14:00:00\", \"2016-04-20T15:00:00\", \"2016-04-20T16:00:00\", \"2016-04-20T17:00:00\", \"2016-04-20T18:00:00\", \"2016-04-20T19:00:00\", \"2016-04-20T20:00:00\", \"2016-04-20T21:00:00\", \"2016-04-20T22:00:00\", \"2016-04-20T23:00:00\", \"2016-04-21T00:00:00\", \"2016-04-21T01:00:00\", \"2016-04-21T02:00:00\", \"2016-04-21T03:00:00\", \"2016-04-21T04:00:00\", \"2016-04-21T05:00:00\", \"2016-04-21T06:00:00\", \"2016-04-21T07:00:00\", \"2016-04-21T08:00:00\", \"2016-04-21T09:00:00\", \"2016-04-21T10:00:00\", \"2016-04-21T11:00:00\", \"2016-04-21T12:00:00\", \"2016-04-21T13:00:00\", \"2016-04-21T14:00:00\", \"2016-04-21T15:00:00\", \"2016-04-21T16:00:00\", \"2016-04-21T17:00:00\", \"2016-04-21T18:00:00\", \"2016-04-21T19:00:00\", \"2016-04-21T20:00:00\", \"2016-04-21T21:00:00\", \"2016-04-21T22:00:00\", \"2016-04-21T23:00:00\", \"2016-04-22T00:00:00\", \"2016-04-22T01:00:00\", \"2016-04-22T02:00:00\", \"2016-04-22T03:00:00\", \"2016-04-22T04:00:00\", \"2016-04-22T05:00:00\", \"2016-04-22T06:00:00\", \"2016-04-22T07:00:00\", \"2016-04-22T08:00:00\", \"2016-04-22T09:00:00\", \"2016-04-22T10:00:00\", \"2016-04-22T11:00:00\", \"2016-04-22T12:00:00\", \"2016-04-22T13:00:00\", \"2016-04-22T14:00:00\", \"2016-04-22T15:00:00\", \"2016-04-22T16:00:00\", \"2016-04-22T17:00:00\", \"2016-04-22T18:00:00\", \"2016-04-22T19:00:00\", \"2016-04-22T20:00:00\", \"2016-04-22T21:00:00\", \"2016-04-22T22:00:00\", \"2016-04-22T23:00:00\", \"2016-04-23T00:00:00\"], \"xaxis\": \"x\", \"y\": [4.007333185232471, 3.9765615265657175, 3.9765615265657175, 3.9765615265657175, 3.9765615265657175, 3.912023005428146, 4.148411783492376, 4.360973225476049, 4.382026634673881, 4.174387269895637, 4.360973225476049, 4.402645921876617, 4.121743536410215, 3.9765615265657175, 4.248495242049359, 4.518158808998462, 4.402645921876617, 5.646624060816253, 5.393627546352362, 5.272999558563747, 4.339467020255086, 4.037186148382152, 3.912023005428146, 3.9765615265657175, 3.9448128282511368, 3.9448128282511368, 4.037186148382152, 3.8781214537524646, 4.007333185232471, 3.9765615265657175, 5.917997395226109, 5.501258210544727, 5.794029352503979, 5.501258210544727, 5.862683757242057, 5.12594614060725, 4.339467020255086, 4.148411783492376, 4.272025739459553, 4.199705077879927, 4.422848629194137, 4.382026634673881, 5.3471075307174685, 4.814890716970161, 4.700480365792417, 4.637960008811082, 4.402645921876617, 4.037186148382152, 3.9765615265657175, 4.007333185232471, 3.912023005428146, 4.037186148382152, 3.8781214537524646, 3.9765615265657175, 3.9765615265657175, 4.174387269895637, 4.637960008811082, 4.953476880256307, 5.675611597689505, 5.681309618804143, 4.685212893661628, 5.452468046375295, 5.487559366186565, 4.7303333289420975, 6.0905554497522125, 5.528105460580915, 4.917544871030244, 4.7303333289420975, 4.621699487939302, 4.553876891600541, 4.148411783492376, 4.007333185232471, 3.9448128282511368, 4.007333185232471, 3.8781214537524646, 4.0661736852554045, 3.8781214537524646, 3.9448128282511368, 3.912023005428146, 4.148411783492376, 4.941642422609304, 4.637960008811082, 6.09807428216624, 4.75932086581535, 4.965172920019499, 4.272025739459553, 4.248495242049359, 4.553876891600541, 5.12594614060725, 5.473670254025898, 4.8012850649143815, 4.814890716970161, 4.499809670330265, 4.360973225476049, 3.9765615265657175, 4.037186148382152, 4.037186148382152, 4.199705077879927, 3.9765615265657175, 3.8430301339411947, 3.8430301339411947, 3.9765615265657175, 4.007333185232471, 3.912023005428146, 3.9765615265657175, 3.912023005428146, 3.9448128282511368, 4.402645921876617, 3.8781214537524646, 3.9765615265657175, 3.6888794541139363, 4.007333185232471, 4.248495242049359, 5.573420656792957, 4.880273476233012, 4.75932086581535, 4.8283137373023015, 4.121743536410215, 3.7297014486341915, 3.9448128282511368, 3.9765615265657175, 3.6463198396951406, 3.9765615265657175, 3.9448128282511368, 3.912023005428146, 4.715518243156957, 4.360973225476049, 4.892852258439873, 3.8781214537524646, 3.9765615265657175, 3.6463198396951406, 3.9448128282511368, 3.9448128282511368, 3.8066624897703196, 3.8781214537524646, 3.912023005428146, 3.9448128282511368, 5.51477192971145, 4.854631045619675, 4.74493212836325, 4.4620693423474185, 4.0943445622221, 3.9448128282511368, 3.6888794541139363, 4.007333185232471, 3.912023005428146, 3.8066624897703196, 3.8781214537524646, 3.9448128282511368, 3.912023005428146, 4.199705077879927, 4.037186148382152, 3.9765615265657175, 4.148411783492376, 4.174387269895637, 3.8066624897703196, 3.8430301339411947, 3.9765615265657175, 5.155216522907363, 4.360973225476049, 4.272025739459553, 5.19295685089021, 5.652489180268651, 4.787491742782046, 4.685212893661628, 4.295015257684252, 3.9765615265657175, 3.7297014486341915, 3.9448128282511368, 3.9765615265657175, 3.8781214537524646, 3.6888794541139363, 3.9765615265657175, 4.2243976904702984, 4.121743536410215, 3.7689221617874726, 3.9448128282511368, 3.9448128282511368, 3.9448128282511368, 4.007333185232471, 3.912023005428146, 4.121743536410215, 4.121743536410215, 4.148411783492376, 4.4620693423474185, 5.306616169362732, 5.19295685089021, 4.854631045619675, 5.1647859739235145, 4.2243976904702984, 4.248495242049359, 4.2243976904702984, 4.121743536410215, 4.121743536410215, 4.2243976904702984, 4.199705077879927, 4.199705077879927, 4.248495242049359, 4.199705077879927, 5.145554611995626, 5.12594614060725, 5.9445476273202305, 5.9872891756975015, 5.579729825986222, 5.84354441703136, 5.634789603169249, 4.481117537318112, 5.622813412122534, 5.675611597689505, 5.9445476273202305, 5.264415814872355, 4.653960350157523, 4.653960350157523, 4.272025739459553, 4.007333185232471, 4.007333185232471, 4.037186148382152], \"yaxis\": \"y\"}],\n",
       "                        {\"legend\": {\"title\": {\"text\": \"source\"}, \"tracegroupgap\": 0}, \"template\": {\"data\": {\"bar\": [{\"error_x\": {\"color\": \"#2a3f5f\"}, \"error_y\": {\"color\": \"#2a3f5f\"}, \"marker\": {\"line\": {\"color\": \"#E5ECF6\", \"width\": 0.5}}, \"type\": \"bar\"}], \"barpolar\": [{\"marker\": {\"line\": {\"color\": \"#E5ECF6\", \"width\": 0.5}}, \"type\": \"barpolar\"}], \"carpet\": [{\"aaxis\": {\"endlinecolor\": \"#2a3f5f\", \"gridcolor\": \"white\", \"linecolor\": \"white\", \"minorgridcolor\": \"white\", \"startlinecolor\": \"#2a3f5f\"}, \"baxis\": {\"endlinecolor\": \"#2a3f5f\", \"gridcolor\": \"white\", \"linecolor\": \"white\", \"minorgridcolor\": \"white\", \"startlinecolor\": \"#2a3f5f\"}, \"type\": \"carpet\"}], \"choropleth\": [{\"colorbar\": {\"outlinewidth\": 0, \"ticks\": \"\"}, \"type\": \"choropleth\"}], \"contour\": [{\"colorbar\": {\"outlinewidth\": 0, \"ticks\": \"\"}, \"colorscale\": [[0.0, \"#0d0887\"], [0.1111111111111111, \"#46039f\"], [0.2222222222222222, \"#7201a8\"], [0.3333333333333333, \"#9c179e\"], [0.4444444444444444, \"#bd3786\"], [0.5555555555555556, \"#d8576b\"], [0.6666666666666666, \"#ed7953\"], [0.7777777777777778, \"#fb9f3a\"], [0.8888888888888888, \"#fdca26\"], [1.0, \"#f0f921\"]], \"type\": \"contour\"}], \"contourcarpet\": [{\"colorbar\": {\"outlinewidth\": 0, \"ticks\": \"\"}, \"type\": \"contourcarpet\"}], \"heatmap\": [{\"colorbar\": {\"outlinewidth\": 0, \"ticks\": \"\"}, \"colorscale\": [[0.0, \"#0d0887\"], [0.1111111111111111, \"#46039f\"], [0.2222222222222222, \"#7201a8\"], [0.3333333333333333, \"#9c179e\"], [0.4444444444444444, \"#bd3786\"], [0.5555555555555556, \"#d8576b\"], [0.6666666666666666, \"#ed7953\"], [0.7777777777777778, \"#fb9f3a\"], [0.8888888888888888, \"#fdca26\"], [1.0, \"#f0f921\"]], \"type\": \"heatmap\"}], \"heatmapgl\": [{\"colorbar\": {\"outlinewidth\": 0, \"ticks\": \"\"}, \"colorscale\": [[0.0, \"#0d0887\"], [0.1111111111111111, \"#46039f\"], [0.2222222222222222, \"#7201a8\"], [0.3333333333333333, \"#9c179e\"], [0.4444444444444444, \"#bd3786\"], [0.5555555555555556, \"#d8576b\"], [0.6666666666666666, \"#ed7953\"], [0.7777777777777778, \"#fb9f3a\"], [0.8888888888888888, \"#fdca26\"], [1.0, \"#f0f921\"]], \"type\": \"heatmapgl\"}], \"histogram\": [{\"marker\": {\"colorbar\": {\"outlinewidth\": 0, \"ticks\": \"\"}}, \"type\": \"histogram\"}], \"histogram2d\": [{\"colorbar\": {\"outlinewidth\": 0, \"ticks\": \"\"}, \"colorscale\": [[0.0, \"#0d0887\"], [0.1111111111111111, \"#46039f\"], [0.2222222222222222, \"#7201a8\"], [0.3333333333333333, \"#9c179e\"], [0.4444444444444444, \"#bd3786\"], [0.5555555555555556, \"#d8576b\"], [0.6666666666666666, \"#ed7953\"], [0.7777777777777778, \"#fb9f3a\"], [0.8888888888888888, \"#fdca26\"], [1.0, \"#f0f921\"]], \"type\": \"histogram2d\"}], \"histogram2dcontour\": [{\"colorbar\": {\"outlinewidth\": 0, \"ticks\": \"\"}, \"colorscale\": [[0.0, \"#0d0887\"], [0.1111111111111111, \"#46039f\"], [0.2222222222222222, \"#7201a8\"], [0.3333333333333333, \"#9c179e\"], [0.4444444444444444, \"#bd3786\"], [0.5555555555555556, \"#d8576b\"], [0.6666666666666666, \"#ed7953\"], [0.7777777777777778, \"#fb9f3a\"], [0.8888888888888888, \"#fdca26\"], [1.0, \"#f0f921\"]], \"type\": \"histogram2dcontour\"}], \"mesh3d\": [{\"colorbar\": {\"outlinewidth\": 0, \"ticks\": \"\"}, \"type\": \"mesh3d\"}], \"parcoords\": [{\"line\": {\"colorbar\": {\"outlinewidth\": 0, \"ticks\": \"\"}}, \"type\": \"parcoords\"}], \"pie\": [{\"automargin\": true, \"type\": \"pie\"}], \"scatter\": [{\"marker\": {\"colorbar\": {\"outlinewidth\": 0, \"ticks\": \"\"}}, \"type\": \"scatter\"}], \"scatter3d\": [{\"line\": {\"colorbar\": {\"outlinewidth\": 0, \"ticks\": \"\"}}, \"marker\": {\"colorbar\": {\"outlinewidth\": 0, \"ticks\": \"\"}}, \"type\": \"scatter3d\"}], \"scattercarpet\": [{\"marker\": {\"colorbar\": {\"outlinewidth\": 0, \"ticks\": \"\"}}, \"type\": \"scattercarpet\"}], \"scattergeo\": [{\"marker\": {\"colorbar\": {\"outlinewidth\": 0, \"ticks\": \"\"}}, \"type\": \"scattergeo\"}], \"scattergl\": [{\"marker\": {\"colorbar\": {\"outlinewidth\": 0, \"ticks\": \"\"}}, \"type\": \"scattergl\"}], \"scattermapbox\": [{\"marker\": {\"colorbar\": {\"outlinewidth\": 0, \"ticks\": \"\"}}, \"type\": \"scattermapbox\"}], \"scatterpolar\": [{\"marker\": {\"colorbar\": {\"outlinewidth\": 0, \"ticks\": \"\"}}, \"type\": \"scatterpolar\"}], \"scatterpolargl\": [{\"marker\": {\"colorbar\": {\"outlinewidth\": 0, \"ticks\": \"\"}}, \"type\": \"scatterpolargl\"}], \"scatterternary\": [{\"marker\": {\"colorbar\": {\"outlinewidth\": 0, \"ticks\": \"\"}}, \"type\": \"scatterternary\"}], \"surface\": [{\"colorbar\": {\"outlinewidth\": 0, \"ticks\": \"\"}, \"colorscale\": [[0.0, \"#0d0887\"], [0.1111111111111111, \"#46039f\"], [0.2222222222222222, \"#7201a8\"], [0.3333333333333333, \"#9c179e\"], [0.4444444444444444, \"#bd3786\"], [0.5555555555555556, \"#d8576b\"], [0.6666666666666666, \"#ed7953\"], [0.7777777777777778, \"#fb9f3a\"], [0.8888888888888888, \"#fdca26\"], [1.0, \"#f0f921\"]], \"type\": \"surface\"}], \"table\": [{\"cells\": {\"fill\": {\"color\": \"#EBF0F8\"}, \"line\": {\"color\": \"white\"}}, \"header\": {\"fill\": {\"color\": \"#C8D4E3\"}, \"line\": {\"color\": \"white\"}}, \"type\": \"table\"}]}, \"layout\": {\"annotationdefaults\": {\"arrowcolor\": \"#2a3f5f\", \"arrowhead\": 0, \"arrowwidth\": 1}, \"coloraxis\": {\"colorbar\": {\"outlinewidth\": 0, \"ticks\": \"\"}}, \"colorscale\": {\"diverging\": [[0, \"#8e0152\"], [0.1, \"#c51b7d\"], [0.2, \"#de77ae\"], [0.3, \"#f1b6da\"], [0.4, \"#fde0ef\"], [0.5, \"#f7f7f7\"], [0.6, \"#e6f5d0\"], [0.7, \"#b8e186\"], [0.8, \"#7fbc41\"], [0.9, \"#4d9221\"], [1, \"#276419\"]], \"sequential\": [[0.0, \"#0d0887\"], [0.1111111111111111, \"#46039f\"], [0.2222222222222222, \"#7201a8\"], [0.3333333333333333, \"#9c179e\"], [0.4444444444444444, \"#bd3786\"], [0.5555555555555556, \"#d8576b\"], [0.6666666666666666, \"#ed7953\"], [0.7777777777777778, \"#fb9f3a\"], [0.8888888888888888, \"#fdca26\"], [1.0, \"#f0f921\"]], \"sequentialminus\": [[0.0, \"#0d0887\"], [0.1111111111111111, \"#46039f\"], [0.2222222222222222, \"#7201a8\"], [0.3333333333333333, \"#9c179e\"], [0.4444444444444444, \"#bd3786\"], [0.5555555555555556, \"#d8576b\"], [0.6666666666666666, \"#ed7953\"], [0.7777777777777778, \"#fb9f3a\"], [0.8888888888888888, \"#fdca26\"], [1.0, \"#f0f921\"]]}, \"colorway\": [\"#636efa\", \"#EF553B\", \"#00cc96\", \"#ab63fa\", \"#FFA15A\", \"#19d3f3\", \"#FF6692\", \"#B6E880\", \"#FF97FF\", \"#FECB52\"], \"font\": {\"color\": \"#2a3f5f\"}, \"geo\": {\"bgcolor\": \"white\", \"lakecolor\": \"white\", \"landcolor\": \"#E5ECF6\", \"showlakes\": true, \"showland\": true, \"subunitcolor\": \"white\"}, \"hoverlabel\": {\"align\": \"left\"}, \"hovermode\": \"closest\", \"mapbox\": {\"style\": \"light\"}, \"paper_bgcolor\": \"white\", \"plot_bgcolor\": \"#E5ECF6\", \"polar\": {\"angularaxis\": {\"gridcolor\": \"white\", \"linecolor\": \"white\", \"ticks\": \"\"}, \"bgcolor\": \"#E5ECF6\", \"radialaxis\": {\"gridcolor\": \"white\", \"linecolor\": \"white\", \"ticks\": \"\"}}, \"scene\": {\"xaxis\": {\"backgroundcolor\": \"#E5ECF6\", \"gridcolor\": \"white\", \"gridwidth\": 2, \"linecolor\": \"white\", \"showbackground\": true, \"ticks\": \"\", \"zerolinecolor\": \"white\"}, \"yaxis\": {\"backgroundcolor\": \"#E5ECF6\", \"gridcolor\": \"white\", \"gridwidth\": 2, \"linecolor\": \"white\", \"showbackground\": true, \"ticks\": \"\", \"zerolinecolor\": \"white\"}, \"zaxis\": {\"backgroundcolor\": \"#E5ECF6\", \"gridcolor\": \"white\", \"gridwidth\": 2, \"linecolor\": \"white\", \"showbackground\": true, \"ticks\": \"\", \"zerolinecolor\": \"white\"}}, \"shapedefaults\": {\"line\": {\"color\": \"#2a3f5f\"}}, \"ternary\": {\"aaxis\": {\"gridcolor\": \"white\", \"linecolor\": \"white\", \"ticks\": \"\"}, \"baxis\": {\"gridcolor\": \"white\", \"linecolor\": \"white\", \"ticks\": \"\"}, \"bgcolor\": \"#E5ECF6\", \"caxis\": {\"gridcolor\": \"white\", \"linecolor\": \"white\", \"ticks\": \"\"}}, \"title\": {\"x\": 0.05}, \"xaxis\": {\"automargin\": true, \"gridcolor\": \"white\", \"linecolor\": \"white\", \"ticks\": \"\", \"title\": {\"standoff\": 15}, \"zerolinecolor\": \"white\", \"zerolinewidth\": 2}, \"yaxis\": {\"automargin\": true, \"gridcolor\": \"white\", \"linecolor\": \"white\", \"ticks\": \"\", \"title\": {\"standoff\": 15}, \"zerolinecolor\": \"white\", \"zerolinewidth\": 2}}}, \"title\": {\"text\": \"Log of Appliance Energy Consumption in Wh vs Time\"}, \"xaxis\": {\"anchor\": \"y\", \"domain\": [0.0, 1.0], \"title\": {\"text\": \"date\"}}, \"yaxis\": {\"anchor\": \"x\", \"domain\": [0.0, 1.0], \"title\": {\"text\": \"log_energy_consumption\"}}},\n",
       "                        {\"responsive\": true}\n",
       "                    ).then(function(){\n",
       "                            \n",
       "var gd = document.getElementById('4509598c-ad24-46a3-baca-1056156e462d');\n",
       "var x = new MutationObserver(function (mutations, observer) {{\n",
       "        var display = window.getComputedStyle(gd).display;\n",
       "        if (!display || display === 'none') {{\n",
       "            console.log([gd, 'removed!']);\n",
       "            Plotly.purge(gd);\n",
       "            observer.disconnect();\n",
       "        }}\n",
       "}});\n",
       "\n",
       "// Listen for the removal of the full notebook cells\n",
       "var notebookContainer = gd.closest('#notebook-container');\n",
       "if (notebookContainer) {{\n",
       "    x.observe(notebookContainer, {childList: true});\n",
       "}}\n",
       "\n",
       "// Listen for the clearing of the current output cell\n",
       "var outputEl = gd.closest('.output');\n",
       "if (outputEl) {{\n",
       "    x.observe(outputEl, {childList: true});\n",
       "}}\n",
       "\n",
       "                        })\n",
       "                };\n",
       "                });\n",
       "            </script>\n",
       "        </div>"
      ]
     },
     "metadata": {},
     "output_type": "display_data"
    }
   ],
   "source": [
    "fig = px.line(evaluation.loc[evaluation['date'].between('2016-04-14', '2016-04-23')],\n",
    "                 x=\"date\",\n",
    "                 y=\"log_energy_consumption\",\n",
    "                 color=\"source\",\n",
    "                 title=\"Log of Appliance Energy Consumption in Wh vs Time\")\n",
    "fig.show()"
   ]
  },
  {
   "cell_type": "markdown",
   "metadata": {
    "colab_type": "text",
    "id": "Jrwiy646yq7t"
   },
   "source": [
    "# Uncertainty Quantification"
   ]
  },
  {
   "cell_type": "markdown",
   "metadata": {
    "colab_type": "text",
    "id": "8FEzMrU147zx"
   },
   "source": [
    "## これ以降は論文と異なる　論文では不確実性を３つに分けて議論\n",
    "\n",
    "The fact that stochastic dropouts are applied after each LSTM layer in the Bayesian LSTM enables users to interpret the model outputs as random samples from the posterior distribution of the target variable. \n",
    "\n",
    "This implies that by running multiple experiments/predictions, can approximate  parameters of the posterioir distribution, namely the mean and the variance, in order to create confidence intervals for each prediction.\n",
    "\n",
    "In this example, we construct 99% confidence intervals that are three standard deviations away from the approximate mean of each prediction."
   ]
  },
  {
   "cell_type": "code",
   "execution_count": 41,
   "metadata": {
    "colab": {},
    "colab_type": "code",
    "id": "Jb4xyVW6DVUV"
   },
   "outputs": [],
   "source": [
    "n_experiments = 100\n",
    "\n",
    "test_uncertainty_df = pd.DataFrame()\n",
    "test_uncertainty_df['date'] = testing_df['date']\n",
    "\n",
    "for i in range(n_experiments):\n",
    "  experiment_predictions = bayesian_lstm.predict(X_test)\n",
    "  test_uncertainty_df['log_energy_consumption_{}'.format(i)] = inverse_transform(experiment_predictions)\n",
    "\n",
    "log_energy_consumption_df = test_uncertainty_df.filter(like='log_energy_consumption', axis=1)\n",
    "test_uncertainty_df['log_energy_consumption_mean'] = log_energy_consumption_df.mean(axis=1)\n",
    "test_uncertainty_df['log_energy_consumption_std'] = log_energy_consumption_df.std(axis=1)\n",
    "\n",
    "test_uncertainty_df = test_uncertainty_df[['date', 'log_energy_consumption_mean', 'log_energy_consumption_std']]"
   ]
  },
  {
   "cell_type": "code",
   "execution_count": 42,
   "metadata": {
    "colab": {},
    "colab_type": "code",
    "id": "SNrb70dSdDH0"
   },
   "outputs": [],
   "source": [
    "test_uncertainty_df['lower_bound'] = test_uncertainty_df['log_energy_consumption_mean'] - 3*test_uncertainty_df['log_energy_consumption_std'] # 係数を変えることで信頼区間を調整できる\n",
    "test_uncertainty_df['upper_bound'] = test_uncertainty_df['log_energy_consumption_mean'] + 3*test_uncertainty_df['log_energy_consumption_std']"
   ]
  },
  {
   "cell_type": "code",
   "execution_count": 43,
   "metadata": {
    "colab": {
     "base_uri": "https://localhost:8080/",
     "height": 542
    },
    "colab_type": "code",
    "id": "WdHylS8OdEHt",
    "outputId": "162d4584-b5aa-4932-a304-0912914e8d3f"
   },
   "outputs": [
    {
     "data": {
      "application/vnd.plotly.v1+json": {
       "config": {
        "plotlyServerURL": "https://plot.ly"
       },
       "data": [
        {
         "mode": "lines",
         "name": "99% Upper Confidence Bound",
         "type": "scatter",
         "x": [
          "2016-05-01T00:00:00",
          "2016-05-01T01:00:00",
          "2016-05-01T02:00:00",
          "2016-05-01T03:00:00",
          "2016-05-01T04:00:00",
          "2016-05-01T05:00:00",
          "2016-05-01T06:00:00",
          "2016-05-01T07:00:00",
          "2016-05-01T08:00:00",
          "2016-05-01T09:00:00",
          "2016-05-01T10:00:00",
          "2016-05-01T11:00:00",
          "2016-05-01T12:00:00",
          "2016-05-01T13:00:00",
          "2016-05-01T14:00:00",
          "2016-05-01T15:00:00",
          "2016-05-01T16:00:00",
          "2016-05-01T17:00:00",
          "2016-05-01T18:00:00",
          "2016-05-01T19:00:00",
          "2016-05-01T20:00:00",
          "2016-05-01T21:00:00",
          "2016-05-01T22:00:00",
          "2016-05-01T23:00:00",
          "2016-05-02T00:00:00",
          "2016-05-02T01:00:00",
          "2016-05-02T02:00:00",
          "2016-05-02T03:00:00",
          "2016-05-02T04:00:00",
          "2016-05-02T05:00:00",
          "2016-05-02T06:00:00",
          "2016-05-02T07:00:00",
          "2016-05-02T08:00:00",
          "2016-05-02T09:00:00",
          "2016-05-02T10:00:00",
          "2016-05-02T11:00:00",
          "2016-05-02T12:00:00",
          "2016-05-02T13:00:00",
          "2016-05-02T14:00:00",
          "2016-05-02T15:00:00",
          "2016-05-02T16:00:00",
          "2016-05-02T17:00:00",
          "2016-05-02T18:00:00",
          "2016-05-02T19:00:00",
          "2016-05-02T20:00:00",
          "2016-05-02T21:00:00",
          "2016-05-02T22:00:00",
          "2016-05-02T23:00:00",
          "2016-05-03T00:00:00",
          "2016-05-03T01:00:00",
          "2016-05-03T02:00:00",
          "2016-05-03T03:00:00",
          "2016-05-03T04:00:00",
          "2016-05-03T05:00:00",
          "2016-05-03T06:00:00",
          "2016-05-03T07:00:00",
          "2016-05-03T08:00:00",
          "2016-05-03T09:00:00",
          "2016-05-03T10:00:00",
          "2016-05-03T11:00:00",
          "2016-05-03T12:00:00",
          "2016-05-03T13:00:00",
          "2016-05-03T14:00:00",
          "2016-05-03T15:00:00",
          "2016-05-03T16:00:00",
          "2016-05-03T17:00:00",
          "2016-05-03T18:00:00",
          "2016-05-03T19:00:00",
          "2016-05-03T20:00:00",
          "2016-05-03T21:00:00",
          "2016-05-03T22:00:00",
          "2016-05-03T23:00:00",
          "2016-05-04T00:00:00",
          "2016-05-04T01:00:00",
          "2016-05-04T02:00:00",
          "2016-05-04T03:00:00",
          "2016-05-04T04:00:00",
          "2016-05-04T05:00:00",
          "2016-05-04T06:00:00",
          "2016-05-04T07:00:00",
          "2016-05-04T08:00:00",
          "2016-05-04T09:00:00",
          "2016-05-04T10:00:00",
          "2016-05-04T11:00:00",
          "2016-05-04T12:00:00",
          "2016-05-04T13:00:00",
          "2016-05-04T14:00:00",
          "2016-05-04T15:00:00",
          "2016-05-04T16:00:00",
          "2016-05-04T17:00:00",
          "2016-05-04T18:00:00",
          "2016-05-04T19:00:00",
          "2016-05-04T20:00:00",
          "2016-05-04T21:00:00",
          "2016-05-04T22:00:00",
          "2016-05-04T23:00:00",
          "2016-05-05T00:00:00",
          "2016-05-05T01:00:00",
          "2016-05-05T02:00:00",
          "2016-05-05T03:00:00",
          "2016-05-05T04:00:00",
          "2016-05-05T05:00:00",
          "2016-05-05T06:00:00",
          "2016-05-05T07:00:00",
          "2016-05-05T08:00:00",
          "2016-05-05T09:00:00",
          "2016-05-05T10:00:00",
          "2016-05-05T11:00:00",
          "2016-05-05T12:00:00",
          "2016-05-05T13:00:00",
          "2016-05-05T14:00:00",
          "2016-05-05T15:00:00",
          "2016-05-05T16:00:00",
          "2016-05-05T17:00:00",
          "2016-05-05T18:00:00",
          "2016-05-05T19:00:00",
          "2016-05-05T20:00:00",
          "2016-05-05T21:00:00",
          "2016-05-05T22:00:00",
          "2016-05-05T23:00:00",
          "2016-05-06T00:00:00",
          "2016-05-06T01:00:00",
          "2016-05-06T02:00:00",
          "2016-05-06T03:00:00",
          "2016-05-06T04:00:00",
          "2016-05-06T05:00:00",
          "2016-05-06T06:00:00",
          "2016-05-06T07:00:00",
          "2016-05-06T08:00:00",
          "2016-05-06T09:00:00",
          "2016-05-06T10:00:00",
          "2016-05-06T11:00:00",
          "2016-05-06T12:00:00",
          "2016-05-06T13:00:00",
          "2016-05-06T14:00:00",
          "2016-05-06T15:00:00",
          "2016-05-06T16:00:00",
          "2016-05-06T17:00:00",
          "2016-05-06T18:00:00",
          "2016-05-06T19:00:00",
          "2016-05-06T20:00:00",
          "2016-05-06T21:00:00",
          "2016-05-06T22:00:00",
          "2016-05-06T23:00:00",
          "2016-05-07T00:00:00",
          "2016-05-07T01:00:00",
          "2016-05-07T02:00:00",
          "2016-05-07T03:00:00",
          "2016-05-07T04:00:00",
          "2016-05-07T05:00:00",
          "2016-05-07T06:00:00",
          "2016-05-07T07:00:00",
          "2016-05-07T08:00:00",
          "2016-05-07T09:00:00",
          "2016-05-07T10:00:00",
          "2016-05-07T11:00:00",
          "2016-05-07T12:00:00",
          "2016-05-07T13:00:00",
          "2016-05-07T14:00:00",
          "2016-05-07T15:00:00",
          "2016-05-07T16:00:00",
          "2016-05-07T17:00:00",
          "2016-05-07T18:00:00",
          "2016-05-07T19:00:00",
          "2016-05-07T20:00:00",
          "2016-05-07T21:00:00",
          "2016-05-07T22:00:00",
          "2016-05-07T23:00:00",
          "2016-05-08T00:00:00",
          "2016-05-08T01:00:00",
          "2016-05-08T02:00:00",
          "2016-05-08T03:00:00",
          "2016-05-08T04:00:00",
          "2016-05-08T05:00:00",
          "2016-05-08T06:00:00",
          "2016-05-08T07:00:00",
          "2016-05-08T08:00:00",
          "2016-05-08T09:00:00",
          "2016-05-08T10:00:00",
          "2016-05-08T11:00:00",
          "2016-05-08T12:00:00",
          "2016-05-08T13:00:00",
          "2016-05-08T14:00:00",
          "2016-05-08T15:00:00",
          "2016-05-08T16:00:00",
          "2016-05-08T17:00:00",
          "2016-05-08T18:00:00",
          "2016-05-08T19:00:00",
          "2016-05-08T20:00:00",
          "2016-05-08T21:00:00",
          "2016-05-08T22:00:00",
          "2016-05-08T23:00:00",
          "2016-05-09T00:00:00"
         ],
         "y": [
          3.9322495460510254,
          3.8851089477539062,
          4.152622222900391,
          3.8861372470855713,
          3.8985564708709717,
          3.9377076625823975,
          4.019468784332275,
          4.073444843292236,
          4.236880779266357,
          4.744416236877441,
          4.640578269958496,
          4.33726692199707,
          4.652881622314453,
          4.557343006134033,
          4.395308494567871,
          4.934105396270752,
          5.6149139404296875,
          5.37156343460083,
          5.521973133087158,
          4.965371131896973,
          4.804247856140137,
          4.433277606964111,
          4.085413932800293,
          4.034160614013672,
          3.9092838764190674,
          3.9081742763519287,
          3.928457260131836,
          3.8881232738494873,
          3.911724328994751,
          3.914273977279663,
          4.1842360496521,
          5.676234722137451,
          4.928778171539307,
          4.463377475738525,
          4.588029861450195,
          4.252185344696045,
          4.042436122894287,
          4.6154069900512695,
          4.242104530334473,
          4.942104816436768,
          4.580522537231445,
          5.45751953125,
          5.32064151763916,
          5.2688374519348145,
          5.0879106521606445,
          4.4893798828125,
          4.080419540405273,
          4.857178688049316,
          4.066822528839111,
          4.148204326629639,
          3.907599449157715,
          3.851750373840332,
          4.043380260467529,
          4.038599014282227,
          3.965487003326416,
          4.81923246383667,
          4.594757556915283,
          4.206420421600342,
          4.092118740081787,
          4.261055946350098,
          4.298912525177002,
          4.1155242919921875,
          4.045673847198486,
          4.3065571784973145,
          5.230615615844727,
          4.595730304718018,
          5.6117706298828125,
          5.582474708557129,
          4.9875640869140625,
          4.442176342010498,
          4.001007080078125,
          4.103581428527832,
          3.9609334468841553,
          4.017741680145264,
          3.9317164421081543,
          3.91510009765625,
          3.912003755569458,
          3.9154887199401855,
          4.076889514923096,
          4.773995876312256,
          5.4214067459106445,
          5.134097099304199,
          4.539203643798828,
          4.327629566192627,
          4.583776950836182,
          4.230547904968262,
          4.531635284423828,
          4.567554950714111,
          4.7537126541137695,
          4.614758491516113,
          5.683391571044922,
          4.885134696960449,
          4.605048656463623,
          4.3898797035217285,
          4.083943843841553,
          3.933530807495117,
          3.920652389526367,
          3.913302183151245,
          3.8944833278656006,
          3.9374377727508545,
          3.9759998321533203,
          4.018980503082275,
          3.9438886642456055,
          4.122377872467041,
          5.261527061462402,
          5.3323445320129395,
          4.588418960571289,
          4.875582218170166,
          4.98102331161499,
          4.569819927215576,
          4.152649402618408,
          4.14157772064209,
          4.317935466766357,
          4.8379106521606445,
          5.652151584625244,
          5.448570728302002,
          4.7104692459106445,
          4.204556465148926,
          3.9308621883392334,
          3.928697347640991,
          3.9124038219451904,
          3.9040820598602295,
          3.906418800354004,
          3.94569730758667,
          4.010808944702148,
          4.055465221405029,
          4.0382981300354,
          4.386688709259033,
          5.353866100311279,
          5.657846927642822,
          5.2306342124938965,
          4.705256938934326,
          4.99338436126709,
          4.861315727233887,
          4.654292106628418,
          5.045204162597656,
          5.620084762573242,
          4.889585494995117,
          5.203427314758301,
          5.22416877746582,
          4.729897975921631,
          4.540790557861328,
          4.016842842102051,
          3.9220833778381348,
          3.976853847503662,
          3.9023685455322266,
          3.9051132202148438,
          3.955751419067383,
          4.013391017913818,
          4.065045356750488,
          4.055901527404785,
          4.182508945465088,
          5.0802435874938965,
          5.4660868644714355,
          5.4041643142700195,
          4.912881851196289,
          5.048760414123535,
          4.396516799926758,
          4.55438232421875,
          4.8542399406433105,
          5.531853199005127,
          5.844029903411865,
          4.63996696472168,
          5.0216965675354,
          4.877155303955078,
          4.511748313903809,
          3.9870142936706543,
          3.907172203063965,
          3.9862520694732666,
          3.894878625869751,
          3.899005174636841,
          3.9611151218414307,
          4.040281295776367,
          4.064347267150879,
          4.106913089752197,
          4.1656107902526855,
          4.479647159576416,
          5.2131195068359375,
          5.669294834136963,
          4.505103588104248,
          4.335076332092285,
          4.285611629486084,
          4.394776344299316,
          4.096809387207031,
          4.11365270614624,
          4.279296398162842,
          4.5521063804626465,
          4.161701202392578,
          4.088958263397217,
          4.271752834320068,
          3.9991323947906494,
          3.9451019763946533,
          3.9062023162841797
         ]
        },
        {
         "fill": "tonexty",
         "fillcolor": "rgba(255, 211, 0, 0.5)",
         "mode": "lines",
         "name": "99% Lower Confidence Bound",
         "type": "scatter",
         "x": [
          "2016-05-01T00:00:00",
          "2016-05-01T01:00:00",
          "2016-05-01T02:00:00",
          "2016-05-01T03:00:00",
          "2016-05-01T04:00:00",
          "2016-05-01T05:00:00",
          "2016-05-01T06:00:00",
          "2016-05-01T07:00:00",
          "2016-05-01T08:00:00",
          "2016-05-01T09:00:00",
          "2016-05-01T10:00:00",
          "2016-05-01T11:00:00",
          "2016-05-01T12:00:00",
          "2016-05-01T13:00:00",
          "2016-05-01T14:00:00",
          "2016-05-01T15:00:00",
          "2016-05-01T16:00:00",
          "2016-05-01T17:00:00",
          "2016-05-01T18:00:00",
          "2016-05-01T19:00:00",
          "2016-05-01T20:00:00",
          "2016-05-01T21:00:00",
          "2016-05-01T22:00:00",
          "2016-05-01T23:00:00",
          "2016-05-02T00:00:00",
          "2016-05-02T01:00:00",
          "2016-05-02T02:00:00",
          "2016-05-02T03:00:00",
          "2016-05-02T04:00:00",
          "2016-05-02T05:00:00",
          "2016-05-02T06:00:00",
          "2016-05-02T07:00:00",
          "2016-05-02T08:00:00",
          "2016-05-02T09:00:00",
          "2016-05-02T10:00:00",
          "2016-05-02T11:00:00",
          "2016-05-02T12:00:00",
          "2016-05-02T13:00:00",
          "2016-05-02T14:00:00",
          "2016-05-02T15:00:00",
          "2016-05-02T16:00:00",
          "2016-05-02T17:00:00",
          "2016-05-02T18:00:00",
          "2016-05-02T19:00:00",
          "2016-05-02T20:00:00",
          "2016-05-02T21:00:00",
          "2016-05-02T22:00:00",
          "2016-05-02T23:00:00",
          "2016-05-03T00:00:00",
          "2016-05-03T01:00:00",
          "2016-05-03T02:00:00",
          "2016-05-03T03:00:00",
          "2016-05-03T04:00:00",
          "2016-05-03T05:00:00",
          "2016-05-03T06:00:00",
          "2016-05-03T07:00:00",
          "2016-05-03T08:00:00",
          "2016-05-03T09:00:00",
          "2016-05-03T10:00:00",
          "2016-05-03T11:00:00",
          "2016-05-03T12:00:00",
          "2016-05-03T13:00:00",
          "2016-05-03T14:00:00",
          "2016-05-03T15:00:00",
          "2016-05-03T16:00:00",
          "2016-05-03T17:00:00",
          "2016-05-03T18:00:00",
          "2016-05-03T19:00:00",
          "2016-05-03T20:00:00",
          "2016-05-03T21:00:00",
          "2016-05-03T22:00:00",
          "2016-05-03T23:00:00",
          "2016-05-04T00:00:00",
          "2016-05-04T01:00:00",
          "2016-05-04T02:00:00",
          "2016-05-04T03:00:00",
          "2016-05-04T04:00:00",
          "2016-05-04T05:00:00",
          "2016-05-04T06:00:00",
          "2016-05-04T07:00:00",
          "2016-05-04T08:00:00",
          "2016-05-04T09:00:00",
          "2016-05-04T10:00:00",
          "2016-05-04T11:00:00",
          "2016-05-04T12:00:00",
          "2016-05-04T13:00:00",
          "2016-05-04T14:00:00",
          "2016-05-04T15:00:00",
          "2016-05-04T16:00:00",
          "2016-05-04T17:00:00",
          "2016-05-04T18:00:00",
          "2016-05-04T19:00:00",
          "2016-05-04T20:00:00",
          "2016-05-04T21:00:00",
          "2016-05-04T22:00:00",
          "2016-05-04T23:00:00",
          "2016-05-05T00:00:00",
          "2016-05-05T01:00:00",
          "2016-05-05T02:00:00",
          "2016-05-05T03:00:00",
          "2016-05-05T04:00:00",
          "2016-05-05T05:00:00",
          "2016-05-05T06:00:00",
          "2016-05-05T07:00:00",
          "2016-05-05T08:00:00",
          "2016-05-05T09:00:00",
          "2016-05-05T10:00:00",
          "2016-05-05T11:00:00",
          "2016-05-05T12:00:00",
          "2016-05-05T13:00:00",
          "2016-05-05T14:00:00",
          "2016-05-05T15:00:00",
          "2016-05-05T16:00:00",
          "2016-05-05T17:00:00",
          "2016-05-05T18:00:00",
          "2016-05-05T19:00:00",
          "2016-05-05T20:00:00",
          "2016-05-05T21:00:00",
          "2016-05-05T22:00:00",
          "2016-05-05T23:00:00",
          "2016-05-06T00:00:00",
          "2016-05-06T01:00:00",
          "2016-05-06T02:00:00",
          "2016-05-06T03:00:00",
          "2016-05-06T04:00:00",
          "2016-05-06T05:00:00",
          "2016-05-06T06:00:00",
          "2016-05-06T07:00:00",
          "2016-05-06T08:00:00",
          "2016-05-06T09:00:00",
          "2016-05-06T10:00:00",
          "2016-05-06T11:00:00",
          "2016-05-06T12:00:00",
          "2016-05-06T13:00:00",
          "2016-05-06T14:00:00",
          "2016-05-06T15:00:00",
          "2016-05-06T16:00:00",
          "2016-05-06T17:00:00",
          "2016-05-06T18:00:00",
          "2016-05-06T19:00:00",
          "2016-05-06T20:00:00",
          "2016-05-06T21:00:00",
          "2016-05-06T22:00:00",
          "2016-05-06T23:00:00",
          "2016-05-07T00:00:00",
          "2016-05-07T01:00:00",
          "2016-05-07T02:00:00",
          "2016-05-07T03:00:00",
          "2016-05-07T04:00:00",
          "2016-05-07T05:00:00",
          "2016-05-07T06:00:00",
          "2016-05-07T07:00:00",
          "2016-05-07T08:00:00",
          "2016-05-07T09:00:00",
          "2016-05-07T10:00:00",
          "2016-05-07T11:00:00",
          "2016-05-07T12:00:00",
          "2016-05-07T13:00:00",
          "2016-05-07T14:00:00",
          "2016-05-07T15:00:00",
          "2016-05-07T16:00:00",
          "2016-05-07T17:00:00",
          "2016-05-07T18:00:00",
          "2016-05-07T19:00:00",
          "2016-05-07T20:00:00",
          "2016-05-07T21:00:00",
          "2016-05-07T22:00:00",
          "2016-05-07T23:00:00",
          "2016-05-08T00:00:00",
          "2016-05-08T01:00:00",
          "2016-05-08T02:00:00",
          "2016-05-08T03:00:00",
          "2016-05-08T04:00:00",
          "2016-05-08T05:00:00",
          "2016-05-08T06:00:00",
          "2016-05-08T07:00:00",
          "2016-05-08T08:00:00",
          "2016-05-08T09:00:00",
          "2016-05-08T10:00:00",
          "2016-05-08T11:00:00",
          "2016-05-08T12:00:00",
          "2016-05-08T13:00:00",
          "2016-05-08T14:00:00",
          "2016-05-08T15:00:00",
          "2016-05-08T16:00:00",
          "2016-05-08T17:00:00",
          "2016-05-08T18:00:00",
          "2016-05-08T19:00:00",
          "2016-05-08T20:00:00",
          "2016-05-08T21:00:00",
          "2016-05-08T22:00:00",
          "2016-05-08T23:00:00",
          "2016-05-09T00:00:00"
         ],
         "y": [
          3.789642333984375,
          3.737830638885498,
          3.6781117916107178,
          3.782740354537964,
          3.7743403911590576,
          3.7383720874786377,
          3.7920639514923096,
          3.817243814468384,
          3.9229464530944824,
          4.24073600769043,
          4.132555961608887,
          3.983762741088867,
          4.074763298034668,
          3.9692444801330566,
          3.917295455932617,
          4.370666027069092,
          4.946376800537109,
          4.836768627166748,
          5.032688617706299,
          4.628915786743164,
          4.494413375854492,
          4.11758279800415,
          3.820371627807617,
          3.782123565673828,
          3.821122407913208,
          3.7632381916046143,
          3.7664670944213867,
          3.7764270305633545,
          3.6575725078582764,
          3.6893727779388428,
          3.7795064449310303,
          5.116603374481201,
          4.0344061851501465,
          3.895059108734131,
          3.6403846740722656,
          3.6453185081481934,
          3.784916400909424,
          4.07868766784668,
          3.80159854888916,
          4.396551609039307,
          4.109140396118164,
          4.868459701538086,
          4.928335189819336,
          4.750289440155029,
          4.533524513244629,
          4.072364807128906,
          3.7888641357421875,
          3.6650094985961914,
          3.8213322162628174,
          3.680811643600464,
          3.814012050628662,
          3.693019390106201,
          3.6988184452056885,
          3.8145477771759033,
          3.772639274597168,
          4.251765727996826,
          4.175014972686768,
          3.9149651527404785,
          3.842682361602783,
          3.9514644145965576,
          3.7863783836364746,
          3.7642579078674316,
          3.838413715362549,
          3.9766814708709717,
          4.636686325073242,
          4.066300868988037,
          5.1282501220703125,
          4.607929229736328,
          4.393915176391602,
          3.8900647163391113,
          3.8316586017608643,
          3.779782772064209,
          3.795154333114624,
          3.6828718185424805,
          3.7856931686401367,
          3.792938232421875,
          3.80008864402771,
          3.7512192726135254,
          3.7860944271087646,
          4.440053462982178,
          4.440221786499023,
          4.596573829650879,
          4.14193058013916,
          3.943167209625244,
          4.049073696136475,
          3.924091100692749,
          4.167919158935547,
          4.267354488372803,
          4.403587341308594,
          4.333139419555664,
          5.131671905517578,
          4.6330156326293945,
          4.4238362312316895,
          4.058882236480713,
          3.8334546089172363,
          3.8357391357421875,
          3.830435276031494,
          3.8299381732940674,
          3.7470920085906982,
          3.780230760574341,
          3.8019418716430664,
          3.8621888160705566,
          3.8509445190429688,
          3.936577558517456,
          4.623697280883789,
          4.709080219268799,
          3.6988344192504883,
          4.157689571380615,
          4.516211032867432,
          4.252612590789795,
          3.786189079284668,
          3.8246419429779053,
          4.017082691192627,
          4.320993423461914,
          5.24727201461792,
          4.828235149383545,
          4.3180084228515625,
          3.8068883419036865,
          3.8068716526031494,
          3.8254053592681885,
          3.820843458175659,
          3.805434465408325,
          3.7284164428710938,
          3.7705039978027344,
          3.81044340133667,
          3.8484954833984375,
          3.8487625122070312,
          4.113768100738525,
          4.76432466506958,
          4.7362189292907715,
          3.9408013820648193,
          4.192579746246338,
          4.3295793533325195,
          4.27772331237793,
          4.113027572631836,
          4.58392333984375,
          4.589473724365234,
          4.254371643066406,
          4.795729637145996,
          4.729336738586426,
          4.434926509857178,
          4.220950126647949,
          3.8321712017059326,
          3.7893357276916504,
          3.768686294555664,
          3.8205204010009766,
          3.7812438011169434,
          3.80092716217041,
          3.806823253631592,
          3.871140956878662,
          3.8660852909088135,
          3.9497501850128174,
          4.546017169952393,
          4.7842488288879395,
          4.350655555725098,
          4.560981750488281,
          4.593198776245117,
          4.039299011230469,
          4.06550407409668,
          4.424342632293701,
          4.920767307281494,
          5.087061405181885,
          4.292943954467773,
          4.689141750335693,
          4.5563507080078125,
          4.2508087158203125,
          3.8280863761901855,
          3.79616641998291,
          3.784479856491089,
          3.81900954246521,
          3.7949225902557373,
          3.7812626361846924,
          3.846985340118408,
          3.8561410903930664,
          3.915839672088623,
          3.9429945945739746,
          4.141276836395264,
          4.686164855957031,
          5.040562152862549,
          3.8981289863586426,
          3.921992540359497,
          3.788403272628784,
          3.762598991394043,
          3.7822389602661133,
          3.8197574615478516,
          3.9616541862487793,
          4.087541103363037,
          3.84769344329834,
          3.8134539127349854,
          3.8800694942474365,
          3.8264925479888916,
          3.8277313709259033,
          3.817722797393799
         ]
        },
        {
         "mode": "lines",
         "name": "Real Values",
         "type": "scatter",
         "x": [
          "2016-05-01T00:00:00",
          "2016-05-01T01:00:00",
          "2016-05-01T02:00:00",
          "2016-05-01T03:00:00",
          "2016-05-01T04:00:00",
          "2016-05-01T05:00:00",
          "2016-05-01T06:00:00",
          "2016-05-01T07:00:00",
          "2016-05-01T08:00:00",
          "2016-05-01T09:00:00",
          "2016-05-01T10:00:00",
          "2016-05-01T11:00:00",
          "2016-05-01T12:00:00",
          "2016-05-01T13:00:00",
          "2016-05-01T14:00:00",
          "2016-05-01T15:00:00",
          "2016-05-01T16:00:00",
          "2016-05-01T17:00:00",
          "2016-05-01T18:00:00",
          "2016-05-01T19:00:00",
          "2016-05-01T20:00:00",
          "2016-05-01T21:00:00",
          "2016-05-01T22:00:00",
          "2016-05-01T23:00:00",
          "2016-05-02T00:00:00",
          "2016-05-02T01:00:00",
          "2016-05-02T02:00:00",
          "2016-05-02T03:00:00",
          "2016-05-02T04:00:00",
          "2016-05-02T05:00:00",
          "2016-05-02T06:00:00",
          "2016-05-02T07:00:00",
          "2016-05-02T08:00:00",
          "2016-05-02T09:00:00",
          "2016-05-02T10:00:00",
          "2016-05-02T11:00:00",
          "2016-05-02T12:00:00",
          "2016-05-02T13:00:00",
          "2016-05-02T14:00:00",
          "2016-05-02T15:00:00",
          "2016-05-02T16:00:00",
          "2016-05-02T17:00:00",
          "2016-05-02T18:00:00",
          "2016-05-02T19:00:00",
          "2016-05-02T20:00:00",
          "2016-05-02T21:00:00",
          "2016-05-02T22:00:00",
          "2016-05-02T23:00:00",
          "2016-05-03T00:00:00",
          "2016-05-03T01:00:00",
          "2016-05-03T02:00:00",
          "2016-05-03T03:00:00",
          "2016-05-03T04:00:00",
          "2016-05-03T05:00:00",
          "2016-05-03T06:00:00",
          "2016-05-03T07:00:00",
          "2016-05-03T08:00:00",
          "2016-05-03T09:00:00",
          "2016-05-03T10:00:00",
          "2016-05-03T11:00:00",
          "2016-05-03T12:00:00",
          "2016-05-03T13:00:00",
          "2016-05-03T14:00:00",
          "2016-05-03T15:00:00",
          "2016-05-03T16:00:00",
          "2016-05-03T17:00:00",
          "2016-05-03T18:00:00",
          "2016-05-03T19:00:00",
          "2016-05-03T20:00:00",
          "2016-05-03T21:00:00",
          "2016-05-03T22:00:00",
          "2016-05-03T23:00:00",
          "2016-05-04T00:00:00",
          "2016-05-04T01:00:00",
          "2016-05-04T02:00:00",
          "2016-05-04T03:00:00",
          "2016-05-04T04:00:00",
          "2016-05-04T05:00:00",
          "2016-05-04T06:00:00",
          "2016-05-04T07:00:00",
          "2016-05-04T08:00:00",
          "2016-05-04T09:00:00",
          "2016-05-04T10:00:00",
          "2016-05-04T11:00:00",
          "2016-05-04T12:00:00",
          "2016-05-04T13:00:00",
          "2016-05-04T14:00:00",
          "2016-05-04T15:00:00",
          "2016-05-04T16:00:00",
          "2016-05-04T17:00:00",
          "2016-05-04T18:00:00",
          "2016-05-04T19:00:00",
          "2016-05-04T20:00:00",
          "2016-05-04T21:00:00",
          "2016-05-04T22:00:00",
          "2016-05-04T23:00:00",
          "2016-05-05T00:00:00",
          "2016-05-05T01:00:00",
          "2016-05-05T02:00:00",
          "2016-05-05T03:00:00",
          "2016-05-05T04:00:00",
          "2016-05-05T05:00:00",
          "2016-05-05T06:00:00",
          "2016-05-05T07:00:00",
          "2016-05-05T08:00:00",
          "2016-05-05T09:00:00",
          "2016-05-05T10:00:00",
          "2016-05-05T11:00:00",
          "2016-05-05T12:00:00",
          "2016-05-05T13:00:00",
          "2016-05-05T14:00:00",
          "2016-05-05T15:00:00",
          "2016-05-05T16:00:00",
          "2016-05-05T17:00:00",
          "2016-05-05T18:00:00",
          "2016-05-05T19:00:00",
          "2016-05-05T20:00:00",
          "2016-05-05T21:00:00",
          "2016-05-05T22:00:00",
          "2016-05-05T23:00:00",
          "2016-05-06T00:00:00",
          "2016-05-06T01:00:00",
          "2016-05-06T02:00:00",
          "2016-05-06T03:00:00",
          "2016-05-06T04:00:00",
          "2016-05-06T05:00:00",
          "2016-05-06T06:00:00",
          "2016-05-06T07:00:00",
          "2016-05-06T08:00:00",
          "2016-05-06T09:00:00",
          "2016-05-06T10:00:00",
          "2016-05-06T11:00:00",
          "2016-05-06T12:00:00",
          "2016-05-06T13:00:00",
          "2016-05-06T14:00:00",
          "2016-05-06T15:00:00",
          "2016-05-06T16:00:00",
          "2016-05-06T17:00:00",
          "2016-05-06T18:00:00",
          "2016-05-06T19:00:00",
          "2016-05-06T20:00:00",
          "2016-05-06T21:00:00",
          "2016-05-06T22:00:00",
          "2016-05-06T23:00:00",
          "2016-05-07T00:00:00",
          "2016-05-07T01:00:00",
          "2016-05-07T02:00:00",
          "2016-05-07T03:00:00",
          "2016-05-07T04:00:00",
          "2016-05-07T05:00:00",
          "2016-05-07T06:00:00",
          "2016-05-07T07:00:00",
          "2016-05-07T08:00:00",
          "2016-05-07T09:00:00",
          "2016-05-07T10:00:00",
          "2016-05-07T11:00:00",
          "2016-05-07T12:00:00",
          "2016-05-07T13:00:00",
          "2016-05-07T14:00:00",
          "2016-05-07T15:00:00",
          "2016-05-07T16:00:00",
          "2016-05-07T17:00:00",
          "2016-05-07T18:00:00",
          "2016-05-07T19:00:00",
          "2016-05-07T20:00:00",
          "2016-05-07T21:00:00",
          "2016-05-07T22:00:00",
          "2016-05-07T23:00:00",
          "2016-05-08T00:00:00",
          "2016-05-08T01:00:00",
          "2016-05-08T02:00:00",
          "2016-05-08T03:00:00",
          "2016-05-08T04:00:00",
          "2016-05-08T05:00:00",
          "2016-05-08T06:00:00",
          "2016-05-08T07:00:00",
          "2016-05-08T08:00:00",
          "2016-05-08T09:00:00",
          "2016-05-08T10:00:00",
          "2016-05-08T11:00:00",
          "2016-05-08T12:00:00",
          "2016-05-08T13:00:00",
          "2016-05-08T14:00:00",
          "2016-05-08T15:00:00",
          "2016-05-08T16:00:00",
          "2016-05-08T17:00:00",
          "2016-05-08T18:00:00",
          "2016-05-08T19:00:00",
          "2016-05-08T20:00:00",
          "2016-05-08T21:00:00",
          "2016-05-08T22:00:00",
          "2016-05-08T23:00:00",
          "2016-05-09T00:00:00"
         ],
         "y": [
          3.9448128282511368,
          4.007333185232471,
          3.8781214537524646,
          3.7297014486341915,
          3.9765615265657175,
          3.9448128282511368,
          3.9765615265657175,
          4.0661736852554045,
          4.442651256490317,
          4.499809670330265,
          4.148411783492376,
          4.518158808998462,
          4.5712686343124105,
          4.360973225476049,
          4.685212893661628,
          4.653960350157523,
          5.3706380281276624,
          5.714832310842786,
          5.604575824572753,
          4.75932086581535,
          4.669708707125663,
          4.442651256490317,
          4.248495242049359,
          3.8781214537524646,
          4.007333185232471,
          3.9448128282511368,
          3.6888794541139363,
          3.9765615265657175,
          3.9448128282511368,
          4.637960008811082,
          4.339467020255086,
          5.135798437050262,
          3.9765615265657175,
          4.007333185232471,
          3.9765615265657175,
          3.9448128282511368,
          4.402645921876617,
          4.402645921876617,
          4.382026634673881,
          4.402645921876617,
          4.653960350157523,
          5.579729825986222,
          4.841558964052322,
          4.90527477843843,
          4.700480365792417,
          3.9765615265657175,
          4.174387269895637,
          4.007333185232471,
          4.007333185232471,
          3.6463198396951406,
          3.9765615265657175,
          3.9765615265657175,
          3.912023005428146,
          3.9448128282511368,
          4.2243976904702984,
          3.912023005428146,
          4.007333185232471,
          3.6888794541139363,
          3.9448128282511368,
          3.9765615265657175,
          3.9765615265657175,
          3.6888794541139363,
          4.037186148382152,
          3.912023005428146,
          4.174387269895637,
          5.501258210544727,
          4.892852258439873,
          4.929666231562589,
          4.773505500807306,
          4.037186148382152,
          4.007333185232471,
          3.7297014486341915,
          3.9448128282511368,
          3.9765615265657175,
          4.007333185232471,
          3.6463198396951406,
          3.912023005428146,
          4.199705077879927,
          4.74493212836325,
          4.0943445622221,
          5.1647859739235145,
          4.272025739459553,
          4.422848629194137,
          4.339467020255086,
          4.174387269895637,
          4.248495242049359,
          4.248495242049359,
          4.2243976904702984,
          4.402645921876617,
          4.7303333289420975,
          4.892852258439873,
          4.715518243156957,
          4.605170185988092,
          4.31748811353631,
          4.007333185232471,
          4.007333185232471,
          3.6888794541139363,
          4.037186148382152,
          3.9448128282511368,
          4.007333185232471,
          3.9448128282511368,
          3.6463198396951406,
          4.0661736852554045,
          5.115995809754082,
          5.155216522907363,
          4.442651256490317,
          4.5712686343124105,
          4.481117537318112,
          4.637960008811082,
          3.7297014486341915,
          4.007333185232471,
          4.0661736852554045,
          3.9448128282511368,
          5.314846668499247,
          5.085536602269373,
          4.58836306767171,
          4.58836306767171,
          4.272025739459553,
          4.037186148382152,
          4.007333185232471,
          3.7297014486341915,
          4.0661736852554045,
          3.912023005428146,
          4.0661736852554045,
          3.912023005428146,
          3.9448128282511368,
          4.295015257684252,
          5.508037897530106,
          4.553876891600541,
          5.610692051590189,
          4.499809670330265,
          4.700480365792417,
          4.929666231562589,
          4.382026634673881,
          5.075173815233827,
          4.31748811353631,
          4.248495242049359,
          4.53617731450114,
          5.174264717878057,
          4.841558964052322,
          4.75932086581535,
          4.272025739459553,
          3.9765615265657175,
          4.0661736852554045,
          3.9448128282511368,
          4.037186148382152,
          3.9765615265657175,
          4.007333185232471,
          4.007333185232471,
          3.9448128282511368,
          3.9765615265657175,
          4.99946199349813,
          4.8012850649143815,
          5.032614200815031,
          5.183654458227897,
          5.085536602269373,
          4.4620693423474185,
          4.31748811353631,
          4.481117537318112,
          4.637960008811082,
          4.518158808998462,
          4.422848629194137,
          5.652489180268651,
          4.787491742782046,
          4.4620693423474185,
          4.037186148382152,
          4.0661736852554045,
          4.037186148382152,
          4.0661736852554045,
          3.9448128282511368,
          4.007333185232471,
          4.037186148382152,
          3.912023005428146,
          4.037186148382152,
          3.912023005428146,
          4.0943445622221,
          5.211305989558407,
          4.965172920019499,
          4.90527477843843,
          3.912023005428146,
          4.037186148382152,
          4.037186148382152,
          4.037186148382152,
          3.912023005428146,
          4.007333185232471,
          4.037186148382152,
          3.912023005428146,
          4.0943445622221,
          4.360973225476049,
          4.148411783492376,
          4.0661736852554045,
          3.9765615265657175,
          4.007333185232471
         ]
        }
       ],
       "layout": {
        "template": {
         "data": {
          "bar": [
           {
            "error_x": {
             "color": "#2a3f5f"
            },
            "error_y": {
             "color": "#2a3f5f"
            },
            "marker": {
             "line": {
              "color": "#E5ECF6",
              "width": 0.5
             }
            },
            "type": "bar"
           }
          ],
          "barpolar": [
           {
            "marker": {
             "line": {
              "color": "#E5ECF6",
              "width": 0.5
             }
            },
            "type": "barpolar"
           }
          ],
          "carpet": [
           {
            "aaxis": {
             "endlinecolor": "#2a3f5f",
             "gridcolor": "white",
             "linecolor": "white",
             "minorgridcolor": "white",
             "startlinecolor": "#2a3f5f"
            },
            "baxis": {
             "endlinecolor": "#2a3f5f",
             "gridcolor": "white",
             "linecolor": "white",
             "minorgridcolor": "white",
             "startlinecolor": "#2a3f5f"
            },
            "type": "carpet"
           }
          ],
          "choropleth": [
           {
            "colorbar": {
             "outlinewidth": 0,
             "ticks": ""
            },
            "type": "choropleth"
           }
          ],
          "contour": [
           {
            "colorbar": {
             "outlinewidth": 0,
             "ticks": ""
            },
            "colorscale": [
             [
              0,
              "#0d0887"
             ],
             [
              0.1111111111111111,
              "#46039f"
             ],
             [
              0.2222222222222222,
              "#7201a8"
             ],
             [
              0.3333333333333333,
              "#9c179e"
             ],
             [
              0.4444444444444444,
              "#bd3786"
             ],
             [
              0.5555555555555556,
              "#d8576b"
             ],
             [
              0.6666666666666666,
              "#ed7953"
             ],
             [
              0.7777777777777778,
              "#fb9f3a"
             ],
             [
              0.8888888888888888,
              "#fdca26"
             ],
             [
              1,
              "#f0f921"
             ]
            ],
            "type": "contour"
           }
          ],
          "contourcarpet": [
           {
            "colorbar": {
             "outlinewidth": 0,
             "ticks": ""
            },
            "type": "contourcarpet"
           }
          ],
          "heatmap": [
           {
            "colorbar": {
             "outlinewidth": 0,
             "ticks": ""
            },
            "colorscale": [
             [
              0,
              "#0d0887"
             ],
             [
              0.1111111111111111,
              "#46039f"
             ],
             [
              0.2222222222222222,
              "#7201a8"
             ],
             [
              0.3333333333333333,
              "#9c179e"
             ],
             [
              0.4444444444444444,
              "#bd3786"
             ],
             [
              0.5555555555555556,
              "#d8576b"
             ],
             [
              0.6666666666666666,
              "#ed7953"
             ],
             [
              0.7777777777777778,
              "#fb9f3a"
             ],
             [
              0.8888888888888888,
              "#fdca26"
             ],
             [
              1,
              "#f0f921"
             ]
            ],
            "type": "heatmap"
           }
          ],
          "heatmapgl": [
           {
            "colorbar": {
             "outlinewidth": 0,
             "ticks": ""
            },
            "colorscale": [
             [
              0,
              "#0d0887"
             ],
             [
              0.1111111111111111,
              "#46039f"
             ],
             [
              0.2222222222222222,
              "#7201a8"
             ],
             [
              0.3333333333333333,
              "#9c179e"
             ],
             [
              0.4444444444444444,
              "#bd3786"
             ],
             [
              0.5555555555555556,
              "#d8576b"
             ],
             [
              0.6666666666666666,
              "#ed7953"
             ],
             [
              0.7777777777777778,
              "#fb9f3a"
             ],
             [
              0.8888888888888888,
              "#fdca26"
             ],
             [
              1,
              "#f0f921"
             ]
            ],
            "type": "heatmapgl"
           }
          ],
          "histogram": [
           {
            "marker": {
             "colorbar": {
              "outlinewidth": 0,
              "ticks": ""
             }
            },
            "type": "histogram"
           }
          ],
          "histogram2d": [
           {
            "colorbar": {
             "outlinewidth": 0,
             "ticks": ""
            },
            "colorscale": [
             [
              0,
              "#0d0887"
             ],
             [
              0.1111111111111111,
              "#46039f"
             ],
             [
              0.2222222222222222,
              "#7201a8"
             ],
             [
              0.3333333333333333,
              "#9c179e"
             ],
             [
              0.4444444444444444,
              "#bd3786"
             ],
             [
              0.5555555555555556,
              "#d8576b"
             ],
             [
              0.6666666666666666,
              "#ed7953"
             ],
             [
              0.7777777777777778,
              "#fb9f3a"
             ],
             [
              0.8888888888888888,
              "#fdca26"
             ],
             [
              1,
              "#f0f921"
             ]
            ],
            "type": "histogram2d"
           }
          ],
          "histogram2dcontour": [
           {
            "colorbar": {
             "outlinewidth": 0,
             "ticks": ""
            },
            "colorscale": [
             [
              0,
              "#0d0887"
             ],
             [
              0.1111111111111111,
              "#46039f"
             ],
             [
              0.2222222222222222,
              "#7201a8"
             ],
             [
              0.3333333333333333,
              "#9c179e"
             ],
             [
              0.4444444444444444,
              "#bd3786"
             ],
             [
              0.5555555555555556,
              "#d8576b"
             ],
             [
              0.6666666666666666,
              "#ed7953"
             ],
             [
              0.7777777777777778,
              "#fb9f3a"
             ],
             [
              0.8888888888888888,
              "#fdca26"
             ],
             [
              1,
              "#f0f921"
             ]
            ],
            "type": "histogram2dcontour"
           }
          ],
          "mesh3d": [
           {
            "colorbar": {
             "outlinewidth": 0,
             "ticks": ""
            },
            "type": "mesh3d"
           }
          ],
          "parcoords": [
           {
            "line": {
             "colorbar": {
              "outlinewidth": 0,
              "ticks": ""
             }
            },
            "type": "parcoords"
           }
          ],
          "pie": [
           {
            "automargin": true,
            "type": "pie"
           }
          ],
          "scatter": [
           {
            "marker": {
             "colorbar": {
              "outlinewidth": 0,
              "ticks": ""
             }
            },
            "type": "scatter"
           }
          ],
          "scatter3d": [
           {
            "line": {
             "colorbar": {
              "outlinewidth": 0,
              "ticks": ""
             }
            },
            "marker": {
             "colorbar": {
              "outlinewidth": 0,
              "ticks": ""
             }
            },
            "type": "scatter3d"
           }
          ],
          "scattercarpet": [
           {
            "marker": {
             "colorbar": {
              "outlinewidth": 0,
              "ticks": ""
             }
            },
            "type": "scattercarpet"
           }
          ],
          "scattergeo": [
           {
            "marker": {
             "colorbar": {
              "outlinewidth": 0,
              "ticks": ""
             }
            },
            "type": "scattergeo"
           }
          ],
          "scattergl": [
           {
            "marker": {
             "colorbar": {
              "outlinewidth": 0,
              "ticks": ""
             }
            },
            "type": "scattergl"
           }
          ],
          "scattermapbox": [
           {
            "marker": {
             "colorbar": {
              "outlinewidth": 0,
              "ticks": ""
             }
            },
            "type": "scattermapbox"
           }
          ],
          "scatterpolar": [
           {
            "marker": {
             "colorbar": {
              "outlinewidth": 0,
              "ticks": ""
             }
            },
            "type": "scatterpolar"
           }
          ],
          "scatterpolargl": [
           {
            "marker": {
             "colorbar": {
              "outlinewidth": 0,
              "ticks": ""
             }
            },
            "type": "scatterpolargl"
           }
          ],
          "scatterternary": [
           {
            "marker": {
             "colorbar": {
              "outlinewidth": 0,
              "ticks": ""
             }
            },
            "type": "scatterternary"
           }
          ],
          "surface": [
           {
            "colorbar": {
             "outlinewidth": 0,
             "ticks": ""
            },
            "colorscale": [
             [
              0,
              "#0d0887"
             ],
             [
              0.1111111111111111,
              "#46039f"
             ],
             [
              0.2222222222222222,
              "#7201a8"
             ],
             [
              0.3333333333333333,
              "#9c179e"
             ],
             [
              0.4444444444444444,
              "#bd3786"
             ],
             [
              0.5555555555555556,
              "#d8576b"
             ],
             [
              0.6666666666666666,
              "#ed7953"
             ],
             [
              0.7777777777777778,
              "#fb9f3a"
             ],
             [
              0.8888888888888888,
              "#fdca26"
             ],
             [
              1,
              "#f0f921"
             ]
            ],
            "type": "surface"
           }
          ],
          "table": [
           {
            "cells": {
             "fill": {
              "color": "#EBF0F8"
             },
             "line": {
              "color": "white"
             }
            },
            "header": {
             "fill": {
              "color": "#C8D4E3"
             },
             "line": {
              "color": "white"
             }
            },
            "type": "table"
           }
          ]
         },
         "layout": {
          "annotationdefaults": {
           "arrowcolor": "#2a3f5f",
           "arrowhead": 0,
           "arrowwidth": 1
          },
          "coloraxis": {
           "colorbar": {
            "outlinewidth": 0,
            "ticks": ""
           }
          },
          "colorscale": {
           "diverging": [
            [
             0,
             "#8e0152"
            ],
            [
             0.1,
             "#c51b7d"
            ],
            [
             0.2,
             "#de77ae"
            ],
            [
             0.3,
             "#f1b6da"
            ],
            [
             0.4,
             "#fde0ef"
            ],
            [
             0.5,
             "#f7f7f7"
            ],
            [
             0.6,
             "#e6f5d0"
            ],
            [
             0.7,
             "#b8e186"
            ],
            [
             0.8,
             "#7fbc41"
            ],
            [
             0.9,
             "#4d9221"
            ],
            [
             1,
             "#276419"
            ]
           ],
           "sequential": [
            [
             0,
             "#0d0887"
            ],
            [
             0.1111111111111111,
             "#46039f"
            ],
            [
             0.2222222222222222,
             "#7201a8"
            ],
            [
             0.3333333333333333,
             "#9c179e"
            ],
            [
             0.4444444444444444,
             "#bd3786"
            ],
            [
             0.5555555555555556,
             "#d8576b"
            ],
            [
             0.6666666666666666,
             "#ed7953"
            ],
            [
             0.7777777777777778,
             "#fb9f3a"
            ],
            [
             0.8888888888888888,
             "#fdca26"
            ],
            [
             1,
             "#f0f921"
            ]
           ],
           "sequentialminus": [
            [
             0,
             "#0d0887"
            ],
            [
             0.1111111111111111,
             "#46039f"
            ],
            [
             0.2222222222222222,
             "#7201a8"
            ],
            [
             0.3333333333333333,
             "#9c179e"
            ],
            [
             0.4444444444444444,
             "#bd3786"
            ],
            [
             0.5555555555555556,
             "#d8576b"
            ],
            [
             0.6666666666666666,
             "#ed7953"
            ],
            [
             0.7777777777777778,
             "#fb9f3a"
            ],
            [
             0.8888888888888888,
             "#fdca26"
            ],
            [
             1,
             "#f0f921"
            ]
           ]
          },
          "colorway": [
           "#636efa",
           "#EF553B",
           "#00cc96",
           "#ab63fa",
           "#FFA15A",
           "#19d3f3",
           "#FF6692",
           "#B6E880",
           "#FF97FF",
           "#FECB52"
          ],
          "font": {
           "color": "#2a3f5f"
          },
          "geo": {
           "bgcolor": "white",
           "lakecolor": "white",
           "landcolor": "#E5ECF6",
           "showlakes": true,
           "showland": true,
           "subunitcolor": "white"
          },
          "hoverlabel": {
           "align": "left"
          },
          "hovermode": "closest",
          "mapbox": {
           "style": "light"
          },
          "paper_bgcolor": "white",
          "plot_bgcolor": "#E5ECF6",
          "polar": {
           "angularaxis": {
            "gridcolor": "white",
            "linecolor": "white",
            "ticks": ""
           },
           "bgcolor": "#E5ECF6",
           "radialaxis": {
            "gridcolor": "white",
            "linecolor": "white",
            "ticks": ""
           }
          },
          "scene": {
           "xaxis": {
            "backgroundcolor": "#E5ECF6",
            "gridcolor": "white",
            "gridwidth": 2,
            "linecolor": "white",
            "showbackground": true,
            "ticks": "",
            "zerolinecolor": "white"
           },
           "yaxis": {
            "backgroundcolor": "#E5ECF6",
            "gridcolor": "white",
            "gridwidth": 2,
            "linecolor": "white",
            "showbackground": true,
            "ticks": "",
            "zerolinecolor": "white"
           },
           "zaxis": {
            "backgroundcolor": "#E5ECF6",
            "gridcolor": "white",
            "gridwidth": 2,
            "linecolor": "white",
            "showbackground": true,
            "ticks": "",
            "zerolinecolor": "white"
           }
          },
          "shapedefaults": {
           "line": {
            "color": "#2a3f5f"
           }
          },
          "ternary": {
           "aaxis": {
            "gridcolor": "white",
            "linecolor": "white",
            "ticks": ""
           },
           "baxis": {
            "gridcolor": "white",
            "linecolor": "white",
            "ticks": ""
           },
           "bgcolor": "#E5ECF6",
           "caxis": {
            "gridcolor": "white",
            "linecolor": "white",
            "ticks": ""
           }
          },
          "title": {
           "x": 0.05
          },
          "xaxis": {
           "automargin": true,
           "gridcolor": "white",
           "linecolor": "white",
           "ticks": "",
           "title": {
            "standoff": 15
           },
           "zerolinecolor": "white",
           "zerolinewidth": 2
          },
          "yaxis": {
           "automargin": true,
           "gridcolor": "white",
           "linecolor": "white",
           "ticks": "",
           "title": {
            "standoff": 15
           },
           "zerolinecolor": "white",
           "zerolinewidth": 2
          }
         }
        },
        "title": {
         "text": "Uncertainty Quantification for Energy Consumption Test Data"
        },
        "xaxis": {
         "title": {
          "text": "Time"
         }
        },
        "yaxis": {
         "title": {
          "text": "log_energy_consumption (log Wh)"
         }
        }
       }
      },
      "text/html": [
       "<div>\n",
       "        \n",
       "        \n",
       "            <div id=\"5419ec03-bbee-4af8-ad35-7eea8dacd8ad\" class=\"plotly-graph-div\" style=\"height:525px; width:100%;\"></div>\n",
       "            <script type=\"text/javascript\">\n",
       "                require([\"plotly\"], function(Plotly) {\n",
       "                    window.PLOTLYENV=window.PLOTLYENV || {};\n",
       "                    \n",
       "                if (document.getElementById(\"5419ec03-bbee-4af8-ad35-7eea8dacd8ad\")) {\n",
       "                    Plotly.newPlot(\n",
       "                        '5419ec03-bbee-4af8-ad35-7eea8dacd8ad',\n",
       "                        [{\"mode\": \"lines\", \"name\": \"99% Upper Confidence Bound\", \"type\": \"scatter\", \"x\": [\"2016-05-01T00:00:00\", \"2016-05-01T01:00:00\", \"2016-05-01T02:00:00\", \"2016-05-01T03:00:00\", \"2016-05-01T04:00:00\", \"2016-05-01T05:00:00\", \"2016-05-01T06:00:00\", \"2016-05-01T07:00:00\", \"2016-05-01T08:00:00\", \"2016-05-01T09:00:00\", \"2016-05-01T10:00:00\", \"2016-05-01T11:00:00\", \"2016-05-01T12:00:00\", \"2016-05-01T13:00:00\", \"2016-05-01T14:00:00\", \"2016-05-01T15:00:00\", \"2016-05-01T16:00:00\", \"2016-05-01T17:00:00\", \"2016-05-01T18:00:00\", \"2016-05-01T19:00:00\", \"2016-05-01T20:00:00\", \"2016-05-01T21:00:00\", \"2016-05-01T22:00:00\", \"2016-05-01T23:00:00\", \"2016-05-02T00:00:00\", \"2016-05-02T01:00:00\", \"2016-05-02T02:00:00\", \"2016-05-02T03:00:00\", \"2016-05-02T04:00:00\", \"2016-05-02T05:00:00\", \"2016-05-02T06:00:00\", \"2016-05-02T07:00:00\", \"2016-05-02T08:00:00\", \"2016-05-02T09:00:00\", \"2016-05-02T10:00:00\", \"2016-05-02T11:00:00\", \"2016-05-02T12:00:00\", \"2016-05-02T13:00:00\", \"2016-05-02T14:00:00\", \"2016-05-02T15:00:00\", \"2016-05-02T16:00:00\", \"2016-05-02T17:00:00\", \"2016-05-02T18:00:00\", \"2016-05-02T19:00:00\", \"2016-05-02T20:00:00\", \"2016-05-02T21:00:00\", \"2016-05-02T22:00:00\", \"2016-05-02T23:00:00\", \"2016-05-03T00:00:00\", \"2016-05-03T01:00:00\", \"2016-05-03T02:00:00\", \"2016-05-03T03:00:00\", \"2016-05-03T04:00:00\", \"2016-05-03T05:00:00\", \"2016-05-03T06:00:00\", \"2016-05-03T07:00:00\", \"2016-05-03T08:00:00\", \"2016-05-03T09:00:00\", \"2016-05-03T10:00:00\", \"2016-05-03T11:00:00\", \"2016-05-03T12:00:00\", \"2016-05-03T13:00:00\", \"2016-05-03T14:00:00\", \"2016-05-03T15:00:00\", \"2016-05-03T16:00:00\", \"2016-05-03T17:00:00\", \"2016-05-03T18:00:00\", \"2016-05-03T19:00:00\", \"2016-05-03T20:00:00\", \"2016-05-03T21:00:00\", \"2016-05-03T22:00:00\", \"2016-05-03T23:00:00\", \"2016-05-04T00:00:00\", \"2016-05-04T01:00:00\", \"2016-05-04T02:00:00\", \"2016-05-04T03:00:00\", \"2016-05-04T04:00:00\", \"2016-05-04T05:00:00\", \"2016-05-04T06:00:00\", \"2016-05-04T07:00:00\", \"2016-05-04T08:00:00\", \"2016-05-04T09:00:00\", \"2016-05-04T10:00:00\", \"2016-05-04T11:00:00\", \"2016-05-04T12:00:00\", \"2016-05-04T13:00:00\", \"2016-05-04T14:00:00\", \"2016-05-04T15:00:00\", \"2016-05-04T16:00:00\", \"2016-05-04T17:00:00\", \"2016-05-04T18:00:00\", \"2016-05-04T19:00:00\", \"2016-05-04T20:00:00\", \"2016-05-04T21:00:00\", \"2016-05-04T22:00:00\", \"2016-05-04T23:00:00\", \"2016-05-05T00:00:00\", \"2016-05-05T01:00:00\", \"2016-05-05T02:00:00\", \"2016-05-05T03:00:00\", \"2016-05-05T04:00:00\", \"2016-05-05T05:00:00\", \"2016-05-05T06:00:00\", \"2016-05-05T07:00:00\", \"2016-05-05T08:00:00\", \"2016-05-05T09:00:00\", \"2016-05-05T10:00:00\", \"2016-05-05T11:00:00\", \"2016-05-05T12:00:00\", \"2016-05-05T13:00:00\", \"2016-05-05T14:00:00\", \"2016-05-05T15:00:00\", \"2016-05-05T16:00:00\", \"2016-05-05T17:00:00\", \"2016-05-05T18:00:00\", \"2016-05-05T19:00:00\", \"2016-05-05T20:00:00\", \"2016-05-05T21:00:00\", \"2016-05-05T22:00:00\", \"2016-05-05T23:00:00\", \"2016-05-06T00:00:00\", \"2016-05-06T01:00:00\", \"2016-05-06T02:00:00\", \"2016-05-06T03:00:00\", \"2016-05-06T04:00:00\", \"2016-05-06T05:00:00\", \"2016-05-06T06:00:00\", \"2016-05-06T07:00:00\", \"2016-05-06T08:00:00\", \"2016-05-06T09:00:00\", \"2016-05-06T10:00:00\", \"2016-05-06T11:00:00\", \"2016-05-06T12:00:00\", \"2016-05-06T13:00:00\", \"2016-05-06T14:00:00\", \"2016-05-06T15:00:00\", \"2016-05-06T16:00:00\", \"2016-05-06T17:00:00\", \"2016-05-06T18:00:00\", \"2016-05-06T19:00:00\", \"2016-05-06T20:00:00\", \"2016-05-06T21:00:00\", \"2016-05-06T22:00:00\", \"2016-05-06T23:00:00\", \"2016-05-07T00:00:00\", \"2016-05-07T01:00:00\", \"2016-05-07T02:00:00\", \"2016-05-07T03:00:00\", \"2016-05-07T04:00:00\", \"2016-05-07T05:00:00\", \"2016-05-07T06:00:00\", \"2016-05-07T07:00:00\", \"2016-05-07T08:00:00\", \"2016-05-07T09:00:00\", \"2016-05-07T10:00:00\", \"2016-05-07T11:00:00\", \"2016-05-07T12:00:00\", \"2016-05-07T13:00:00\", \"2016-05-07T14:00:00\", \"2016-05-07T15:00:00\", \"2016-05-07T16:00:00\", \"2016-05-07T17:00:00\", \"2016-05-07T18:00:00\", \"2016-05-07T19:00:00\", \"2016-05-07T20:00:00\", \"2016-05-07T21:00:00\", \"2016-05-07T22:00:00\", \"2016-05-07T23:00:00\", \"2016-05-08T00:00:00\", \"2016-05-08T01:00:00\", \"2016-05-08T02:00:00\", \"2016-05-08T03:00:00\", \"2016-05-08T04:00:00\", \"2016-05-08T05:00:00\", \"2016-05-08T06:00:00\", \"2016-05-08T07:00:00\", \"2016-05-08T08:00:00\", \"2016-05-08T09:00:00\", \"2016-05-08T10:00:00\", \"2016-05-08T11:00:00\", \"2016-05-08T12:00:00\", \"2016-05-08T13:00:00\", \"2016-05-08T14:00:00\", \"2016-05-08T15:00:00\", \"2016-05-08T16:00:00\", \"2016-05-08T17:00:00\", \"2016-05-08T18:00:00\", \"2016-05-08T19:00:00\", \"2016-05-08T20:00:00\", \"2016-05-08T21:00:00\", \"2016-05-08T22:00:00\", \"2016-05-08T23:00:00\", \"2016-05-09T00:00:00\"], \"y\": [3.9322495460510254, 3.8851089477539062, 4.152622222900391, 3.8861372470855713, 3.8985564708709717, 3.9377076625823975, 4.019468784332275, 4.073444843292236, 4.236880779266357, 4.744416236877441, 4.640578269958496, 4.33726692199707, 4.652881622314453, 4.557343006134033, 4.395308494567871, 4.934105396270752, 5.6149139404296875, 5.37156343460083, 5.521973133087158, 4.965371131896973, 4.804247856140137, 4.433277606964111, 4.085413932800293, 4.034160614013672, 3.9092838764190674, 3.9081742763519287, 3.928457260131836, 3.8881232738494873, 3.911724328994751, 3.914273977279663, 4.1842360496521, 5.676234722137451, 4.928778171539307, 4.463377475738525, 4.588029861450195, 4.252185344696045, 4.042436122894287, 4.6154069900512695, 4.242104530334473, 4.942104816436768, 4.580522537231445, 5.45751953125, 5.32064151763916, 5.2688374519348145, 5.0879106521606445, 4.4893798828125, 4.080419540405273, 4.857178688049316, 4.066822528839111, 4.148204326629639, 3.907599449157715, 3.851750373840332, 4.043380260467529, 4.038599014282227, 3.965487003326416, 4.81923246383667, 4.594757556915283, 4.206420421600342, 4.092118740081787, 4.261055946350098, 4.298912525177002, 4.1155242919921875, 4.045673847198486, 4.3065571784973145, 5.230615615844727, 4.595730304718018, 5.6117706298828125, 5.582474708557129, 4.9875640869140625, 4.442176342010498, 4.001007080078125, 4.103581428527832, 3.9609334468841553, 4.017741680145264, 3.9317164421081543, 3.91510009765625, 3.912003755569458, 3.9154887199401855, 4.076889514923096, 4.773995876312256, 5.4214067459106445, 5.134097099304199, 4.539203643798828, 4.327629566192627, 4.583776950836182, 4.230547904968262, 4.531635284423828, 4.567554950714111, 4.7537126541137695, 4.614758491516113, 5.683391571044922, 4.885134696960449, 4.605048656463623, 4.3898797035217285, 4.083943843841553, 3.933530807495117, 3.920652389526367, 3.913302183151245, 3.8944833278656006, 3.9374377727508545, 3.9759998321533203, 4.018980503082275, 3.9438886642456055, 4.122377872467041, 5.261527061462402, 5.3323445320129395, 4.588418960571289, 4.875582218170166, 4.98102331161499, 4.569819927215576, 4.152649402618408, 4.14157772064209, 4.317935466766357, 4.8379106521606445, 5.652151584625244, 5.448570728302002, 4.7104692459106445, 4.204556465148926, 3.9308621883392334, 3.928697347640991, 3.9124038219451904, 3.9040820598602295, 3.906418800354004, 3.94569730758667, 4.010808944702148, 4.055465221405029, 4.0382981300354, 4.386688709259033, 5.353866100311279, 5.657846927642822, 5.2306342124938965, 4.705256938934326, 4.99338436126709, 4.861315727233887, 4.654292106628418, 5.045204162597656, 5.620084762573242, 4.889585494995117, 5.203427314758301, 5.22416877746582, 4.729897975921631, 4.540790557861328, 4.016842842102051, 3.9220833778381348, 3.976853847503662, 3.9023685455322266, 3.9051132202148438, 3.955751419067383, 4.013391017913818, 4.065045356750488, 4.055901527404785, 4.182508945465088, 5.0802435874938965, 5.4660868644714355, 5.4041643142700195, 4.912881851196289, 5.048760414123535, 4.396516799926758, 4.55438232421875, 4.8542399406433105, 5.531853199005127, 5.844029903411865, 4.63996696472168, 5.0216965675354, 4.877155303955078, 4.511748313903809, 3.9870142936706543, 3.907172203063965, 3.9862520694732666, 3.894878625869751, 3.899005174636841, 3.9611151218414307, 4.040281295776367, 4.064347267150879, 4.106913089752197, 4.1656107902526855, 4.479647159576416, 5.2131195068359375, 5.669294834136963, 4.505103588104248, 4.335076332092285, 4.285611629486084, 4.394776344299316, 4.096809387207031, 4.11365270614624, 4.279296398162842, 4.5521063804626465, 4.161701202392578, 4.088958263397217, 4.271752834320068, 3.9991323947906494, 3.9451019763946533, 3.9062023162841797]}, {\"fill\": \"tonexty\", \"fillcolor\": \"rgba(255, 211, 0, 0.5)\", \"mode\": \"lines\", \"name\": \"99% Lower Confidence Bound\", \"type\": \"scatter\", \"x\": [\"2016-05-01T00:00:00\", \"2016-05-01T01:00:00\", \"2016-05-01T02:00:00\", \"2016-05-01T03:00:00\", \"2016-05-01T04:00:00\", \"2016-05-01T05:00:00\", \"2016-05-01T06:00:00\", \"2016-05-01T07:00:00\", \"2016-05-01T08:00:00\", \"2016-05-01T09:00:00\", \"2016-05-01T10:00:00\", \"2016-05-01T11:00:00\", \"2016-05-01T12:00:00\", \"2016-05-01T13:00:00\", \"2016-05-01T14:00:00\", \"2016-05-01T15:00:00\", \"2016-05-01T16:00:00\", \"2016-05-01T17:00:00\", \"2016-05-01T18:00:00\", \"2016-05-01T19:00:00\", \"2016-05-01T20:00:00\", \"2016-05-01T21:00:00\", \"2016-05-01T22:00:00\", \"2016-05-01T23:00:00\", \"2016-05-02T00:00:00\", \"2016-05-02T01:00:00\", \"2016-05-02T02:00:00\", \"2016-05-02T03:00:00\", \"2016-05-02T04:00:00\", \"2016-05-02T05:00:00\", \"2016-05-02T06:00:00\", \"2016-05-02T07:00:00\", \"2016-05-02T08:00:00\", \"2016-05-02T09:00:00\", \"2016-05-02T10:00:00\", \"2016-05-02T11:00:00\", \"2016-05-02T12:00:00\", \"2016-05-02T13:00:00\", \"2016-05-02T14:00:00\", \"2016-05-02T15:00:00\", \"2016-05-02T16:00:00\", \"2016-05-02T17:00:00\", \"2016-05-02T18:00:00\", \"2016-05-02T19:00:00\", \"2016-05-02T20:00:00\", \"2016-05-02T21:00:00\", \"2016-05-02T22:00:00\", \"2016-05-02T23:00:00\", \"2016-05-03T00:00:00\", \"2016-05-03T01:00:00\", \"2016-05-03T02:00:00\", \"2016-05-03T03:00:00\", \"2016-05-03T04:00:00\", \"2016-05-03T05:00:00\", \"2016-05-03T06:00:00\", \"2016-05-03T07:00:00\", \"2016-05-03T08:00:00\", \"2016-05-03T09:00:00\", \"2016-05-03T10:00:00\", \"2016-05-03T11:00:00\", \"2016-05-03T12:00:00\", \"2016-05-03T13:00:00\", \"2016-05-03T14:00:00\", \"2016-05-03T15:00:00\", \"2016-05-03T16:00:00\", \"2016-05-03T17:00:00\", \"2016-05-03T18:00:00\", \"2016-05-03T19:00:00\", \"2016-05-03T20:00:00\", \"2016-05-03T21:00:00\", \"2016-05-03T22:00:00\", \"2016-05-03T23:00:00\", \"2016-05-04T00:00:00\", \"2016-05-04T01:00:00\", \"2016-05-04T02:00:00\", \"2016-05-04T03:00:00\", \"2016-05-04T04:00:00\", \"2016-05-04T05:00:00\", \"2016-05-04T06:00:00\", \"2016-05-04T07:00:00\", \"2016-05-04T08:00:00\", \"2016-05-04T09:00:00\", \"2016-05-04T10:00:00\", \"2016-05-04T11:00:00\", \"2016-05-04T12:00:00\", \"2016-05-04T13:00:00\", \"2016-05-04T14:00:00\", \"2016-05-04T15:00:00\", \"2016-05-04T16:00:00\", \"2016-05-04T17:00:00\", \"2016-05-04T18:00:00\", \"2016-05-04T19:00:00\", \"2016-05-04T20:00:00\", \"2016-05-04T21:00:00\", \"2016-05-04T22:00:00\", \"2016-05-04T23:00:00\", \"2016-05-05T00:00:00\", \"2016-05-05T01:00:00\", \"2016-05-05T02:00:00\", \"2016-05-05T03:00:00\", \"2016-05-05T04:00:00\", \"2016-05-05T05:00:00\", \"2016-05-05T06:00:00\", \"2016-05-05T07:00:00\", \"2016-05-05T08:00:00\", \"2016-05-05T09:00:00\", \"2016-05-05T10:00:00\", \"2016-05-05T11:00:00\", \"2016-05-05T12:00:00\", \"2016-05-05T13:00:00\", \"2016-05-05T14:00:00\", \"2016-05-05T15:00:00\", \"2016-05-05T16:00:00\", \"2016-05-05T17:00:00\", \"2016-05-05T18:00:00\", \"2016-05-05T19:00:00\", \"2016-05-05T20:00:00\", \"2016-05-05T21:00:00\", \"2016-05-05T22:00:00\", \"2016-05-05T23:00:00\", \"2016-05-06T00:00:00\", \"2016-05-06T01:00:00\", \"2016-05-06T02:00:00\", \"2016-05-06T03:00:00\", \"2016-05-06T04:00:00\", \"2016-05-06T05:00:00\", \"2016-05-06T06:00:00\", \"2016-05-06T07:00:00\", \"2016-05-06T08:00:00\", \"2016-05-06T09:00:00\", \"2016-05-06T10:00:00\", \"2016-05-06T11:00:00\", \"2016-05-06T12:00:00\", \"2016-05-06T13:00:00\", \"2016-05-06T14:00:00\", \"2016-05-06T15:00:00\", \"2016-05-06T16:00:00\", \"2016-05-06T17:00:00\", \"2016-05-06T18:00:00\", \"2016-05-06T19:00:00\", \"2016-05-06T20:00:00\", \"2016-05-06T21:00:00\", \"2016-05-06T22:00:00\", \"2016-05-06T23:00:00\", \"2016-05-07T00:00:00\", \"2016-05-07T01:00:00\", \"2016-05-07T02:00:00\", \"2016-05-07T03:00:00\", \"2016-05-07T04:00:00\", \"2016-05-07T05:00:00\", \"2016-05-07T06:00:00\", \"2016-05-07T07:00:00\", \"2016-05-07T08:00:00\", \"2016-05-07T09:00:00\", \"2016-05-07T10:00:00\", \"2016-05-07T11:00:00\", \"2016-05-07T12:00:00\", \"2016-05-07T13:00:00\", \"2016-05-07T14:00:00\", \"2016-05-07T15:00:00\", \"2016-05-07T16:00:00\", \"2016-05-07T17:00:00\", \"2016-05-07T18:00:00\", \"2016-05-07T19:00:00\", \"2016-05-07T20:00:00\", \"2016-05-07T21:00:00\", \"2016-05-07T22:00:00\", \"2016-05-07T23:00:00\", \"2016-05-08T00:00:00\", \"2016-05-08T01:00:00\", \"2016-05-08T02:00:00\", \"2016-05-08T03:00:00\", \"2016-05-08T04:00:00\", \"2016-05-08T05:00:00\", \"2016-05-08T06:00:00\", \"2016-05-08T07:00:00\", \"2016-05-08T08:00:00\", \"2016-05-08T09:00:00\", \"2016-05-08T10:00:00\", \"2016-05-08T11:00:00\", \"2016-05-08T12:00:00\", \"2016-05-08T13:00:00\", \"2016-05-08T14:00:00\", \"2016-05-08T15:00:00\", \"2016-05-08T16:00:00\", \"2016-05-08T17:00:00\", \"2016-05-08T18:00:00\", \"2016-05-08T19:00:00\", \"2016-05-08T20:00:00\", \"2016-05-08T21:00:00\", \"2016-05-08T22:00:00\", \"2016-05-08T23:00:00\", \"2016-05-09T00:00:00\"], \"y\": [3.789642333984375, 3.737830638885498, 3.6781117916107178, 3.782740354537964, 3.7743403911590576, 3.7383720874786377, 3.7920639514923096, 3.817243814468384, 3.9229464530944824, 4.24073600769043, 4.132555961608887, 3.983762741088867, 4.074763298034668, 3.9692444801330566, 3.917295455932617, 4.370666027069092, 4.946376800537109, 4.836768627166748, 5.032688617706299, 4.628915786743164, 4.494413375854492, 4.11758279800415, 3.820371627807617, 3.782123565673828, 3.821122407913208, 3.7632381916046143, 3.7664670944213867, 3.7764270305633545, 3.6575725078582764, 3.6893727779388428, 3.7795064449310303, 5.116603374481201, 4.0344061851501465, 3.895059108734131, 3.6403846740722656, 3.6453185081481934, 3.784916400909424, 4.07868766784668, 3.80159854888916, 4.396551609039307, 4.109140396118164, 4.868459701538086, 4.928335189819336, 4.750289440155029, 4.533524513244629, 4.072364807128906, 3.7888641357421875, 3.6650094985961914, 3.8213322162628174, 3.680811643600464, 3.814012050628662, 3.693019390106201, 3.6988184452056885, 3.8145477771759033, 3.772639274597168, 4.251765727996826, 4.175014972686768, 3.9149651527404785, 3.842682361602783, 3.9514644145965576, 3.7863783836364746, 3.7642579078674316, 3.838413715362549, 3.9766814708709717, 4.636686325073242, 4.066300868988037, 5.1282501220703125, 4.607929229736328, 4.393915176391602, 3.8900647163391113, 3.8316586017608643, 3.779782772064209, 3.795154333114624, 3.6828718185424805, 3.7856931686401367, 3.792938232421875, 3.80008864402771, 3.7512192726135254, 3.7860944271087646, 4.440053462982178, 4.440221786499023, 4.596573829650879, 4.14193058013916, 3.943167209625244, 4.049073696136475, 3.924091100692749, 4.167919158935547, 4.267354488372803, 4.403587341308594, 4.333139419555664, 5.131671905517578, 4.6330156326293945, 4.4238362312316895, 4.058882236480713, 3.8334546089172363, 3.8357391357421875, 3.830435276031494, 3.8299381732940674, 3.7470920085906982, 3.780230760574341, 3.8019418716430664, 3.8621888160705566, 3.8509445190429688, 3.936577558517456, 4.623697280883789, 4.709080219268799, 3.6988344192504883, 4.157689571380615, 4.516211032867432, 4.252612590789795, 3.786189079284668, 3.8246419429779053, 4.017082691192627, 4.320993423461914, 5.24727201461792, 4.828235149383545, 4.3180084228515625, 3.8068883419036865, 3.8068716526031494, 3.8254053592681885, 3.820843458175659, 3.805434465408325, 3.7284164428710938, 3.7705039978027344, 3.81044340133667, 3.8484954833984375, 3.8487625122070312, 4.113768100738525, 4.76432466506958, 4.7362189292907715, 3.9408013820648193, 4.192579746246338, 4.3295793533325195, 4.27772331237793, 4.113027572631836, 4.58392333984375, 4.589473724365234, 4.254371643066406, 4.795729637145996, 4.729336738586426, 4.434926509857178, 4.220950126647949, 3.8321712017059326, 3.7893357276916504, 3.768686294555664, 3.8205204010009766, 3.7812438011169434, 3.80092716217041, 3.806823253631592, 3.871140956878662, 3.8660852909088135, 3.9497501850128174, 4.546017169952393, 4.7842488288879395, 4.350655555725098, 4.560981750488281, 4.593198776245117, 4.039299011230469, 4.06550407409668, 4.424342632293701, 4.920767307281494, 5.087061405181885, 4.292943954467773, 4.689141750335693, 4.5563507080078125, 4.2508087158203125, 3.8280863761901855, 3.79616641998291, 3.784479856491089, 3.81900954246521, 3.7949225902557373, 3.7812626361846924, 3.846985340118408, 3.8561410903930664, 3.915839672088623, 3.9429945945739746, 4.141276836395264, 4.686164855957031, 5.040562152862549, 3.8981289863586426, 3.921992540359497, 3.788403272628784, 3.762598991394043, 3.7822389602661133, 3.8197574615478516, 3.9616541862487793, 4.087541103363037, 3.84769344329834, 3.8134539127349854, 3.8800694942474365, 3.8264925479888916, 3.8277313709259033, 3.817722797393799]}, {\"mode\": \"lines\", \"name\": \"Real Values\", \"type\": \"scatter\", \"x\": [\"2016-05-01T00:00:00\", \"2016-05-01T01:00:00\", \"2016-05-01T02:00:00\", \"2016-05-01T03:00:00\", \"2016-05-01T04:00:00\", \"2016-05-01T05:00:00\", \"2016-05-01T06:00:00\", \"2016-05-01T07:00:00\", \"2016-05-01T08:00:00\", \"2016-05-01T09:00:00\", \"2016-05-01T10:00:00\", \"2016-05-01T11:00:00\", \"2016-05-01T12:00:00\", \"2016-05-01T13:00:00\", \"2016-05-01T14:00:00\", \"2016-05-01T15:00:00\", \"2016-05-01T16:00:00\", \"2016-05-01T17:00:00\", \"2016-05-01T18:00:00\", \"2016-05-01T19:00:00\", \"2016-05-01T20:00:00\", \"2016-05-01T21:00:00\", \"2016-05-01T22:00:00\", \"2016-05-01T23:00:00\", \"2016-05-02T00:00:00\", \"2016-05-02T01:00:00\", \"2016-05-02T02:00:00\", \"2016-05-02T03:00:00\", \"2016-05-02T04:00:00\", \"2016-05-02T05:00:00\", \"2016-05-02T06:00:00\", \"2016-05-02T07:00:00\", \"2016-05-02T08:00:00\", \"2016-05-02T09:00:00\", \"2016-05-02T10:00:00\", \"2016-05-02T11:00:00\", \"2016-05-02T12:00:00\", \"2016-05-02T13:00:00\", \"2016-05-02T14:00:00\", \"2016-05-02T15:00:00\", \"2016-05-02T16:00:00\", \"2016-05-02T17:00:00\", \"2016-05-02T18:00:00\", \"2016-05-02T19:00:00\", \"2016-05-02T20:00:00\", \"2016-05-02T21:00:00\", \"2016-05-02T22:00:00\", \"2016-05-02T23:00:00\", \"2016-05-03T00:00:00\", \"2016-05-03T01:00:00\", \"2016-05-03T02:00:00\", \"2016-05-03T03:00:00\", \"2016-05-03T04:00:00\", \"2016-05-03T05:00:00\", \"2016-05-03T06:00:00\", \"2016-05-03T07:00:00\", \"2016-05-03T08:00:00\", \"2016-05-03T09:00:00\", \"2016-05-03T10:00:00\", \"2016-05-03T11:00:00\", \"2016-05-03T12:00:00\", \"2016-05-03T13:00:00\", \"2016-05-03T14:00:00\", \"2016-05-03T15:00:00\", \"2016-05-03T16:00:00\", \"2016-05-03T17:00:00\", \"2016-05-03T18:00:00\", \"2016-05-03T19:00:00\", \"2016-05-03T20:00:00\", \"2016-05-03T21:00:00\", \"2016-05-03T22:00:00\", \"2016-05-03T23:00:00\", \"2016-05-04T00:00:00\", \"2016-05-04T01:00:00\", \"2016-05-04T02:00:00\", \"2016-05-04T03:00:00\", \"2016-05-04T04:00:00\", \"2016-05-04T05:00:00\", \"2016-05-04T06:00:00\", \"2016-05-04T07:00:00\", \"2016-05-04T08:00:00\", \"2016-05-04T09:00:00\", \"2016-05-04T10:00:00\", \"2016-05-04T11:00:00\", \"2016-05-04T12:00:00\", \"2016-05-04T13:00:00\", \"2016-05-04T14:00:00\", \"2016-05-04T15:00:00\", \"2016-05-04T16:00:00\", \"2016-05-04T17:00:00\", \"2016-05-04T18:00:00\", \"2016-05-04T19:00:00\", \"2016-05-04T20:00:00\", \"2016-05-04T21:00:00\", \"2016-05-04T22:00:00\", \"2016-05-04T23:00:00\", \"2016-05-05T00:00:00\", \"2016-05-05T01:00:00\", \"2016-05-05T02:00:00\", \"2016-05-05T03:00:00\", \"2016-05-05T04:00:00\", \"2016-05-05T05:00:00\", \"2016-05-05T06:00:00\", \"2016-05-05T07:00:00\", \"2016-05-05T08:00:00\", \"2016-05-05T09:00:00\", \"2016-05-05T10:00:00\", \"2016-05-05T11:00:00\", \"2016-05-05T12:00:00\", \"2016-05-05T13:00:00\", \"2016-05-05T14:00:00\", \"2016-05-05T15:00:00\", \"2016-05-05T16:00:00\", \"2016-05-05T17:00:00\", \"2016-05-05T18:00:00\", \"2016-05-05T19:00:00\", \"2016-05-05T20:00:00\", \"2016-05-05T21:00:00\", \"2016-05-05T22:00:00\", \"2016-05-05T23:00:00\", \"2016-05-06T00:00:00\", \"2016-05-06T01:00:00\", \"2016-05-06T02:00:00\", \"2016-05-06T03:00:00\", \"2016-05-06T04:00:00\", \"2016-05-06T05:00:00\", \"2016-05-06T06:00:00\", \"2016-05-06T07:00:00\", \"2016-05-06T08:00:00\", \"2016-05-06T09:00:00\", \"2016-05-06T10:00:00\", \"2016-05-06T11:00:00\", \"2016-05-06T12:00:00\", \"2016-05-06T13:00:00\", \"2016-05-06T14:00:00\", \"2016-05-06T15:00:00\", \"2016-05-06T16:00:00\", \"2016-05-06T17:00:00\", \"2016-05-06T18:00:00\", \"2016-05-06T19:00:00\", \"2016-05-06T20:00:00\", \"2016-05-06T21:00:00\", \"2016-05-06T22:00:00\", \"2016-05-06T23:00:00\", \"2016-05-07T00:00:00\", \"2016-05-07T01:00:00\", \"2016-05-07T02:00:00\", \"2016-05-07T03:00:00\", \"2016-05-07T04:00:00\", \"2016-05-07T05:00:00\", \"2016-05-07T06:00:00\", \"2016-05-07T07:00:00\", \"2016-05-07T08:00:00\", \"2016-05-07T09:00:00\", \"2016-05-07T10:00:00\", \"2016-05-07T11:00:00\", \"2016-05-07T12:00:00\", \"2016-05-07T13:00:00\", \"2016-05-07T14:00:00\", \"2016-05-07T15:00:00\", \"2016-05-07T16:00:00\", \"2016-05-07T17:00:00\", \"2016-05-07T18:00:00\", \"2016-05-07T19:00:00\", \"2016-05-07T20:00:00\", \"2016-05-07T21:00:00\", \"2016-05-07T22:00:00\", \"2016-05-07T23:00:00\", \"2016-05-08T00:00:00\", \"2016-05-08T01:00:00\", \"2016-05-08T02:00:00\", \"2016-05-08T03:00:00\", \"2016-05-08T04:00:00\", \"2016-05-08T05:00:00\", \"2016-05-08T06:00:00\", \"2016-05-08T07:00:00\", \"2016-05-08T08:00:00\", \"2016-05-08T09:00:00\", \"2016-05-08T10:00:00\", \"2016-05-08T11:00:00\", \"2016-05-08T12:00:00\", \"2016-05-08T13:00:00\", \"2016-05-08T14:00:00\", \"2016-05-08T15:00:00\", \"2016-05-08T16:00:00\", \"2016-05-08T17:00:00\", \"2016-05-08T18:00:00\", \"2016-05-08T19:00:00\", \"2016-05-08T20:00:00\", \"2016-05-08T21:00:00\", \"2016-05-08T22:00:00\", \"2016-05-08T23:00:00\", \"2016-05-09T00:00:00\"], \"y\": [3.9448128282511368, 4.007333185232471, 3.8781214537524646, 3.7297014486341915, 3.9765615265657175, 3.9448128282511368, 3.9765615265657175, 4.0661736852554045, 4.442651256490317, 4.499809670330265, 4.148411783492376, 4.518158808998462, 4.5712686343124105, 4.360973225476049, 4.685212893661628, 4.653960350157523, 5.3706380281276624, 5.714832310842786, 5.604575824572753, 4.75932086581535, 4.669708707125663, 4.442651256490317, 4.248495242049359, 3.8781214537524646, 4.007333185232471, 3.9448128282511368, 3.6888794541139363, 3.9765615265657175, 3.9448128282511368, 4.637960008811082, 4.339467020255086, 5.135798437050262, 3.9765615265657175, 4.007333185232471, 3.9765615265657175, 3.9448128282511368, 4.402645921876617, 4.402645921876617, 4.382026634673881, 4.402645921876617, 4.653960350157523, 5.579729825986222, 4.841558964052322, 4.90527477843843, 4.700480365792417, 3.9765615265657175, 4.174387269895637, 4.007333185232471, 4.007333185232471, 3.6463198396951406, 3.9765615265657175, 3.9765615265657175, 3.912023005428146, 3.9448128282511368, 4.2243976904702984, 3.912023005428146, 4.007333185232471, 3.6888794541139363, 3.9448128282511368, 3.9765615265657175, 3.9765615265657175, 3.6888794541139363, 4.037186148382152, 3.912023005428146, 4.174387269895637, 5.501258210544727, 4.892852258439873, 4.929666231562589, 4.773505500807306, 4.037186148382152, 4.007333185232471, 3.7297014486341915, 3.9448128282511368, 3.9765615265657175, 4.007333185232471, 3.6463198396951406, 3.912023005428146, 4.199705077879927, 4.74493212836325, 4.0943445622221, 5.1647859739235145, 4.272025739459553, 4.422848629194137, 4.339467020255086, 4.174387269895637, 4.248495242049359, 4.248495242049359, 4.2243976904702984, 4.402645921876617, 4.7303333289420975, 4.892852258439873, 4.715518243156957, 4.605170185988092, 4.31748811353631, 4.007333185232471, 4.007333185232471, 3.6888794541139363, 4.037186148382152, 3.9448128282511368, 4.007333185232471, 3.9448128282511368, 3.6463198396951406, 4.0661736852554045, 5.115995809754082, 5.155216522907363, 4.442651256490317, 4.5712686343124105, 4.481117537318112, 4.637960008811082, 3.7297014486341915, 4.007333185232471, 4.0661736852554045, 3.9448128282511368, 5.314846668499247, 5.085536602269373, 4.58836306767171, 4.58836306767171, 4.272025739459553, 4.037186148382152, 4.007333185232471, 3.7297014486341915, 4.0661736852554045, 3.912023005428146, 4.0661736852554045, 3.912023005428146, 3.9448128282511368, 4.295015257684252, 5.508037897530106, 4.553876891600541, 5.610692051590189, 4.499809670330265, 4.700480365792417, 4.929666231562589, 4.382026634673881, 5.075173815233827, 4.31748811353631, 4.248495242049359, 4.53617731450114, 5.174264717878057, 4.841558964052322, 4.75932086581535, 4.272025739459553, 3.9765615265657175, 4.0661736852554045, 3.9448128282511368, 4.037186148382152, 3.9765615265657175, 4.007333185232471, 4.007333185232471, 3.9448128282511368, 3.9765615265657175, 4.99946199349813, 4.8012850649143815, 5.032614200815031, 5.183654458227897, 5.085536602269373, 4.4620693423474185, 4.31748811353631, 4.481117537318112, 4.637960008811082, 4.518158808998462, 4.422848629194137, 5.652489180268651, 4.787491742782046, 4.4620693423474185, 4.037186148382152, 4.0661736852554045, 4.037186148382152, 4.0661736852554045, 3.9448128282511368, 4.007333185232471, 4.037186148382152, 3.912023005428146, 4.037186148382152, 3.912023005428146, 4.0943445622221, 5.211305989558407, 4.965172920019499, 4.90527477843843, 3.912023005428146, 4.037186148382152, 4.037186148382152, 4.037186148382152, 3.912023005428146, 4.007333185232471, 4.037186148382152, 3.912023005428146, 4.0943445622221, 4.360973225476049, 4.148411783492376, 4.0661736852554045, 3.9765615265657175, 4.007333185232471]}],\n",
       "                        {\"template\": {\"data\": {\"bar\": [{\"error_x\": {\"color\": \"#2a3f5f\"}, \"error_y\": {\"color\": \"#2a3f5f\"}, \"marker\": {\"line\": {\"color\": \"#E5ECF6\", \"width\": 0.5}}, \"type\": \"bar\"}], \"barpolar\": [{\"marker\": {\"line\": {\"color\": \"#E5ECF6\", \"width\": 0.5}}, \"type\": \"barpolar\"}], \"carpet\": [{\"aaxis\": {\"endlinecolor\": \"#2a3f5f\", \"gridcolor\": \"white\", \"linecolor\": \"white\", \"minorgridcolor\": \"white\", \"startlinecolor\": \"#2a3f5f\"}, \"baxis\": {\"endlinecolor\": \"#2a3f5f\", \"gridcolor\": \"white\", \"linecolor\": \"white\", \"minorgridcolor\": \"white\", \"startlinecolor\": \"#2a3f5f\"}, \"type\": \"carpet\"}], \"choropleth\": [{\"colorbar\": {\"outlinewidth\": 0, \"ticks\": \"\"}, \"type\": \"choropleth\"}], \"contour\": [{\"colorbar\": {\"outlinewidth\": 0, \"ticks\": \"\"}, \"colorscale\": [[0.0, \"#0d0887\"], [0.1111111111111111, \"#46039f\"], [0.2222222222222222, \"#7201a8\"], [0.3333333333333333, \"#9c179e\"], [0.4444444444444444, \"#bd3786\"], [0.5555555555555556, \"#d8576b\"], [0.6666666666666666, \"#ed7953\"], [0.7777777777777778, \"#fb9f3a\"], [0.8888888888888888, \"#fdca26\"], [1.0, \"#f0f921\"]], \"type\": \"contour\"}], \"contourcarpet\": [{\"colorbar\": {\"outlinewidth\": 0, \"ticks\": \"\"}, \"type\": \"contourcarpet\"}], \"heatmap\": [{\"colorbar\": {\"outlinewidth\": 0, \"ticks\": \"\"}, \"colorscale\": [[0.0, \"#0d0887\"], [0.1111111111111111, \"#46039f\"], [0.2222222222222222, \"#7201a8\"], [0.3333333333333333, \"#9c179e\"], [0.4444444444444444, \"#bd3786\"], [0.5555555555555556, \"#d8576b\"], [0.6666666666666666, \"#ed7953\"], [0.7777777777777778, \"#fb9f3a\"], [0.8888888888888888, \"#fdca26\"], [1.0, \"#f0f921\"]], \"type\": \"heatmap\"}], \"heatmapgl\": [{\"colorbar\": {\"outlinewidth\": 0, \"ticks\": \"\"}, \"colorscale\": [[0.0, \"#0d0887\"], [0.1111111111111111, \"#46039f\"], [0.2222222222222222, \"#7201a8\"], [0.3333333333333333, \"#9c179e\"], [0.4444444444444444, \"#bd3786\"], [0.5555555555555556, \"#d8576b\"], [0.6666666666666666, \"#ed7953\"], [0.7777777777777778, \"#fb9f3a\"], [0.8888888888888888, \"#fdca26\"], [1.0, \"#f0f921\"]], \"type\": \"heatmapgl\"}], \"histogram\": [{\"marker\": {\"colorbar\": {\"outlinewidth\": 0, \"ticks\": \"\"}}, \"type\": \"histogram\"}], \"histogram2d\": [{\"colorbar\": {\"outlinewidth\": 0, \"ticks\": \"\"}, \"colorscale\": [[0.0, \"#0d0887\"], [0.1111111111111111, \"#46039f\"], [0.2222222222222222, \"#7201a8\"], [0.3333333333333333, \"#9c179e\"], [0.4444444444444444, \"#bd3786\"], [0.5555555555555556, \"#d8576b\"], [0.6666666666666666, \"#ed7953\"], [0.7777777777777778, \"#fb9f3a\"], [0.8888888888888888, \"#fdca26\"], [1.0, \"#f0f921\"]], \"type\": \"histogram2d\"}], \"histogram2dcontour\": [{\"colorbar\": {\"outlinewidth\": 0, \"ticks\": \"\"}, \"colorscale\": [[0.0, \"#0d0887\"], [0.1111111111111111, \"#46039f\"], [0.2222222222222222, \"#7201a8\"], [0.3333333333333333, \"#9c179e\"], [0.4444444444444444, \"#bd3786\"], [0.5555555555555556, \"#d8576b\"], [0.6666666666666666, \"#ed7953\"], [0.7777777777777778, \"#fb9f3a\"], [0.8888888888888888, \"#fdca26\"], [1.0, \"#f0f921\"]], \"type\": \"histogram2dcontour\"}], \"mesh3d\": [{\"colorbar\": {\"outlinewidth\": 0, \"ticks\": \"\"}, \"type\": \"mesh3d\"}], \"parcoords\": [{\"line\": {\"colorbar\": {\"outlinewidth\": 0, \"ticks\": \"\"}}, \"type\": \"parcoords\"}], \"pie\": [{\"automargin\": true, \"type\": \"pie\"}], \"scatter\": [{\"marker\": {\"colorbar\": {\"outlinewidth\": 0, \"ticks\": \"\"}}, \"type\": \"scatter\"}], \"scatter3d\": [{\"line\": {\"colorbar\": {\"outlinewidth\": 0, \"ticks\": \"\"}}, \"marker\": {\"colorbar\": {\"outlinewidth\": 0, \"ticks\": \"\"}}, \"type\": \"scatter3d\"}], \"scattercarpet\": [{\"marker\": {\"colorbar\": {\"outlinewidth\": 0, \"ticks\": \"\"}}, \"type\": \"scattercarpet\"}], \"scattergeo\": [{\"marker\": {\"colorbar\": {\"outlinewidth\": 0, \"ticks\": \"\"}}, \"type\": \"scattergeo\"}], \"scattergl\": [{\"marker\": {\"colorbar\": {\"outlinewidth\": 0, \"ticks\": \"\"}}, \"type\": \"scattergl\"}], \"scattermapbox\": [{\"marker\": {\"colorbar\": {\"outlinewidth\": 0, \"ticks\": \"\"}}, \"type\": \"scattermapbox\"}], \"scatterpolar\": [{\"marker\": {\"colorbar\": {\"outlinewidth\": 0, \"ticks\": \"\"}}, \"type\": \"scatterpolar\"}], \"scatterpolargl\": [{\"marker\": {\"colorbar\": {\"outlinewidth\": 0, \"ticks\": \"\"}}, \"type\": \"scatterpolargl\"}], \"scatterternary\": [{\"marker\": {\"colorbar\": {\"outlinewidth\": 0, \"ticks\": \"\"}}, \"type\": \"scatterternary\"}], \"surface\": [{\"colorbar\": {\"outlinewidth\": 0, \"ticks\": \"\"}, \"colorscale\": [[0.0, \"#0d0887\"], [0.1111111111111111, \"#46039f\"], [0.2222222222222222, \"#7201a8\"], [0.3333333333333333, \"#9c179e\"], [0.4444444444444444, \"#bd3786\"], [0.5555555555555556, \"#d8576b\"], [0.6666666666666666, \"#ed7953\"], [0.7777777777777778, \"#fb9f3a\"], [0.8888888888888888, \"#fdca26\"], [1.0, \"#f0f921\"]], \"type\": \"surface\"}], \"table\": [{\"cells\": {\"fill\": {\"color\": \"#EBF0F8\"}, \"line\": {\"color\": \"white\"}}, \"header\": {\"fill\": {\"color\": \"#C8D4E3\"}, \"line\": {\"color\": \"white\"}}, \"type\": \"table\"}]}, \"layout\": {\"annotationdefaults\": {\"arrowcolor\": \"#2a3f5f\", \"arrowhead\": 0, \"arrowwidth\": 1}, \"coloraxis\": {\"colorbar\": {\"outlinewidth\": 0, \"ticks\": \"\"}}, \"colorscale\": {\"diverging\": [[0, \"#8e0152\"], [0.1, \"#c51b7d\"], [0.2, \"#de77ae\"], [0.3, \"#f1b6da\"], [0.4, \"#fde0ef\"], [0.5, \"#f7f7f7\"], [0.6, \"#e6f5d0\"], [0.7, \"#b8e186\"], [0.8, \"#7fbc41\"], [0.9, \"#4d9221\"], [1, \"#276419\"]], \"sequential\": [[0.0, \"#0d0887\"], [0.1111111111111111, \"#46039f\"], [0.2222222222222222, \"#7201a8\"], [0.3333333333333333, \"#9c179e\"], [0.4444444444444444, \"#bd3786\"], [0.5555555555555556, \"#d8576b\"], [0.6666666666666666, \"#ed7953\"], [0.7777777777777778, \"#fb9f3a\"], [0.8888888888888888, \"#fdca26\"], [1.0, \"#f0f921\"]], \"sequentialminus\": [[0.0, \"#0d0887\"], [0.1111111111111111, \"#46039f\"], [0.2222222222222222, \"#7201a8\"], [0.3333333333333333, \"#9c179e\"], [0.4444444444444444, \"#bd3786\"], [0.5555555555555556, \"#d8576b\"], [0.6666666666666666, \"#ed7953\"], [0.7777777777777778, \"#fb9f3a\"], [0.8888888888888888, \"#fdca26\"], [1.0, \"#f0f921\"]]}, \"colorway\": [\"#636efa\", \"#EF553B\", \"#00cc96\", \"#ab63fa\", \"#FFA15A\", \"#19d3f3\", \"#FF6692\", \"#B6E880\", \"#FF97FF\", \"#FECB52\"], \"font\": {\"color\": \"#2a3f5f\"}, \"geo\": {\"bgcolor\": \"white\", \"lakecolor\": \"white\", \"landcolor\": \"#E5ECF6\", \"showlakes\": true, \"showland\": true, \"subunitcolor\": \"white\"}, \"hoverlabel\": {\"align\": \"left\"}, \"hovermode\": \"closest\", \"mapbox\": {\"style\": \"light\"}, \"paper_bgcolor\": \"white\", \"plot_bgcolor\": \"#E5ECF6\", \"polar\": {\"angularaxis\": {\"gridcolor\": \"white\", \"linecolor\": \"white\", \"ticks\": \"\"}, \"bgcolor\": \"#E5ECF6\", \"radialaxis\": {\"gridcolor\": \"white\", \"linecolor\": \"white\", \"ticks\": \"\"}}, \"scene\": {\"xaxis\": {\"backgroundcolor\": \"#E5ECF6\", \"gridcolor\": \"white\", \"gridwidth\": 2, \"linecolor\": \"white\", \"showbackground\": true, \"ticks\": \"\", \"zerolinecolor\": \"white\"}, \"yaxis\": {\"backgroundcolor\": \"#E5ECF6\", \"gridcolor\": \"white\", \"gridwidth\": 2, \"linecolor\": \"white\", \"showbackground\": true, \"ticks\": \"\", \"zerolinecolor\": \"white\"}, \"zaxis\": {\"backgroundcolor\": \"#E5ECF6\", \"gridcolor\": \"white\", \"gridwidth\": 2, \"linecolor\": \"white\", \"showbackground\": true, \"ticks\": \"\", \"zerolinecolor\": \"white\"}}, \"shapedefaults\": {\"line\": {\"color\": \"#2a3f5f\"}}, \"ternary\": {\"aaxis\": {\"gridcolor\": \"white\", \"linecolor\": \"white\", \"ticks\": \"\"}, \"baxis\": {\"gridcolor\": \"white\", \"linecolor\": \"white\", \"ticks\": \"\"}, \"bgcolor\": \"#E5ECF6\", \"caxis\": {\"gridcolor\": \"white\", \"linecolor\": \"white\", \"ticks\": \"\"}}, \"title\": {\"x\": 0.05}, \"xaxis\": {\"automargin\": true, \"gridcolor\": \"white\", \"linecolor\": \"white\", \"ticks\": \"\", \"title\": {\"standoff\": 15}, \"zerolinecolor\": \"white\", \"zerolinewidth\": 2}, \"yaxis\": {\"automargin\": true, \"gridcolor\": \"white\", \"linecolor\": \"white\", \"ticks\": \"\", \"title\": {\"standoff\": 15}, \"zerolinecolor\": \"white\", \"zerolinewidth\": 2}}}, \"title\": {\"text\": \"Uncertainty Quantification for Energy Consumption Test Data\"}, \"xaxis\": {\"title\": {\"text\": \"Time\"}}, \"yaxis\": {\"title\": {\"text\": \"log_energy_consumption (log Wh)\"}}},\n",
       "                        {\"responsive\": true}\n",
       "                    ).then(function(){\n",
       "                            \n",
       "var gd = document.getElementById('5419ec03-bbee-4af8-ad35-7eea8dacd8ad');\n",
       "var x = new MutationObserver(function (mutations, observer) {{\n",
       "        var display = window.getComputedStyle(gd).display;\n",
       "        if (!display || display === 'none') {{\n",
       "            console.log([gd, 'removed!']);\n",
       "            Plotly.purge(gd);\n",
       "            observer.disconnect();\n",
       "        }}\n",
       "}});\n",
       "\n",
       "// Listen for the removal of the full notebook cells\n",
       "var notebookContainer = gd.closest('#notebook-container');\n",
       "if (notebookContainer) {{\n",
       "    x.observe(notebookContainer, {childList: true});\n",
       "}}\n",
       "\n",
       "// Listen for the clearing of the current output cell\n",
       "var outputEl = gd.closest('.output');\n",
       "if (outputEl) {{\n",
       "    x.observe(outputEl, {childList: true});\n",
       "}}\n",
       "\n",
       "                        })\n",
       "                };\n",
       "                });\n",
       "            </script>\n",
       "        </div>"
      ]
     },
     "metadata": {},
     "output_type": "display_data"
    }
   ],
   "source": [
    "import plotly.graph_objects as go\n",
    "\n",
    "test_uncertainty_plot_df = test_uncertainty_df.copy(deep=True)\n",
    "test_uncertainty_plot_df = test_uncertainty_plot_df.loc[test_uncertainty_plot_df['date'].between('2016-05-01', '2016-05-09')]\n",
    "truth_uncertainty_plot_df = testing_truth_df.copy(deep=True)\n",
    "truth_uncertainty_plot_df = truth_uncertainty_plot_df.loc[testing_truth_df['date'].between('2016-05-01', '2016-05-09')]\n",
    "\n",
    "upper_trace = go.Scatter(\n",
    "    x=test_uncertainty_plot_df['date'],\n",
    "    y=test_uncertainty_plot_df['upper_bound'],\n",
    "    mode='lines',\n",
    "    fill=None,\n",
    "    name='99% Upper Confidence Bound'\n",
    "    )\n",
    "lower_trace = go.Scatter(\n",
    "    x=test_uncertainty_plot_df['date'],\n",
    "    y=test_uncertainty_plot_df['lower_bound'],\n",
    "    mode='lines',\n",
    "    fill='tonexty',\n",
    "    fillcolor='rgba(255, 211, 0, 0.5)',\n",
    "    name='99% Lower Confidence Bound'\n",
    "    )\n",
    "real_trace = go.Scatter(\n",
    "    x=truth_uncertainty_plot_df['date'],\n",
    "    y=truth_uncertainty_plot_df['log_energy_consumption'],\n",
    "    mode='lines',\n",
    "    fill=None,\n",
    "    name='Real Values'\n",
    "    )\n",
    "\n",
    "data = [upper_trace, lower_trace, real_trace]\n",
    "\n",
    "fig = go.Figure(data=data)\n",
    "fig.update_layout(title='Uncertainty Quantification for Energy Consumption Test Data',\n",
    "                   xaxis_title='Time',\n",
    "                   yaxis_title='log_energy_consumption (log Wh)')\n",
    "\n",
    "fig.show()"
   ]
  },
  {
   "cell_type": "markdown",
   "metadata": {
    "colab_type": "text",
    "id": "7THEK4P96J0S"
   },
   "source": [
    "#### Evaluating Uncertainty"
   ]
  },
  {
   "cell_type": "markdown",
   "metadata": {
    "colab_type": "text",
    "id": "PPuR8L6D6PkL"
   },
   "source": [
    "Using multiple experiments above, 99% confidence intervals have been constructed for each the prediction of the target variable (the logarithm of appliance power consumption). While we can visually observe that the model is generally capturing the behavior of the time-series, approximately only 50% of the real data points lie within a 99% confidence interval from the mean prediction value.\n",
    "\n",
    "Despite the relatively low percentage of points within the confidence interval, it must be noted that Bayesian Neural Networks only seek to quantify the epistemic model uncertainty and does not account for aleatoric uncertainty (i.e. noise).\n",
    "\n",
    "## inherent noise を考慮していないので結果はもちろん悪い"
   ]
  },
  {
   "cell_type": "code",
   "execution_count": 44,
   "metadata": {
    "colab": {
     "base_uri": "https://localhost:8080/",
     "height": 34
    },
    "colab_type": "code",
    "id": "mV2_6qekxzLn",
    "outputId": "8089bac9-6c77-48fc-9070-6e478d6631ed"
   },
   "outputs": [
    {
     "name": "stdout",
     "output_type": "stream",
     "text": [
      "Proportion of points contained within 99% confidence interval: 0.43523316062176165\n"
     ]
    }
   ],
   "source": [
    "bounds_df = pd.DataFrame()\n",
    "\n",
    "# Using 99% confidence bounds\n",
    "bounds_df['lower_bound'] = test_uncertainty_plot_df['lower_bound']\n",
    "bounds_df['prediction'] = test_uncertainty_plot_df['log_energy_consumption_mean']\n",
    "bounds_df['real_value'] = truth_uncertainty_plot_df['log_energy_consumption']\n",
    "bounds_df['upper_bound'] = test_uncertainty_plot_df['upper_bound']\n",
    "\n",
    "bounds_df['contained'] = ((bounds_df['real_value'] >= bounds_df['lower_bound']) &\n",
    "                          (bounds_df['real_value'] <= bounds_df['upper_bound']))\n",
    "\n",
    "print(\"Proportion of points contained within 99% confidence interval:\", \n",
    "      bounds_df['contained'].mean())"
   ]
  },
  {
   "cell_type": "markdown",
   "metadata": {
    "colab_type": "text",
    "id": "CLrYy9qgxp_C"
   },
   "source": [
    "# Conclusions\n",
    "\n",
    "- Bayesian LSTMs have been able to produce comparable performance to their frequentist counterparts (all else being equal)\n",
    "- Stochastic dropout enables users to approximate the posterior distribution of the target variable, \\\n",
    "and thus construct confidence intervals for each prediction \n",
    "- Bayesian Neural Networks only attempt to account for epistemic model uncertainty and do not necessarily address aleatoric uncertainty\n",
    "- Computational overhead for repeated/multiple Bayesian LSTM predictions at inference to construct confidence intervals represent a potential challenge for real-time inference use-cases."
   ]
  }
 ],
 "metadata": {
  "colab": {
   "collapsed_sections": [],
   "include_colab_link": true,
   "name": "Energy Consumption Predictions with Bayesian LSTMs in PyTorch.ipynb",
   "provenance": []
  },
  "kernelspec": {
   "display_name": "Python 3",
   "language": "python",
   "name": "python3"
  },
  "language_info": {
   "codemirror_mode": {
    "name": "ipython",
    "version": 3
   },
   "file_extension": ".py",
   "mimetype": "text/x-python",
   "name": "python",
   "nbconvert_exporter": "python",
   "pygments_lexer": "ipython3",
   "version": "3.6.10"
  }
 },
 "nbformat": 4,
 "nbformat_minor": 1
}
